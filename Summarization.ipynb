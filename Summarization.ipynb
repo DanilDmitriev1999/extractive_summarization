{
  "nbformat": 4,
  "nbformat_minor": 0,
  "metadata": {
    "colab": {
      "name": "Summarization.ipynb",
      "provenance": [],
      "collapsed_sections": []
    },
    "kernelspec": {
      "name": "python3",
      "display_name": "Python 3"
    },
    "accelerator": "GPU",
    "widgets": {
      "application/vnd.jupyter.widget-state+json": {
        "c8b49a431c6d42bb9c59eed9169f00a1": {
          "model_module": "@jupyter-widgets/controls",
          "model_name": "HBoxModel",
          "state": {
            "_view_name": "HBoxView",
            "_dom_classes": [],
            "_model_name": "HBoxModel",
            "_view_module": "@jupyter-widgets/controls",
            "_model_module_version": "1.5.0",
            "_view_count": null,
            "_view_module_version": "1.5.0",
            "box_style": "",
            "layout": "IPY_MODEL_34903bd189bb4c03ba7477f97725753f",
            "_model_module": "@jupyter-widgets/controls",
            "children": [
              "IPY_MODEL_2fd0aec86aca451c9a747b8ecbcccde8",
              "IPY_MODEL_351b253dfed4423f94d0a1eb54c8dfbd"
            ]
          }
        },
        "34903bd189bb4c03ba7477f97725753f": {
          "model_module": "@jupyter-widgets/base",
          "model_name": "LayoutModel",
          "state": {
            "_view_name": "LayoutView",
            "grid_template_rows": null,
            "right": null,
            "justify_content": null,
            "_view_module": "@jupyter-widgets/base",
            "overflow": null,
            "_model_module_version": "1.2.0",
            "_view_count": null,
            "flex_flow": null,
            "width": null,
            "min_width": null,
            "border": null,
            "align_items": null,
            "bottom": null,
            "_model_module": "@jupyter-widgets/base",
            "top": null,
            "grid_column": null,
            "overflow_y": null,
            "overflow_x": null,
            "grid_auto_flow": null,
            "grid_area": null,
            "grid_template_columns": null,
            "flex": null,
            "_model_name": "LayoutModel",
            "justify_items": null,
            "grid_row": null,
            "max_height": null,
            "align_content": null,
            "visibility": null,
            "align_self": null,
            "height": null,
            "min_height": null,
            "padding": null,
            "grid_auto_rows": null,
            "grid_gap": null,
            "max_width": null,
            "order": null,
            "_view_module_version": "1.2.0",
            "grid_template_areas": null,
            "object_position": null,
            "object_fit": null,
            "grid_auto_columns": null,
            "margin": null,
            "display": null,
            "left": null
          }
        },
        "2fd0aec86aca451c9a747b8ecbcccde8": {
          "model_module": "@jupyter-widgets/controls",
          "model_name": "FloatProgressModel",
          "state": {
            "_view_name": "ProgressView",
            "style": "IPY_MODEL_24a6f63ccc26472391c2d03fd72348dd",
            "_dom_classes": [],
            "description": "Downloading: 100%",
            "_model_name": "FloatProgressModel",
            "bar_style": "success",
            "max": 553,
            "_view_module": "@jupyter-widgets/controls",
            "_model_module_version": "1.5.0",
            "value": 553,
            "_view_count": null,
            "_view_module_version": "1.5.0",
            "orientation": "horizontal",
            "min": 0,
            "description_tooltip": null,
            "_model_module": "@jupyter-widgets/controls",
            "layout": "IPY_MODEL_baa8d885bf044ec499e4a957ae4aad81"
          }
        },
        "351b253dfed4423f94d0a1eb54c8dfbd": {
          "model_module": "@jupyter-widgets/controls",
          "model_name": "HTMLModel",
          "state": {
            "_view_name": "HTMLView",
            "style": "IPY_MODEL_d7b63824c8af45babe44620016395152",
            "_dom_classes": [],
            "description": "",
            "_model_name": "HTMLModel",
            "placeholder": "​",
            "_view_module": "@jupyter-widgets/controls",
            "_model_module_version": "1.5.0",
            "value": " 553/553 [31:09&lt;00:00, 3.38s/B]",
            "_view_count": null,
            "_view_module_version": "1.5.0",
            "description_tooltip": null,
            "_model_module": "@jupyter-widgets/controls",
            "layout": "IPY_MODEL_88ae3986731d4eb1b9c08255ea799e4b"
          }
        },
        "24a6f63ccc26472391c2d03fd72348dd": {
          "model_module": "@jupyter-widgets/controls",
          "model_name": "ProgressStyleModel",
          "state": {
            "_view_name": "StyleView",
            "_model_name": "ProgressStyleModel",
            "description_width": "initial",
            "_view_module": "@jupyter-widgets/base",
            "_model_module_version": "1.5.0",
            "_view_count": null,
            "_view_module_version": "1.2.0",
            "bar_color": null,
            "_model_module": "@jupyter-widgets/controls"
          }
        },
        "baa8d885bf044ec499e4a957ae4aad81": {
          "model_module": "@jupyter-widgets/base",
          "model_name": "LayoutModel",
          "state": {
            "_view_name": "LayoutView",
            "grid_template_rows": null,
            "right": null,
            "justify_content": null,
            "_view_module": "@jupyter-widgets/base",
            "overflow": null,
            "_model_module_version": "1.2.0",
            "_view_count": null,
            "flex_flow": null,
            "width": null,
            "min_width": null,
            "border": null,
            "align_items": null,
            "bottom": null,
            "_model_module": "@jupyter-widgets/base",
            "top": null,
            "grid_column": null,
            "overflow_y": null,
            "overflow_x": null,
            "grid_auto_flow": null,
            "grid_area": null,
            "grid_template_columns": null,
            "flex": null,
            "_model_name": "LayoutModel",
            "justify_items": null,
            "grid_row": null,
            "max_height": null,
            "align_content": null,
            "visibility": null,
            "align_self": null,
            "height": null,
            "min_height": null,
            "padding": null,
            "grid_auto_rows": null,
            "grid_gap": null,
            "max_width": null,
            "order": null,
            "_view_module_version": "1.2.0",
            "grid_template_areas": null,
            "object_position": null,
            "object_fit": null,
            "grid_auto_columns": null,
            "margin": null,
            "display": null,
            "left": null
          }
        },
        "d7b63824c8af45babe44620016395152": {
          "model_module": "@jupyter-widgets/controls",
          "model_name": "DescriptionStyleModel",
          "state": {
            "_view_name": "StyleView",
            "_model_name": "DescriptionStyleModel",
            "description_width": "",
            "_view_module": "@jupyter-widgets/base",
            "_model_module_version": "1.5.0",
            "_view_count": null,
            "_view_module_version": "1.2.0",
            "_model_module": "@jupyter-widgets/controls"
          }
        },
        "88ae3986731d4eb1b9c08255ea799e4b": {
          "model_module": "@jupyter-widgets/base",
          "model_name": "LayoutModel",
          "state": {
            "_view_name": "LayoutView",
            "grid_template_rows": null,
            "right": null,
            "justify_content": null,
            "_view_module": "@jupyter-widgets/base",
            "overflow": null,
            "_model_module_version": "1.2.0",
            "_view_count": null,
            "flex_flow": null,
            "width": null,
            "min_width": null,
            "border": null,
            "align_items": null,
            "bottom": null,
            "_model_module": "@jupyter-widgets/base",
            "top": null,
            "grid_column": null,
            "overflow_y": null,
            "overflow_x": null,
            "grid_auto_flow": null,
            "grid_area": null,
            "grid_template_columns": null,
            "flex": null,
            "_model_name": "LayoutModel",
            "justify_items": null,
            "grid_row": null,
            "max_height": null,
            "align_content": null,
            "visibility": null,
            "align_self": null,
            "height": null,
            "min_height": null,
            "padding": null,
            "grid_auto_rows": null,
            "grid_gap": null,
            "max_width": null,
            "order": null,
            "_view_module_version": "1.2.0",
            "grid_template_areas": null,
            "object_position": null,
            "object_fit": null,
            "grid_auto_columns": null,
            "margin": null,
            "display": null,
            "left": null
          }
        },
        "19c35479c5e14391a1753e8fff83e76c": {
          "model_module": "@jupyter-widgets/controls",
          "model_name": "HBoxModel",
          "state": {
            "_view_name": "HBoxView",
            "_dom_classes": [],
            "_model_name": "HBoxModel",
            "_view_module": "@jupyter-widgets/controls",
            "_model_module_version": "1.5.0",
            "_view_count": null,
            "_view_module_version": "1.5.0",
            "box_style": "",
            "layout": "IPY_MODEL_769922644a644ccb8821aa18daf1fe46",
            "_model_module": "@jupyter-widgets/controls",
            "children": [
              "IPY_MODEL_860641612bda4ed2b2cdb09f2f116c3a",
              "IPY_MODEL_bb54bf72d1e044f9b3e63927ba621e33"
            ]
          }
        },
        "769922644a644ccb8821aa18daf1fe46": {
          "model_module": "@jupyter-widgets/base",
          "model_name": "LayoutModel",
          "state": {
            "_view_name": "LayoutView",
            "grid_template_rows": null,
            "right": null,
            "justify_content": null,
            "_view_module": "@jupyter-widgets/base",
            "overflow": null,
            "_model_module_version": "1.2.0",
            "_view_count": null,
            "flex_flow": null,
            "width": null,
            "min_width": null,
            "border": null,
            "align_items": null,
            "bottom": null,
            "_model_module": "@jupyter-widgets/base",
            "top": null,
            "grid_column": null,
            "overflow_y": null,
            "overflow_x": null,
            "grid_auto_flow": null,
            "grid_area": null,
            "grid_template_columns": null,
            "flex": null,
            "_model_name": "LayoutModel",
            "justify_items": null,
            "grid_row": null,
            "max_height": null,
            "align_content": null,
            "visibility": null,
            "align_self": null,
            "height": null,
            "min_height": null,
            "padding": null,
            "grid_auto_rows": null,
            "grid_gap": null,
            "max_width": null,
            "order": null,
            "_view_module_version": "1.2.0",
            "grid_template_areas": null,
            "object_position": null,
            "object_fit": null,
            "grid_auto_columns": null,
            "margin": null,
            "display": null,
            "left": null
          }
        },
        "860641612bda4ed2b2cdb09f2f116c3a": {
          "model_module": "@jupyter-widgets/controls",
          "model_name": "FloatProgressModel",
          "state": {
            "_view_name": "ProgressView",
            "style": "IPY_MODEL_f4061d89bcc54a06a516fc367b8d2a4f",
            "_dom_classes": [],
            "description": "Downloading: 100%",
            "_model_name": "FloatProgressModel",
            "bar_style": "success",
            "max": 1200794589,
            "_view_module": "@jupyter-widgets/controls",
            "_model_module_version": "1.5.0",
            "value": 1200794589,
            "_view_count": null,
            "_view_module_version": "1.5.0",
            "orientation": "horizontal",
            "min": 0,
            "description_tooltip": null,
            "_model_module": "@jupyter-widgets/controls",
            "layout": "IPY_MODEL_c42b1934e2344bf197483ab348e5db6b"
          }
        },
        "bb54bf72d1e044f9b3e63927ba621e33": {
          "model_module": "@jupyter-widgets/controls",
          "model_name": "HTMLModel",
          "state": {
            "_view_name": "HTMLView",
            "style": "IPY_MODEL_19e1de7f18694c85baf44121a5c8a43f",
            "_dom_classes": [],
            "description": "",
            "_model_name": "HTMLModel",
            "placeholder": "​",
            "_view_module": "@jupyter-widgets/controls",
            "_model_module_version": "1.5.0",
            "value": " 1.20G/1.20G [01:51&lt;00:00, 10.8MB/s]",
            "_view_count": null,
            "_view_module_version": "1.5.0",
            "description_tooltip": null,
            "_model_module": "@jupyter-widgets/controls",
            "layout": "IPY_MODEL_26068907dd6e4fe090468cced68e2c8a"
          }
        },
        "f4061d89bcc54a06a516fc367b8d2a4f": {
          "model_module": "@jupyter-widgets/controls",
          "model_name": "ProgressStyleModel",
          "state": {
            "_view_name": "StyleView",
            "_model_name": "ProgressStyleModel",
            "description_width": "initial",
            "_view_module": "@jupyter-widgets/base",
            "_model_module_version": "1.5.0",
            "_view_count": null,
            "_view_module_version": "1.2.0",
            "bar_color": null,
            "_model_module": "@jupyter-widgets/controls"
          }
        },
        "c42b1934e2344bf197483ab348e5db6b": {
          "model_module": "@jupyter-widgets/base",
          "model_name": "LayoutModel",
          "state": {
            "_view_name": "LayoutView",
            "grid_template_rows": null,
            "right": null,
            "justify_content": null,
            "_view_module": "@jupyter-widgets/base",
            "overflow": null,
            "_model_module_version": "1.2.0",
            "_view_count": null,
            "flex_flow": null,
            "width": null,
            "min_width": null,
            "border": null,
            "align_items": null,
            "bottom": null,
            "_model_module": "@jupyter-widgets/base",
            "top": null,
            "grid_column": null,
            "overflow_y": null,
            "overflow_x": null,
            "grid_auto_flow": null,
            "grid_area": null,
            "grid_template_columns": null,
            "flex": null,
            "_model_name": "LayoutModel",
            "justify_items": null,
            "grid_row": null,
            "max_height": null,
            "align_content": null,
            "visibility": null,
            "align_self": null,
            "height": null,
            "min_height": null,
            "padding": null,
            "grid_auto_rows": null,
            "grid_gap": null,
            "max_width": null,
            "order": null,
            "_view_module_version": "1.2.0",
            "grid_template_areas": null,
            "object_position": null,
            "object_fit": null,
            "grid_auto_columns": null,
            "margin": null,
            "display": null,
            "left": null
          }
        },
        "19e1de7f18694c85baf44121a5c8a43f": {
          "model_module": "@jupyter-widgets/controls",
          "model_name": "DescriptionStyleModel",
          "state": {
            "_view_name": "StyleView",
            "_model_name": "DescriptionStyleModel",
            "description_width": "",
            "_view_module": "@jupyter-widgets/base",
            "_model_module_version": "1.5.0",
            "_view_count": null,
            "_view_module_version": "1.2.0",
            "_model_module": "@jupyter-widgets/controls"
          }
        },
        "26068907dd6e4fe090468cced68e2c8a": {
          "model_module": "@jupyter-widgets/base",
          "model_name": "LayoutModel",
          "state": {
            "_view_name": "LayoutView",
            "grid_template_rows": null,
            "right": null,
            "justify_content": null,
            "_view_module": "@jupyter-widgets/base",
            "overflow": null,
            "_model_module_version": "1.2.0",
            "_view_count": null,
            "flex_flow": null,
            "width": null,
            "min_width": null,
            "border": null,
            "align_items": null,
            "bottom": null,
            "_model_module": "@jupyter-widgets/base",
            "top": null,
            "grid_column": null,
            "overflow_y": null,
            "overflow_x": null,
            "grid_auto_flow": null,
            "grid_area": null,
            "grid_template_columns": null,
            "flex": null,
            "_model_name": "LayoutModel",
            "justify_items": null,
            "grid_row": null,
            "max_height": null,
            "align_content": null,
            "visibility": null,
            "align_self": null,
            "height": null,
            "min_height": null,
            "padding": null,
            "grid_auto_rows": null,
            "grid_gap": null,
            "max_width": null,
            "order": null,
            "_view_module_version": "1.2.0",
            "grid_template_areas": null,
            "object_position": null,
            "object_fit": null,
            "grid_auto_columns": null,
            "margin": null,
            "display": null,
            "left": null
          }
        },
        "52ef2a341bc64f03abeeef6d2f2da6e8": {
          "model_module": "@jupyter-widgets/controls",
          "model_name": "HBoxModel",
          "state": {
            "_view_name": "HBoxView",
            "_dom_classes": [],
            "_model_name": "HBoxModel",
            "_view_module": "@jupyter-widgets/controls",
            "_model_module_version": "1.5.0",
            "_view_count": null,
            "_view_module_version": "1.5.0",
            "box_style": "",
            "layout": "IPY_MODEL_b8df8d21d988437bb7cb84846c7f6d05",
            "_model_module": "@jupyter-widgets/controls",
            "children": [
              "IPY_MODEL_626f0b03782e4d248b4b1fc2e192feee",
              "IPY_MODEL_8f7597eaefda494ab004e6f163828410"
            ]
          }
        },
        "b8df8d21d988437bb7cb84846c7f6d05": {
          "model_module": "@jupyter-widgets/base",
          "model_name": "LayoutModel",
          "state": {
            "_view_name": "LayoutView",
            "grid_template_rows": null,
            "right": null,
            "justify_content": null,
            "_view_module": "@jupyter-widgets/base",
            "overflow": null,
            "_model_module_version": "1.2.0",
            "_view_count": null,
            "flex_flow": null,
            "width": null,
            "min_width": null,
            "border": null,
            "align_items": null,
            "bottom": null,
            "_model_module": "@jupyter-widgets/base",
            "top": null,
            "grid_column": null,
            "overflow_y": null,
            "overflow_x": null,
            "grid_auto_flow": null,
            "grid_area": null,
            "grid_template_columns": null,
            "flex": null,
            "_model_name": "LayoutModel",
            "justify_items": null,
            "grid_row": null,
            "max_height": null,
            "align_content": null,
            "visibility": null,
            "align_self": null,
            "height": null,
            "min_height": null,
            "padding": null,
            "grid_auto_rows": null,
            "grid_gap": null,
            "max_width": null,
            "order": null,
            "_view_module_version": "1.2.0",
            "grid_template_areas": null,
            "object_position": null,
            "object_fit": null,
            "grid_auto_columns": null,
            "margin": null,
            "display": null,
            "left": null
          }
        },
        "626f0b03782e4d248b4b1fc2e192feee": {
          "model_module": "@jupyter-widgets/controls",
          "model_name": "FloatProgressModel",
          "state": {
            "_view_name": "ProgressView",
            "style": "IPY_MODEL_282a3fc81a024a118ba00b26e5b223fc",
            "_dom_classes": [],
            "description": "Downloading: 100%",
            "_model_name": "FloatProgressModel",
            "bar_style": "success",
            "max": 4309802,
            "_view_module": "@jupyter-widgets/controls",
            "_model_module_version": "1.5.0",
            "value": 4309802,
            "_view_count": null,
            "_view_module_version": "1.5.0",
            "orientation": "horizontal",
            "min": 0,
            "description_tooltip": null,
            "_model_module": "@jupyter-widgets/controls",
            "layout": "IPY_MODEL_9d0b5a148e044d0b8adc1f9ee578ddee"
          }
        },
        "8f7597eaefda494ab004e6f163828410": {
          "model_module": "@jupyter-widgets/controls",
          "model_name": "HTMLModel",
          "state": {
            "_view_name": "HTMLView",
            "style": "IPY_MODEL_554c17b47cfc4a26ad74569d09bb4b59",
            "_dom_classes": [],
            "description": "",
            "_model_name": "HTMLModel",
            "placeholder": "​",
            "_view_module": "@jupyter-widgets/controls",
            "_model_module_version": "1.5.0",
            "value": " 4.31M/4.31M [00:00&lt;00:00, 4.55MB/s]",
            "_view_count": null,
            "_view_module_version": "1.5.0",
            "description_tooltip": null,
            "_model_module": "@jupyter-widgets/controls",
            "layout": "IPY_MODEL_10634b82360c4924bb77c196af62837c"
          }
        },
        "282a3fc81a024a118ba00b26e5b223fc": {
          "model_module": "@jupyter-widgets/controls",
          "model_name": "ProgressStyleModel",
          "state": {
            "_view_name": "StyleView",
            "_model_name": "ProgressStyleModel",
            "description_width": "initial",
            "_view_module": "@jupyter-widgets/base",
            "_model_module_version": "1.5.0",
            "_view_count": null,
            "_view_module_version": "1.2.0",
            "bar_color": null,
            "_model_module": "@jupyter-widgets/controls"
          }
        },
        "9d0b5a148e044d0b8adc1f9ee578ddee": {
          "model_module": "@jupyter-widgets/base",
          "model_name": "LayoutModel",
          "state": {
            "_view_name": "LayoutView",
            "grid_template_rows": null,
            "right": null,
            "justify_content": null,
            "_view_module": "@jupyter-widgets/base",
            "overflow": null,
            "_model_module_version": "1.2.0",
            "_view_count": null,
            "flex_flow": null,
            "width": null,
            "min_width": null,
            "border": null,
            "align_items": null,
            "bottom": null,
            "_model_module": "@jupyter-widgets/base",
            "top": null,
            "grid_column": null,
            "overflow_y": null,
            "overflow_x": null,
            "grid_auto_flow": null,
            "grid_area": null,
            "grid_template_columns": null,
            "flex": null,
            "_model_name": "LayoutModel",
            "justify_items": null,
            "grid_row": null,
            "max_height": null,
            "align_content": null,
            "visibility": null,
            "align_self": null,
            "height": null,
            "min_height": null,
            "padding": null,
            "grid_auto_rows": null,
            "grid_gap": null,
            "max_width": null,
            "order": null,
            "_view_module_version": "1.2.0",
            "grid_template_areas": null,
            "object_position": null,
            "object_fit": null,
            "grid_auto_columns": null,
            "margin": null,
            "display": null,
            "left": null
          }
        },
        "554c17b47cfc4a26ad74569d09bb4b59": {
          "model_module": "@jupyter-widgets/controls",
          "model_name": "DescriptionStyleModel",
          "state": {
            "_view_name": "StyleView",
            "_model_name": "DescriptionStyleModel",
            "description_width": "",
            "_view_module": "@jupyter-widgets/base",
            "_model_module_version": "1.5.0",
            "_view_count": null,
            "_view_module_version": "1.2.0",
            "_model_module": "@jupyter-widgets/controls"
          }
        },
        "10634b82360c4924bb77c196af62837c": {
          "model_module": "@jupyter-widgets/base",
          "model_name": "LayoutModel",
          "state": {
            "_view_name": "LayoutView",
            "grid_template_rows": null,
            "right": null,
            "justify_content": null,
            "_view_module": "@jupyter-widgets/base",
            "overflow": null,
            "_model_module_version": "1.2.0",
            "_view_count": null,
            "flex_flow": null,
            "width": null,
            "min_width": null,
            "border": null,
            "align_items": null,
            "bottom": null,
            "_model_module": "@jupyter-widgets/base",
            "top": null,
            "grid_column": null,
            "overflow_y": null,
            "overflow_x": null,
            "grid_auto_flow": null,
            "grid_area": null,
            "grid_template_columns": null,
            "flex": null,
            "_model_name": "LayoutModel",
            "justify_items": null,
            "grid_row": null,
            "max_height": null,
            "align_content": null,
            "visibility": null,
            "align_self": null,
            "height": null,
            "min_height": null,
            "padding": null,
            "grid_auto_rows": null,
            "grid_gap": null,
            "max_width": null,
            "order": null,
            "_view_module_version": "1.2.0",
            "grid_template_areas": null,
            "object_position": null,
            "object_fit": null,
            "grid_auto_columns": null,
            "margin": null,
            "display": null,
            "left": null
          }
        },
        "2d329d2de0b64d078416b43c5b8ac1c4": {
          "model_module": "@jupyter-widgets/controls",
          "model_name": "HBoxModel",
          "state": {
            "_view_name": "HBoxView",
            "_dom_classes": [],
            "_model_name": "HBoxModel",
            "_view_module": "@jupyter-widgets/controls",
            "_model_module_version": "1.5.0",
            "_view_count": null,
            "_view_module_version": "1.5.0",
            "box_style": "",
            "layout": "IPY_MODEL_2dae1c4f1e1a47dd9dc91025783f4b6d",
            "_model_module": "@jupyter-widgets/controls",
            "children": [
              "IPY_MODEL_f263ab0e14ef4d1291101358a1c4d8e0",
              "IPY_MODEL_25815934657d49be94c6b90f45d620c1"
            ]
          }
        },
        "2dae1c4f1e1a47dd9dc91025783f4b6d": {
          "model_module": "@jupyter-widgets/base",
          "model_name": "LayoutModel",
          "state": {
            "_view_name": "LayoutView",
            "grid_template_rows": null,
            "right": null,
            "justify_content": null,
            "_view_module": "@jupyter-widgets/base",
            "overflow": null,
            "_model_module_version": "1.2.0",
            "_view_count": null,
            "flex_flow": null,
            "width": null,
            "min_width": null,
            "border": null,
            "align_items": null,
            "bottom": null,
            "_model_module": "@jupyter-widgets/base",
            "top": null,
            "grid_column": null,
            "overflow_y": null,
            "overflow_x": null,
            "grid_auto_flow": null,
            "grid_area": null,
            "grid_template_columns": null,
            "flex": null,
            "_model_name": "LayoutModel",
            "justify_items": null,
            "grid_row": null,
            "max_height": null,
            "align_content": null,
            "visibility": null,
            "align_self": null,
            "height": null,
            "min_height": null,
            "padding": null,
            "grid_auto_rows": null,
            "grid_gap": null,
            "max_width": null,
            "order": null,
            "_view_module_version": "1.2.0",
            "grid_template_areas": null,
            "object_position": null,
            "object_fit": null,
            "grid_auto_columns": null,
            "margin": null,
            "display": null,
            "left": null
          }
        },
        "f263ab0e14ef4d1291101358a1c4d8e0": {
          "model_module": "@jupyter-widgets/controls",
          "model_name": "FloatProgressModel",
          "state": {
            "_view_name": "ProgressView",
            "style": "IPY_MODEL_62cce87dbee14220986105a55885cecb",
            "_dom_classes": [],
            "description": "Downloading: 100%",
            "_model_name": "FloatProgressModel",
            "bar_style": "success",
            "max": 99,
            "_view_module": "@jupyter-widgets/controls",
            "_model_module_version": "1.5.0",
            "value": 99,
            "_view_count": null,
            "_view_module_version": "1.5.0",
            "orientation": "horizontal",
            "min": 0,
            "description_tooltip": null,
            "_model_module": "@jupyter-widgets/controls",
            "layout": "IPY_MODEL_81bea9b63c3f4a93a0538785285b782c"
          }
        },
        "25815934657d49be94c6b90f45d620c1": {
          "model_module": "@jupyter-widgets/controls",
          "model_name": "HTMLModel",
          "state": {
            "_view_name": "HTMLView",
            "style": "IPY_MODEL_deae95f80a004d6a8bc7f942827ab6a1",
            "_dom_classes": [],
            "description": "",
            "_model_name": "HTMLModel",
            "placeholder": "​",
            "_view_module": "@jupyter-widgets/controls",
            "_model_module_version": "1.5.0",
            "value": " 99.0/99.0 [00:00&lt;00:00, 137B/s]",
            "_view_count": null,
            "_view_module_version": "1.5.0",
            "description_tooltip": null,
            "_model_module": "@jupyter-widgets/controls",
            "layout": "IPY_MODEL_23f63319c1d1496aaf5b637d58bc73b0"
          }
        },
        "62cce87dbee14220986105a55885cecb": {
          "model_module": "@jupyter-widgets/controls",
          "model_name": "ProgressStyleModel",
          "state": {
            "_view_name": "StyleView",
            "_model_name": "ProgressStyleModel",
            "description_width": "initial",
            "_view_module": "@jupyter-widgets/base",
            "_model_module_version": "1.5.0",
            "_view_count": null,
            "_view_module_version": "1.2.0",
            "bar_color": null,
            "_model_module": "@jupyter-widgets/controls"
          }
        },
        "81bea9b63c3f4a93a0538785285b782c": {
          "model_module": "@jupyter-widgets/base",
          "model_name": "LayoutModel",
          "state": {
            "_view_name": "LayoutView",
            "grid_template_rows": null,
            "right": null,
            "justify_content": null,
            "_view_module": "@jupyter-widgets/base",
            "overflow": null,
            "_model_module_version": "1.2.0",
            "_view_count": null,
            "flex_flow": null,
            "width": null,
            "min_width": null,
            "border": null,
            "align_items": null,
            "bottom": null,
            "_model_module": "@jupyter-widgets/base",
            "top": null,
            "grid_column": null,
            "overflow_y": null,
            "overflow_x": null,
            "grid_auto_flow": null,
            "grid_area": null,
            "grid_template_columns": null,
            "flex": null,
            "_model_name": "LayoutModel",
            "justify_items": null,
            "grid_row": null,
            "max_height": null,
            "align_content": null,
            "visibility": null,
            "align_self": null,
            "height": null,
            "min_height": null,
            "padding": null,
            "grid_auto_rows": null,
            "grid_gap": null,
            "max_width": null,
            "order": null,
            "_view_module_version": "1.2.0",
            "grid_template_areas": null,
            "object_position": null,
            "object_fit": null,
            "grid_auto_columns": null,
            "margin": null,
            "display": null,
            "left": null
          }
        },
        "deae95f80a004d6a8bc7f942827ab6a1": {
          "model_module": "@jupyter-widgets/controls",
          "model_name": "DescriptionStyleModel",
          "state": {
            "_view_name": "StyleView",
            "_model_name": "DescriptionStyleModel",
            "description_width": "",
            "_view_module": "@jupyter-widgets/base",
            "_model_module_version": "1.5.0",
            "_view_count": null,
            "_view_module_version": "1.2.0",
            "_model_module": "@jupyter-widgets/controls"
          }
        },
        "23f63319c1d1496aaf5b637d58bc73b0": {
          "model_module": "@jupyter-widgets/base",
          "model_name": "LayoutModel",
          "state": {
            "_view_name": "LayoutView",
            "grid_template_rows": null,
            "right": null,
            "justify_content": null,
            "_view_module": "@jupyter-widgets/base",
            "overflow": null,
            "_model_module_version": "1.2.0",
            "_view_count": null,
            "flex_flow": null,
            "width": null,
            "min_width": null,
            "border": null,
            "align_items": null,
            "bottom": null,
            "_model_module": "@jupyter-widgets/base",
            "top": null,
            "grid_column": null,
            "overflow_y": null,
            "overflow_x": null,
            "grid_auto_flow": null,
            "grid_area": null,
            "grid_template_columns": null,
            "flex": null,
            "_model_name": "LayoutModel",
            "justify_items": null,
            "grid_row": null,
            "max_height": null,
            "align_content": null,
            "visibility": null,
            "align_self": null,
            "height": null,
            "min_height": null,
            "padding": null,
            "grid_auto_rows": null,
            "grid_gap": null,
            "max_width": null,
            "order": null,
            "_view_module_version": "1.2.0",
            "grid_template_areas": null,
            "object_position": null,
            "object_fit": null,
            "grid_auto_columns": null,
            "margin": null,
            "display": null,
            "left": null
          }
        },
        "94425d73c69647e3b0cb7f2b98f9f175": {
          "model_module": "@jupyter-widgets/controls",
          "model_name": "HBoxModel",
          "state": {
            "_view_name": "HBoxView",
            "_dom_classes": [],
            "_model_name": "HBoxModel",
            "_view_module": "@jupyter-widgets/controls",
            "_model_module_version": "1.5.0",
            "_view_count": null,
            "_view_module_version": "1.5.0",
            "box_style": "",
            "layout": "IPY_MODEL_6b21f4ef680842eaa47ce6e35b422506",
            "_model_module": "@jupyter-widgets/controls",
            "children": [
              "IPY_MODEL_17b476031e4245358406b61278ab538b",
              "IPY_MODEL_620570391d7b4cb3b81fddb16f10efe5"
            ]
          }
        },
        "6b21f4ef680842eaa47ce6e35b422506": {
          "model_module": "@jupyter-widgets/base",
          "model_name": "LayoutModel",
          "state": {
            "_view_name": "LayoutView",
            "grid_template_rows": null,
            "right": null,
            "justify_content": null,
            "_view_module": "@jupyter-widgets/base",
            "overflow": null,
            "_model_module_version": "1.2.0",
            "_view_count": null,
            "flex_flow": null,
            "width": null,
            "min_width": null,
            "border": null,
            "align_items": null,
            "bottom": null,
            "_model_module": "@jupyter-widgets/base",
            "top": null,
            "grid_column": null,
            "overflow_y": null,
            "overflow_x": null,
            "grid_auto_flow": null,
            "grid_area": null,
            "grid_template_columns": null,
            "flex": null,
            "_model_name": "LayoutModel",
            "justify_items": null,
            "grid_row": null,
            "max_height": null,
            "align_content": null,
            "visibility": null,
            "align_self": null,
            "height": null,
            "min_height": null,
            "padding": null,
            "grid_auto_rows": null,
            "grid_gap": null,
            "max_width": null,
            "order": null,
            "_view_module_version": "1.2.0",
            "grid_template_areas": null,
            "object_position": null,
            "object_fit": null,
            "grid_auto_columns": null,
            "margin": null,
            "display": null,
            "left": null
          }
        },
        "17b476031e4245358406b61278ab538b": {
          "model_module": "@jupyter-widgets/controls",
          "model_name": "FloatProgressModel",
          "state": {
            "_view_name": "ProgressView",
            "style": "IPY_MODEL_1cadc17447564b479da767e49bf295e2",
            "_dom_classes": [],
            "description": "Downloading: 100%",
            "_model_name": "FloatProgressModel",
            "bar_style": "success",
            "max": 82,
            "_view_module": "@jupyter-widgets/controls",
            "_model_module_version": "1.5.0",
            "value": 82,
            "_view_count": null,
            "_view_module_version": "1.5.0",
            "orientation": "horizontal",
            "min": 0,
            "description_tooltip": null,
            "_model_module": "@jupyter-widgets/controls",
            "layout": "IPY_MODEL_d0c26a34dbc847e8b4db72ebb8d3f175"
          }
        },
        "620570391d7b4cb3b81fddb16f10efe5": {
          "model_module": "@jupyter-widgets/controls",
          "model_name": "HTMLModel",
          "state": {
            "_view_name": "HTMLView",
            "style": "IPY_MODEL_214e3a2542f549959810586e6fca796c",
            "_dom_classes": [],
            "description": "",
            "_model_name": "HTMLModel",
            "placeholder": "​",
            "_view_module": "@jupyter-widgets/controls",
            "_model_module_version": "1.5.0",
            "value": " 82.0/82.0 [00:00&lt;00:00, 131B/s]",
            "_view_count": null,
            "_view_module_version": "1.5.0",
            "description_tooltip": null,
            "_model_module": "@jupyter-widgets/controls",
            "layout": "IPY_MODEL_c69598f3321d4b6aa2da13e7fdab8fc3"
          }
        },
        "1cadc17447564b479da767e49bf295e2": {
          "model_module": "@jupyter-widgets/controls",
          "model_name": "ProgressStyleModel",
          "state": {
            "_view_name": "StyleView",
            "_model_name": "ProgressStyleModel",
            "description_width": "initial",
            "_view_module": "@jupyter-widgets/base",
            "_model_module_version": "1.5.0",
            "_view_count": null,
            "_view_module_version": "1.2.0",
            "bar_color": null,
            "_model_module": "@jupyter-widgets/controls"
          }
        },
        "d0c26a34dbc847e8b4db72ebb8d3f175": {
          "model_module": "@jupyter-widgets/base",
          "model_name": "LayoutModel",
          "state": {
            "_view_name": "LayoutView",
            "grid_template_rows": null,
            "right": null,
            "justify_content": null,
            "_view_module": "@jupyter-widgets/base",
            "overflow": null,
            "_model_module_version": "1.2.0",
            "_view_count": null,
            "flex_flow": null,
            "width": null,
            "min_width": null,
            "border": null,
            "align_items": null,
            "bottom": null,
            "_model_module": "@jupyter-widgets/base",
            "top": null,
            "grid_column": null,
            "overflow_y": null,
            "overflow_x": null,
            "grid_auto_flow": null,
            "grid_area": null,
            "grid_template_columns": null,
            "flex": null,
            "_model_name": "LayoutModel",
            "justify_items": null,
            "grid_row": null,
            "max_height": null,
            "align_content": null,
            "visibility": null,
            "align_self": null,
            "height": null,
            "min_height": null,
            "padding": null,
            "grid_auto_rows": null,
            "grid_gap": null,
            "max_width": null,
            "order": null,
            "_view_module_version": "1.2.0",
            "grid_template_areas": null,
            "object_position": null,
            "object_fit": null,
            "grid_auto_columns": null,
            "margin": null,
            "display": null,
            "left": null
          }
        },
        "214e3a2542f549959810586e6fca796c": {
          "model_module": "@jupyter-widgets/controls",
          "model_name": "DescriptionStyleModel",
          "state": {
            "_view_name": "StyleView",
            "_model_name": "DescriptionStyleModel",
            "description_width": "",
            "_view_module": "@jupyter-widgets/base",
            "_model_module_version": "1.5.0",
            "_view_count": null,
            "_view_module_version": "1.2.0",
            "_model_module": "@jupyter-widgets/controls"
          }
        },
        "c69598f3321d4b6aa2da13e7fdab8fc3": {
          "model_module": "@jupyter-widgets/base",
          "model_name": "LayoutModel",
          "state": {
            "_view_name": "LayoutView",
            "grid_template_rows": null,
            "right": null,
            "justify_content": null,
            "_view_module": "@jupyter-widgets/base",
            "overflow": null,
            "_model_module_version": "1.2.0",
            "_view_count": null,
            "flex_flow": null,
            "width": null,
            "min_width": null,
            "border": null,
            "align_items": null,
            "bottom": null,
            "_model_module": "@jupyter-widgets/base",
            "top": null,
            "grid_column": null,
            "overflow_y": null,
            "overflow_x": null,
            "grid_auto_flow": null,
            "grid_area": null,
            "grid_template_columns": null,
            "flex": null,
            "_model_name": "LayoutModel",
            "justify_items": null,
            "grid_row": null,
            "max_height": null,
            "align_content": null,
            "visibility": null,
            "align_self": null,
            "height": null,
            "min_height": null,
            "padding": null,
            "grid_auto_rows": null,
            "grid_gap": null,
            "max_width": null,
            "order": null,
            "_view_module_version": "1.2.0",
            "grid_template_areas": null,
            "object_position": null,
            "object_fit": null,
            "grid_auto_columns": null,
            "margin": null,
            "display": null,
            "left": null
          }
        },
        "b4ad37ec2f5a4e43ab147f4f7bf0abdc": {
          "model_module": "@jupyter-widgets/controls",
          "model_name": "HBoxModel",
          "state": {
            "_view_name": "HBoxView",
            "_dom_classes": [],
            "_model_name": "HBoxModel",
            "_view_module": "@jupyter-widgets/controls",
            "_model_module_version": "1.5.0",
            "_view_count": null,
            "_view_module_version": "1.5.0",
            "box_style": "",
            "layout": "IPY_MODEL_badd26e113984baa905e8f548de93f26",
            "_model_module": "@jupyter-widgets/controls",
            "children": [
              "IPY_MODEL_b3b770af835243a182e1f6de971181c4",
              "IPY_MODEL_f45ee9181e824bca9536bd8ce08fbc61"
            ]
          }
        },
        "badd26e113984baa905e8f548de93f26": {
          "model_module": "@jupyter-widgets/base",
          "model_name": "LayoutModel",
          "state": {
            "_view_name": "LayoutView",
            "grid_template_rows": null,
            "right": null,
            "justify_content": null,
            "_view_module": "@jupyter-widgets/base",
            "overflow": null,
            "_model_module_version": "1.2.0",
            "_view_count": null,
            "flex_flow": "row wrap",
            "width": "100%",
            "min_width": null,
            "border": null,
            "align_items": null,
            "bottom": null,
            "_model_module": "@jupyter-widgets/base",
            "top": null,
            "grid_column": null,
            "overflow_y": null,
            "overflow_x": null,
            "grid_auto_flow": null,
            "grid_area": null,
            "grid_template_columns": null,
            "flex": null,
            "_model_name": "LayoutModel",
            "justify_items": null,
            "grid_row": null,
            "max_height": null,
            "align_content": null,
            "visibility": null,
            "align_self": null,
            "height": null,
            "min_height": null,
            "padding": null,
            "grid_auto_rows": null,
            "grid_gap": null,
            "max_width": null,
            "order": null,
            "_view_module_version": "1.2.0",
            "grid_template_areas": null,
            "object_position": null,
            "object_fit": null,
            "grid_auto_columns": null,
            "margin": null,
            "display": "inline-flex",
            "left": null
          }
        },
        "b3b770af835243a182e1f6de971181c4": {
          "model_module": "@jupyter-widgets/controls",
          "model_name": "FloatProgressModel",
          "state": {
            "_view_name": "ProgressView",
            "style": "IPY_MODEL_79ffd43d01354d3ca06424f5ea7ae2a7",
            "_dom_classes": [],
            "description": "Validation sanity check: 100%",
            "_model_name": "FloatProgressModel",
            "bar_style": "info",
            "max": 1,
            "_view_module": "@jupyter-widgets/controls",
            "_model_module_version": "1.5.0",
            "value": 1,
            "_view_count": null,
            "_view_module_version": "1.5.0",
            "orientation": "horizontal",
            "min": 0,
            "description_tooltip": null,
            "_model_module": "@jupyter-widgets/controls",
            "layout": "IPY_MODEL_e6c6314f7f4e44648ba3ee4c5fd63146"
          }
        },
        "f45ee9181e824bca9536bd8ce08fbc61": {
          "model_module": "@jupyter-widgets/controls",
          "model_name": "HTMLModel",
          "state": {
            "_view_name": "HTMLView",
            "style": "IPY_MODEL_65e199c459cb46738a6f66597c9d3114",
            "_dom_classes": [],
            "description": "",
            "_model_name": "HTMLModel",
            "placeholder": "​",
            "_view_module": "@jupyter-widgets/controls",
            "_model_module_version": "1.5.0",
            "value": " 2/2 [00:21&lt;00:00, 11.02s/it]",
            "_view_count": null,
            "_view_module_version": "1.5.0",
            "description_tooltip": null,
            "_model_module": "@jupyter-widgets/controls",
            "layout": "IPY_MODEL_7d8e449ab9044d2397ad298f91be793a"
          }
        },
        "79ffd43d01354d3ca06424f5ea7ae2a7": {
          "model_module": "@jupyter-widgets/controls",
          "model_name": "ProgressStyleModel",
          "state": {
            "_view_name": "StyleView",
            "_model_name": "ProgressStyleModel",
            "description_width": "initial",
            "_view_module": "@jupyter-widgets/base",
            "_model_module_version": "1.5.0",
            "_view_count": null,
            "_view_module_version": "1.2.0",
            "bar_color": null,
            "_model_module": "@jupyter-widgets/controls"
          }
        },
        "e6c6314f7f4e44648ba3ee4c5fd63146": {
          "model_module": "@jupyter-widgets/base",
          "model_name": "LayoutModel",
          "state": {
            "_view_name": "LayoutView",
            "grid_template_rows": null,
            "right": null,
            "justify_content": null,
            "_view_module": "@jupyter-widgets/base",
            "overflow": null,
            "_model_module_version": "1.2.0",
            "_view_count": null,
            "flex_flow": null,
            "width": null,
            "min_width": null,
            "border": null,
            "align_items": null,
            "bottom": null,
            "_model_module": "@jupyter-widgets/base",
            "top": null,
            "grid_column": null,
            "overflow_y": null,
            "overflow_x": null,
            "grid_auto_flow": null,
            "grid_area": null,
            "grid_template_columns": null,
            "flex": "2",
            "_model_name": "LayoutModel",
            "justify_items": null,
            "grid_row": null,
            "max_height": null,
            "align_content": null,
            "visibility": null,
            "align_self": null,
            "height": null,
            "min_height": null,
            "padding": null,
            "grid_auto_rows": null,
            "grid_gap": null,
            "max_width": null,
            "order": null,
            "_view_module_version": "1.2.0",
            "grid_template_areas": null,
            "object_position": null,
            "object_fit": null,
            "grid_auto_columns": null,
            "margin": null,
            "display": null,
            "left": null
          }
        },
        "65e199c459cb46738a6f66597c9d3114": {
          "model_module": "@jupyter-widgets/controls",
          "model_name": "DescriptionStyleModel",
          "state": {
            "_view_name": "StyleView",
            "_model_name": "DescriptionStyleModel",
            "description_width": "",
            "_view_module": "@jupyter-widgets/base",
            "_model_module_version": "1.5.0",
            "_view_count": null,
            "_view_module_version": "1.2.0",
            "_model_module": "@jupyter-widgets/controls"
          }
        },
        "7d8e449ab9044d2397ad298f91be793a": {
          "model_module": "@jupyter-widgets/base",
          "model_name": "LayoutModel",
          "state": {
            "_view_name": "LayoutView",
            "grid_template_rows": null,
            "right": null,
            "justify_content": null,
            "_view_module": "@jupyter-widgets/base",
            "overflow": null,
            "_model_module_version": "1.2.0",
            "_view_count": null,
            "flex_flow": null,
            "width": null,
            "min_width": null,
            "border": null,
            "align_items": null,
            "bottom": null,
            "_model_module": "@jupyter-widgets/base",
            "top": null,
            "grid_column": null,
            "overflow_y": null,
            "overflow_x": null,
            "grid_auto_flow": null,
            "grid_area": null,
            "grid_template_columns": null,
            "flex": null,
            "_model_name": "LayoutModel",
            "justify_items": null,
            "grid_row": null,
            "max_height": null,
            "align_content": null,
            "visibility": null,
            "align_self": null,
            "height": null,
            "min_height": null,
            "padding": null,
            "grid_auto_rows": null,
            "grid_gap": null,
            "max_width": null,
            "order": null,
            "_view_module_version": "1.2.0",
            "grid_template_areas": null,
            "object_position": null,
            "object_fit": null,
            "grid_auto_columns": null,
            "margin": null,
            "display": null,
            "left": null
          }
        }
      }
    }
  },
  "cells": [
    {
      "cell_type": "markdown",
      "metadata": {
        "id": "5kurQ9DZiXIO"
      },
      "source": [
        "[![Open In Colab](https://colab.research.google.com/assets/colab-badge.svg)](https://colab.research.google.com/drive/1b-sg2SfnlSLUReyNDVnqtfpYFI_jf3i0?usp=sharing)"
      ]
    },
    {
      "cell_type": "markdown",
      "metadata": {
        "id": "S8ie7JOiWOOs"
      },
      "source": [
        "# Техническая часть"
      ]
    },
    {
      "cell_type": "code",
      "metadata": {
        "id": "c0RDEINkTTht"
      },
      "source": [
        "!wget -q https://www.dropbox.com/s/43l702z5a5i2w8j/gazeta_train.txt\n",
        "!wget -q https://www.dropbox.com/s/k2egt3sug0hb185/gazeta_val.txt\n",
        "!wget -q https://www.dropbox.com/s/3gki5n5djs9w0v6/gazeta_test.txt"
      ],
      "execution_count": 2,
      "outputs": []
    },
    {
      "cell_type": "code",
      "metadata": {
        "id": "2LXXXVBakdim",
        "colab": {
          "base_uri": "https://localhost:8080/"
        },
        "outputId": "5c116a8a-5726-4930-e84e-56b8d2b461cc"
      },
      "source": [
        "# Extractive\n",
        "!pip install -q sentence-transformers\n",
        "!pip install -q razdel\n",
        "\n",
        "# Abstractive\n",
        "!pip install -q transformers\n",
        "!pip install -q sentencepiece\n",
        "!pip install -q pytorch_lightning\n",
        "!pip install -q rouge"
      ],
      "execution_count": 1,
      "outputs": [
        {
          "output_type": "stream",
          "text": [
            "\u001b[K     |████████████████████████████████| 71kB 8.3MB/s \n",
            "\u001b[K     |████████████████████████████████| 1.3MB 22.5MB/s \n",
            "\u001b[K     |████████████████████████████████| 890kB 49.5MB/s \n",
            "\u001b[K     |████████████████████████████████| 1.1MB 46.4MB/s \n",
            "\u001b[K     |████████████████████████████████| 2.9MB 53.6MB/s \n",
            "\u001b[?25h  Building wheel for sentence-transformers (setup.py) ... \u001b[?25l\u001b[?25hdone\n",
            "  Building wheel for sacremoses (setup.py) ... \u001b[?25l\u001b[?25hdone\n",
            "\u001b[K     |████████████████████████████████| 563kB 14.3MB/s \n",
            "\u001b[K     |████████████████████████████████| 276kB 47.9MB/s \n",
            "\u001b[K     |████████████████████████████████| 829kB 46.3MB/s \n",
            "\u001b[K     |████████████████████████████████| 92kB 9.9MB/s \n",
            "\u001b[?25h  Building wheel for PyYAML (setup.py) ... \u001b[?25l\u001b[?25hdone\n",
            "  Building wheel for future (setup.py) ... \u001b[?25l\u001b[?25hdone\n"
          ],
          "name": "stdout"
        }
      ]
    },
    {
      "cell_type": "code",
      "metadata": {
        "id": "oCHvQ4j_kGaP",
        "colab": {
          "base_uri": "https://localhost:8080/"
        },
        "outputId": "c68fe2bc-2b28-4a59-d296-0fe1d2b3a916"
      },
      "source": [
        "!git clone https://github.com/DanilDmitriev1999/extractive_summarization"
      ],
      "execution_count": 3,
      "outputs": [
        {
          "output_type": "stream",
          "text": [
            "Cloning into 'extractive_summarization'...\n",
            "remote: Enumerating objects: 104, done.\u001b[K\n",
            "remote: Counting objects: 100% (104/104), done.\u001b[K\n",
            "remote: Compressing objects: 100% (77/77), done.\u001b[K\n",
            "remote: Total 104 (delta 48), reused 70 (delta 24), pack-reused 0\u001b[K\n",
            "Receiving objects: 100% (104/104), 38.73 KiB | 7.75 MiB/s, done.\n",
            "Resolving deltas: 100% (48/48), done.\n"
          ],
          "name": "stdout"
        }
      ]
    },
    {
      "cell_type": "code",
      "metadata": {
        "id": "vxwVhlSrkbq5"
      },
      "source": [
        "from itertools import combinations\n",
        "import networkx as nx\n",
        "import json\n",
        "import random\n",
        "from tqdm import tqdm\n",
        "\n",
        "from sentence_transformers import SentenceTransformer, util\n",
        "\n",
        "from scipy.sparse.csgraph import connected_components\n",
        "\n",
        "import numpy as np\n",
        "from scipy.linalg import norm\n",
        "\n",
        "from nltk.translate.bleu_score import corpus_bleu\n",
        "import nltk\n",
        "import razdel\n",
        "\n",
        "from pprint import pprint"
      ],
      "execution_count": 4,
      "outputs": []
    },
    {
      "cell_type": "markdown",
      "metadata": {
        "id": "5Z3Q5Msb-DjL"
      },
      "source": [
        "Весь код лежит в [моём](https://github.com/DanilDmitriev1999/extractive_summarization) репозитории"
      ]
    },
    {
      "cell_type": "code",
      "metadata": {
        "id": "EZbjHkTGkFWq"
      },
      "source": [
        "from extractive_summarization.utils import *\n",
        "from extractive_summarization.text_rank import *\n",
        "from extractive_summarization.lex_rank import *"
      ],
      "execution_count": 5,
      "outputs": []
    },
    {
      "cell_type": "markdown",
      "metadata": {
        "id": "WF2PmtfRghVi"
      },
      "source": [
        "# Введение"
      ]
    },
    {
      "cell_type": "markdown",
      "metadata": {
        "id": "PdUcUWaygj7b"
      },
      "source": [
        "**Text Summarization** - это процесс автоматического создания сжатой версии данного текста, предоставляющей полезную информацию пользователю."
      ]
    },
    {
      "cell_type": "markdown",
      "metadata": {
        "id": "QWSK7hWthEgt"
      },
      "source": [
        "Есть 2 вида суммаризации текста:\n",
        "1.  Abstractive summarization - генерируем маленький текст, который описывает \"своими словами\" исходный текст.\n",
        "2.  Extractive summarization - выбираем из исходного текста предложения, которые лучше всего передают смысл текста. "
      ]
    },
    {
      "cell_type": "markdown",
      "metadata": {
        "id": "aA2sv-JPhrW8"
      },
      "source": [
        "Чисто extractive summarization часто дают лучшие результаты по сравнению с автоматическими Abstractive summarization. Это связано с тем, что проблемы абстрактивного обобщения, такие как семантическое представление, вывод и генерация естественного языка, относительно сложнее по сравнению с подходом, основанным на данных, таким как извлечение предложений. На самом деле, по-настоящему Abstractive summarization еще не достигло сегодня зрелой стадии. "
      ]
    },
    {
      "cell_type": "markdown",
      "metadata": {
        "id": "CDeP5RvCiCOW"
      },
      "source": [
        "Но сегодня с каждым годом Abstractive summarization становится лучше и лучше, например такие модели, как [T5](https://arxiv.org/pdf/1910.10683.pdf), [Pegasus](https://ai.googleblog.com/2020/06/pegasus-state-of-art-model-for.html), [BART](https://arxiv.org/abs/1910.13461) показывают уже хорошие резулультаты, после fine-tuning на своих данных."
      ]
    },
    {
      "cell_type": "markdown",
      "metadata": {
        "id": "3-IpT1YzVWYR"
      },
      "source": [
        "## Метрики"
      ]
    },
    {
      "cell_type": "markdown",
      "metadata": {
        "id": "NVY3Lu2yVYSw"
      },
      "source": [
        "**BLUE** - метрика которая принимает значение [0, 1]. BLUE, это что-то вроде точности угадывания n-gram из правильного summary."
      ]
    },
    {
      "cell_type": "markdown",
      "metadata": {
        "id": "7AISN6QbWmCS"
      },
      "source": [
        "**ROUGE** (Recall-Oriented Understudy for Gisting Evaluation). Есть несколько типов ROUGE:\n",
        "1. *ROUGE-1*: сравнивается каждое слово\n",
        "2. *ROUGE-2*: сравниваются би-граммы\n",
        "3. *ROUGE-L*: статистика на основе самой длинной общей подпоследовательности (LCS). Задача самой длинной общей подпоследовательности естественным образом учитывает сходство структуры на уровне предложения и автоматически определяет самую длинную совместную последовательность n-граммов."
      ]
    },
    {
      "cell_type": "markdown",
      "metadata": {
        "id": "Vr_28kTxMvcM"
      },
      "source": [
        "## План ноутбука"
      ]
    },
    {
      "cell_type": "markdown",
      "metadata": {
        "id": "5huXMZLWMyni"
      },
      "source": [
        "\n",
        "\n",
        "1.   Загрузка данных\n",
        "2.   TextRank\n",
        "3.   LexRank\n",
        "4.   zero-shot mT5 \n",
        "5.   fine-tuning mT5\n",
        "\n"
      ]
    },
    {
      "cell_type": "markdown",
      "metadata": {
        "id": "Kj6vCMf4ijc1"
      },
      "source": [
        "# Данные"
      ]
    },
    {
      "cell_type": "code",
      "metadata": {
        "id": "Cu5XpS_9lA_U",
        "colab": {
          "base_uri": "https://localhost:8080/"
        },
        "outputId": "d62ac612-6c65-4749-8743-0adf6aecfe51"
      },
      "source": [
        "train_records = read_gazeta_records(\"gazeta_train.txt\", 52400)\n",
        "val_records = read_gazeta_records(\"gazeta_val.txt\", 5265)\n",
        "test_records = read_gazeta_records(\"gazeta_test.txt\", 5770)"
      ],
      "execution_count": 6,
      "outputs": [
        {
          "output_type": "stream",
          "text": [
            "100%|██████████| 52400/52400 [00:03<00:00, 16181.63it/s]\n",
            "100%|██████████| 5265/5265 [00:00<00:00, 14834.71it/s]\n",
            "100%|██████████| 5770/5770 [00:00<00:00, 16833.53it/s]\n"
          ],
          "name": "stderr"
        }
      ]
    },
    {
      "cell_type": "code",
      "metadata": {
        "id": "wDxJ62M_E9lb",
        "colab": {
          "base_uri": "https://localhost:8080/"
        },
        "outputId": "60afdb5c-17f5-4ff3-b6ae-339c3b1e8e03"
      },
      "source": [
        "pprint(train_records[219], width=130)"
      ],
      "execution_count": null,
      "outputs": [
        {
          "output_type": "stream",
          "text": [
            "{'date': '2018-08-22 08:01:56',\n",
            " 'summary': 'Перед контрольными прокатами, которые пройдут 9 сентября в Москве, российские фигуристы примут участие в сборе в '\n",
            "            'Новогорске. Любители этого вида спорта ждут не только возвращения спортсменов на лед, но и встречи серебряного '\n",
            "            'призера Олимпийских игр 2018 года Евгении Медведевой с бывшим тренером Этери Тутберидзе.',\n",
            " 'text': 'До старта нового сезона в фигурном катании остается все меньше времени. Первый этап Гран-при пройдет в американском '\n",
            "         'городе Эверетт с 19 по 21 октября. Перед этим представители сборной России примут участие в контрольных прокатах, '\n",
            "         'которые пройдут 9 сентября в Москве на арене «Мегаспорт». Еще раньше спортсмены примут участие в сборе в Новогорске. '\n",
            "         'Генеральный директор Федерации фигурного катания на коньках России (ФФККР) Александр Коган заявил, что в Новогорск '\n",
            "         'прибудет двукратный серебряный призер Олимпийских игр 2018 года в Пхенчхане Евгения Медведева. «Мы постоянно на связи. '\n",
            "         'Сейчас Евгения готовится к контрольным прокатам. Перед ними, как и все спортсмены нашей команды, она примет участие в '\n",
            "         'основном сборе в Новогорске», — сообщил Коган. Поклонники фигурного катания, а также любители скандалов и интриг в '\n",
            "         'мире спорта с нетерпением ждут предстоящую встречу Медведевой с бывшим тренером Этери Тутберидзе. Нельзя исключать, '\n",
            "         'что для кого-то эта тема важнее, чем новые программы фигуристов. Спортсменка ушла от специалиста в мае 2018 года. '\n",
            "         'Расставание прошло не слишком гладко. Сообщалось, что между учителем и ученицей были сложные отношения после '\n",
            "         'Олимпийских игр, когда Евгения уступила золото еще одной представительнице группу Тутберидзе Алине Загитовой. Тренер '\n",
            "         'жестко прокомментировала уход Медведевой из группы. «Конечно, мне бы хотелось, чтобы первый раз я ее увидела не на '\n",
            "         'Гран-при, а все-таки у нее хватило совести прийти и подарить цветы, я не знаю, сказать «спасибо». Это первое. А '\n",
            "         'второе, к сожалению, в общем-то это будет ситуация для меня уже не новая, я встречалась со своими спортсменами, '\n",
            "         'которые уходили, ну поэтому я себя морально, наверное, к этому приготовила», — сказала Тутберидзе в эфире Первого '\n",
            "         'канала. Возможно, тренер будет ждать свое заслуженное «спасибо» и букет цветов как раз на сборах, а может на '\n",
            "         'контрольных прокатах. Сейчас Медведева готовится к предстоящему сезону с канадским специалистом Брайаном Орсером и '\n",
            "         'хореографом Дэвидом Уилсоном. Мама Медведевой Жанна Девятова сообщила, что специалисты тоже прибудут в Москву на '\n",
            "         'контрольные прокаты. «Орсер и Уилсон прилетят в Россию непосредственно к началу мероприятия. Женя появится в столице '\n",
            "         'на сутки раньше и планирует провести первую тренировку в Новогорске 6 сентября», — сказала Девятова. Однако Орсер не '\n",
            "         'сможет посетить чемпионат России, который пройдет в Саранске. Вместо этого канадец отправится на первенство Японии, '\n",
            "         'где будет выступать другой его подопечный Юдзуру Ханю. «Работать с Женей в Саранске будет помощница Орсера Трейси '\n",
            "         'Уилсон, а сам Брайан полетит в Японию. Так совпало, что в одни сроки с чемпионатом России там будет проходить '\n",
            "         'национальное первенство, на котором будет выступать Юдзуру Ханю», — добавила мама спортсменки. Новые программы '\n",
            "         'Медведевой остаются в тайне. Сама Женя в инстаграме сообщила лишь названия композиций, под которые она будет '\n",
            "         'выступать. Короткая программа будет представлена под джазовую музыку Orange Colored Sky американской исполнительницы '\n",
            "         'Натали Коул. В произвольной программе Медведева будет выступать под композиции китайского виолончелиста Йо Йо Ма. '\n",
            "         'Первая часть будет исполняться под мелодии Mumuki, а вторая — под Libertango. Также фигуристка сменила свой имидж. '\n",
            "         'Женя выложила в инстаграм фото с новой прической. Сама спортсменка уточнила, что отстриженная челка была у нее в шесть '\n",
            "         'лет. Назад в 2005г.  Уточнение: я была с такой стрижкой в 6 лет Публикация от Evgenia Medvedevа (@jmedvedevaj) 18 Авг '\n",
            "         '2018 в 6:20 PDT Мнения поклонников разделились: кто-то высоко оценил новый образ спортсменки, а кого-то такие перемены '\n",
            "         'расстроили. Критики этим летом Медведева начиталась прилично. Сам уход от Тутберидзе вызвал немало гнева у любителей '\n",
            "         'фигурного катания. Но чем дальше, тем интереснее. Спортсменку стали упрекать за то, что она начала подписывать свои '\n",
            "         'посты на английском. Некоторые подписчики жаловались, что не понимает язык, а для кого-то записи на иностранном языке '\n",
            "         'ассоциировались с отсутствием патриотичности у спортсменки. Мол, сначала в Канаду уехала, а потом и по-русски '\n",
            "         'перестала говорить. Шквал негатива вынудил подписывать снимки на двух языках. Но, как говорится, осадок у любителей '\n",
            "         'русской письменности остался. «Женечка, а куда делись посты на русском?» — спросила одна из подписчиц. «Вы уже не '\n",
            "         'видите русского языка в моих постах? Однако», — ответила фигуристка, не скрывая своего негодования. Тема предательства '\n",
            "         'России раз за разом поднимается подписчиками Медведевой. «Зачем ты нас предала?» — написал пользователь инстаграма. '\n",
            "         '«Обожаю. Вот именно поэтому я знаю своих настоящих фанатов лично. И я им благодарна, что они всегда рядом. А не люди, '\n",
            "         'готовые переобуться в воздухе», — прокомментировала Медведева данный диалог со своим подписчиком в инстаграме. Другие '\n",
            "         'новости, материалы и статистику можно посмотреть на странице фигурного катания , а также в группах отдела спорта в '\n",
            "         'социальных сетях Facebook и «Вконтакте» .',\n",
            " 'title': 'Медведева едет к Тутберидзе: болельщики ждут скандала',\n",
            " 'url': 'https://www.gazeta.ru/sport/2018/08/22/a_11916739.shtml'}\n"
          ],
          "name": "stdout"
        }
      ]
    },
    {
      "cell_type": "markdown",
      "metadata": {
        "id": "ERSVbITQLy4t"
      },
      "source": [
        "# Extractive summarization "
      ]
    },
    {
      "cell_type": "markdown",
      "metadata": {
        "id": "IZ0g82Bwky1b"
      },
      "source": [
        "## TextRank"
      ]
    },
    {
      "cell_type": "markdown",
      "metadata": {
        "id": "EoW2KdnPYPDQ"
      },
      "source": [
        "### Теория"
      ]
    },
    {
      "cell_type": "markdown",
      "metadata": {
        "id": "VG1KHIgSYXEl"
      },
      "source": [
        "TextRank - это алгоритм, основанный на PageRank, который часто используется для извлечения ключевых слов и суммаризации текста. "
      ]
    },
    {
      "cell_type": "markdown",
      "metadata": {
        "id": "0SHvgVxcZc-r"
      },
      "source": [
        "PageRank (PR) - это алгоритм, используемый для расчета веса веб-страниц. Мы можем взять все веб-страницы в виде большого ориентированного графа. На этом графике узел является веб-страницей. Если веб-страница A имеет ссылку на веб-страницу B, она может быть представлена ​​в виде направленного ребра от A до B."
      ]
    },
    {
      "cell_type": "markdown",
      "metadata": {
        "id": "nZ50C2xMYRiv"
      },
      "source": [
        "### Пробуем на практике"
      ]
    },
    {
      "cell_type": "code",
      "metadata": {
        "id": "1Ra6NUbPkh76",
        "colab": {
          "base_uri": "https://localhost:8080/"
        },
        "outputId": "85a6a5b4-4231-4da0-e50f-898e7c334005"
      },
      "source": [
        "model_name = 'distilbert-multilingual-nli-stsb-quora-ranking'\n",
        "model = TextRank(model_name)"
      ],
      "execution_count": null,
      "outputs": [
        {
          "output_type": "stream",
          "text": [
            "100%|██████████| 501M/501M [00:22<00:00, 22.0MB/s]\n"
          ],
          "name": "stderr"
        }
      ]
    },
    {
      "cell_type": "code",
      "metadata": {
        "id": "nNFbhShH2-7c",
        "colab": {
          "base_uri": "https://localhost:8080/"
        },
        "outputId": "f26ca1eb-3c71-4a54-bac5-8cc5809fc1e2"
      },
      "source": [
        "model.get_summary(train_records[14])"
      ],
      "execution_count": null,
      "outputs": [
        {
          "output_type": "stream",
          "text": [
            "\n",
            "Count: 1\n",
            "Полный текст:\n",
            "('В пятницу, 27 мая, в столичном регионе давление повысится до 749 мм рт. ст. Как пояснили «Газете.Ru» в центре «Фобос» , из-за этого солнце сильнее '\n",
            " 'прогреет воздух: днем ожидается +22…+27°С (ночью +9…+14°С). Атмосфера станет неустойчивой, а это, в свою очередь, вызовет короткие дожди и грозы — '\n",
            " 'преимущественно днем. Из-за духоты, которая всегда возникает перед грозой, жара будет переноситься еще хуже, так что всем страдающим от '\n",
            " 'сердечно-сосудистых заболеваний или болезней органов дыхания стоит быть втройне осторожнее. Ветер ночью переменных направлений, слабый, днем '\n",
            " 'восточный, северо-восточный, 3–8 м/с, при грозе — порывистый. Последний уикенд весны поддержит погодный тренд: синоптическая ситуация в Москве '\n",
            " 'существенно не изменится. Оба дня переменная облачность, днем местами кратковременный дождь, не исключена гроза. Давление высокое — 751 мм рт. '\n",
            " 'ст., ветер в субботу южный, в воскресенье — северо-восточный, оба дня скорость одинаковая, 3–8 м/с. Температура воздуха ночью +9…+14°С, днем '\n",
            " '+22…+27°С. Охладить пыл и остудить голову советуем на фестивале мороженого, который пройдет с 12.00 в эти два дня в парке «Сокольники». 30 мая, '\n",
            " 'понедельник, не станет исключением в череде теплой, но неустойчивой погоды. В этот день ожидается переменная облачность, кратковременный дождь, '\n",
            " 'местами возможна гроза. Температура воздуха ночью +11…+16°С, днем +22…+27°С. Ветер восточный, 3–8 м/с. Атмосферный фон по-прежнему повышенный — '\n",
            " '749 мм рт. ст. Во вторник, 31 мая, Москва окажется на границе взаимодействия антициклона на северо-востоке и циклона на западе. Антициклон будет '\n",
            " 'отвечать за высокое — 750 мм рт. ст. — давление, а циклон благодаря «приспешникам» — облачным полям — за пасмурную погоду и ограниченный прогрев '\n",
            " 'воздуха. Местами кратковременный дождь. Температура воздуха ночью +10…+15°С, днем +15…+20°С, местами до +23°С. Ветер восточный, 5–10 м/с. В первый '\n",
            " 'день календарного лета в Московском регионе будет не по сезону прохладно. Причиной тому станут плотные облачные поля, которые не позволят воздуху '\n",
            " 'прогреваться, да и без коротких локальных дождей не обойдется. Ветер восточный, 5–10 м/с. Давление в среду, 1 июня, высокое, 752 мм рт. ст. '\n",
            " 'Температура воздуха ночью +7…+12°С, днем +13…+18°С. Впрочем, это не должно стать помехой семейному отдыху, особенно в День детей, совмещенный с '\n",
            " 'Днем родителей. Выберите с ребенком, куда сходить и чем заняться, или «выгуляйте» собственных маму с папой. В четверг, 2 июня, в облачных полях '\n",
            " 'над столицей начнут появляться прояснения, что незамедлительно скажется на температурном режиме. Повлияет, разумеется, исключительно в '\n",
            " 'положительном смысле. Температура воздуха начнет повышаться, а вероятность дождей заметно понизится, и, как осторожно предполагают синоптики, в '\n",
            " 'этот день осадков не будет вовсе. Температура воздуха ночью +6…+11°С, днем +15…+20°С. Ветер восточный, юго-восточный, 4–9 м/с. Атмосферный фон '\n",
            " 'повышенный — 751 мм рт. ст. В пятницу циклон с запада начнет усиливать свое влияния в столичном регионе. Вероятность небольших дождей днем 3 июня '\n",
            " 'увеличится, но при этом и температурный фон начнет повышаться. Облачно с прояснениями. Температура воздуха ночью +8…+13°С, днем +16…+21°С. Ветер '\n",
            " 'юго-восточный, 4–9 м/с. Давление резко ухнет вниз и остановится на отметке 742 мм рт. ст. Метеозависимых бедняг в вечер пятницы будет шатать не '\n",
            " 'хуже тех, кто только вылез из бара. В субботу, 4 июня, в столичный регион с юго-восточными ветрами (4–9 м/с) продолжится поступление теплых и '\n",
            " 'неустойчивых воздушных масс. Они станут причиной облачности и периодических дождей. Но нет худа без добра: благодаря тем же массам температурный '\n",
            " 'режим вернется в норму. Вот бы сказать то же самое о графике сна и бодрствования у школьников на летних каникулах! Но вернемся к климатической '\n",
            " 'норме. Температура воздуха ночью +8…+13°С, днем +18…+23°С. Давление продолжает стремительно падать и в этот день составит 736 мм рт. ст. В '\n",
            " 'воскресенье, 5 июня, атмосферное давление немного подрастет — до 739 мм рт. ст. Из-за этого в облачных полях появится больше прояснений, но без '\n",
            " 'коротких локальных дождей все же не обойдется. В перерывах между ними стоит все же выбраться на свежий воздух и попробовать одно из новых для себя '\n",
            " 'занятий: от йоги до катания на сигвеях. Температура воздуха ночью +9…+14°С, днем +18…+23°С. Ветер южный, 3–8 м/с.')\n",
            "------------------------------------------------------------------------------------------------------------------------------------------------------\n",
            "Исходное summary:\n",
            "('московская погода придет в себя, отставит истерику в виде аномальных ливней или резкого похолодания и вернется к климатической норме. последние '\n",
            " 'выходные весны будут вообще больше напоминать разгар июля. правда, после этого наступит краткий период «летней печальки»: немного похолодает и '\n",
            " 'пройдут кратковременные дожди.')\n",
            "------------------------------------------------------------------------------------------------------------------------------------------------------\n",
            "TextRank summary:\n",
            "('температура воздуха ночью +11…+16°с, днем +22…+27°с. ветер восточный, 3–8 м/с. атмосферный фон по-прежнему повышенный — 749 мм рт. ст. во вторник, '\n",
            " '31 мая, москва окажется на границе взаимодействия антициклона на северо-востоке и циклона на западе. температура воздуха начнет повышаться, а '\n",
            " 'вероятность дождей заметно понизится, и, как осторожно предполагают синоптики, в этот день осадков не будет вовсе. температура воздуха ночью '\n",
            " '+8…+13°с, днем +18…+23°с. давление продолжает стремительно падать и в этот день составит 736 мм рт. ст. в воскресенье, 5 июня, атмосферное '\n",
            " 'давление немного подрастет — до 739 мм рт. ст. из-за этого в облачных полях появится больше прояснений, но без коротких локальных дождей все же не '\n",
            " 'обойдется.')\n",
            "------------------------------------------------------------------------------------------------------------------------------------------------------\n",
            "BLEU:  0.18496624175550355\n"
          ],
          "name": "stdout"
        }
      ]
    },
    {
      "cell_type": "markdown",
      "metadata": {
        "id": "uywYKtIs77Ng"
      },
      "source": [
        "### Test TextRank"
      ]
    },
    {
      "cell_type": "code",
      "metadata": {
        "id": "EhYkcw8o_dE7",
        "colab": {
          "base_uri": "https://localhost:8080/",
          "height": 1000
        },
        "outputId": "72423b3d-fb60-47f4-c4ee-a8e202d4bbe2"
      },
      "source": [
        "model.get_summary(train_records[4321])"
      ],
      "execution_count": null,
      "outputs": [
        {
          "output_type": "stream",
          "text": [
            "\n",
            "Count: 1\n",
            "Полный текст:\n",
            "('Ситуацию в Белоруссии рассмотрят на заседании Совета ООН по правам человека. С таким предложением выступил Евросоюз. «Одним из главных приоритетов '\n",
            " 'ЕС в перспективе сессии Совета ООН по правам человека, которая состоится в июне, будет ситуация с правами человека в Белоруссии, которая '\n",
            " 'продолжает вызывать горячую обеспокоенность», – сказано в специальном постановлении Совета ЕС , принятом в связи с подготовкой регулярной сессии '\n",
            " 'Совета ООН. Документ был принят в понедельник в Брюсселе министрами иностранных дел стран ЕС. В нем также говорится, что Евросоюз считает '\n",
            " 'приоритетным на ближайшей сессии обсудить и ситуацию с правами человека в Сирии, где нарушается международное право. Также Совет ЕС обращает '\n",
            " 'внимание Совета ООН на критическое положение с правами человека в КНДР. Евросоюз совместно с Японией предложит на сессии создать независимый '\n",
            " 'механизм расследования ситуации с обеспечением прав человека в Северной Корее. Наконец, ЕС намерен активно поддержать продление мандата '\n",
            " 'специального докладчика ООН по правам человека в Иране и требования его срочного допуска в страну. Несмотря на то что в постановлении Совета ЕС '\n",
            " 'говорится о неприятной ситуации во многих странах, включая Шри-Ланку, Мали, Мьянму, Конго, Эритрею, Судан и Южный Судан, белорусский вопрос все же '\n",
            " 'оказался для европейцев приоритетным. Как сообщает белорусское информагентство «БелаПАН», на июньской сессии с докладом выступит спецдокладчик по '\n",
            " 'ситуации в Белоруссии Совета ООН по правам человека Миклош Харашти. 18 февраля на встрече с белорусскими журналистами в Киеве Харашти сообщил, что '\n",
            " 'в работе над докладом уделяет большое внимание вопросу о политзаключенных, условиям содержания в белорусских тюрьмах, соблюдению основных '\n",
            " 'политических и гражданских прав. Встреча состоялась в Киеве, в частности, по той причине, что белорусские власти отказываются сотрудничать со '\n",
            " 'специальным докладчиком ООН по вопросам прав человека и не пускают его в страну. Рассказывая о своей работе, спецдокладчик ООН подчеркнул: «Я '\n",
            " 'заинтересован в том, чтобы в своем докладе непредвзято отразить ситуацию в Белоруссии, в том числе позицию белорусского правительства, его видение '\n",
            " 'существующих проблем и пути их решения». Однако, добавил Харашти, пока он смог встретиться только с представителями гражданского общества '\n",
            " 'Белоруссии, причем встречи проходили за пределами страны, так как официальный Минск не признает его мандат спецдокладчика и не дает разрешение на '\n",
            " 'визит. «Мое самое большое желание – чтобы сотрудничество с правительством Белоруссии было бы таким же полным, как сейчас с гражданским обществом. '\n",
            " 'В этом заинтересованы и Совет ООН по правам человека, и верховный комиссар по правам человека», – заявил Харашти. Даже если обсуждение на площадке '\n",
            " 'ООН не приведет к введению против Минска международных санкций (например, если Россия заблокирует соответствующую резолюцию как член Совбеза), '\n",
            " 'сама инициатива ЕС говорит о том, что европейцы на политическом уровне решили серьезно ужесточить свое отношение к режиму Лукашенко , невзирая на '\n",
            " 'собственные экономические потери. Ныне действующие европейские и американские санкции в отношении Минска имеют давнюю историю. С 1996 года (когда '\n",
            " 'Александр Лукашенко волевым образом изменил законодательство) ЕС и США не признали ни одни прошедшие в Белоруссии выборы. После этого в разное '\n",
            " 'время Западом вводились и отменялись различные санкции. Ныне действующие были введены после бурных событий в конце 2010 года, когда в Минске '\n",
            " 'власти жестоко подавили массовые протесты против фальсификации президентских выборов, а за решеткой оказались семеро из девяти соперников '\n",
            " 'Лукашенко на выборах. С начала 2011 года Евросоюз и США применяют санкции в отношении 243 чиновников и 32 предприятий Белоруссии. Чиновников '\n",
            " 'обвиняют в преследовании инакомыслящих, участии в политических репрессиях, давлении на СМИ и фальсификации выборов. К этим санкциям присоединились '\n",
            " 'также Канада, Швейцария, Сербия и некоторые другие страны. Политические санкции предполагают снижение уровня представительства на переговорах, а '\n",
            " 'также отсутствие приглашений на официальные мероприятия, проводимые в странах, которые применяют санкции. В числе невъездных в ЕС и США – сам '\n",
            " 'Лукашенко и нынешний министр иностранных дел Владимир Макей. Европейцы категорически отказываются вести диалог с официальным с Минском до тех пор, '\n",
            " 'пока в белорусских тюрьмах содержатся политзаключенные. Их, по разным оценкам, от 13 до 15 человек, в том числе экс-кандидат в президенты Николай '\n",
            " 'Статкевич и номинированный на Нобелевскую премию мира правозащитник Алесь Беляцкий. Кроме того, с 1 июля 2013 года председательство в Европейском '\n",
            " 'союзе переходит к Литве. А с ней у Белоруссии весьма натянутые политические отношения, особенно с лета прошлого года, когда именно через '\n",
            " 'территорию Литвы в Белоруссию прилетел шведский самолет с «плюшевым десантом». До недавних пор трения между Минском и Вильнюсом сглаживало тесное '\n",
            " 'экономическое сотрудничество – значительная доля белорусского экспорта шла через порты Литвы, а белорусские покупатели обеспечивали 30–40% выручки '\n",
            " 'литовских супермаркетов. Но Александр Лукашенко в конце 2012 года пообещал переориентировать транзит из портов стран Балтии в порты в '\n",
            " 'Ленинградской области. А уже в январе белорусские власти занялись теми гражданами страны, которые, по их мнению, слишком активно ездят за '\n",
            " 'покупками в Литву и Польшу. «Вопрос прав человека в Белоруссии для ЕС – во многом ритуальный. Брюссель поднимает проблему, где только может, '\n",
            " 'говорит массу правильных слов и продолжает ввозить белорусские нефтепродукты, металлургию, лес и прочую продукцию, – говорит Андрей Поротников , '\n",
            " 'руководитель аналитического проекта Belarus Security Blog. – Я бы не стал преувеличивать значение события. Намерение европейцев вынести на '\n",
            " 'рассмотрение комиссии ООН вопрос соблюдения прав человека в Белоруссии свидетельствует лишь об отсутствии принципиальных изменений в '\n",
            " 'белорусско-европейских отношениях и не более. Обсуждение ООН белорусской проблематики имело место и раньше и никогда ни к чему реальному не '\n",
            " 'приводило». Впрочем, по мнению другого эксперта «Газеты.Ru», теперь Евросоюз настроен более решительно. «В 2012 году, несмотря на всю риторику о '\n",
            " 'нарушениях прав человека и политических свобод белорусским режимом, Брюссель не вводил новые экономические санкции против Минска. Просто потому, '\n",
            " 'что западные европейцы с удовольствием покупали дешевые белорусские нефтепродукты из российской нефти – те самые «разбавители» и «растворители», '\n",
            " 'из-за которых в конце года у Лукашенко и случился крупный конфликт с Кремлем, – напоминает Марек Паньковски, эксперт Объединенного ситуационного '\n",
            " 'центра ЕС (EU INTCEN). – Однако теперь с введением новых санкций – и именно экономических – согласны также главные в прошлом году покупатели '\n",
            " 'белорусских нефтепродуктов Германия и Нидерланды. А это значит, что экономические интересы отдельных стран Европы окончательно уступают '\n",
            " 'политическим интересам ЕС в целом. Это плохая новость для официального Минска». 12 февраля министр иностранных дел Нидерландов (на эту страну в '\n",
            " 'прошлом году приходилось около 10% торгового оборота Белоруссии) Франс Тиммерманс не исключил применения новых экономических санкций в отношении '\n",
            " 'белорусского режима в случае продолжения нарушения прав человека в Белоруссии. «Мы можем применить экономические санкции, если это будет '\n",
            " 'необходимо. Пока что среди моих европейских коллег нет однозначного мнения насчет их эффекта. Я думаю, что поддержка гражданского общества в '\n",
            " 'Беларуси сегодня не менее важна», — заявил он во время официального визита в Варшаву, отвечая на вопрос, готовы ли Нидерланды прекратить закупки '\n",
            " 'нефтепродуктов у Белоруссии.')\n",
            "------------------------------------------------------------------------------------------------------------------------------------------------------\n",
            "Исходное summary:\n",
            "('противостояние белоруссии и запада переходит на принципиально новый уровень. если до сих пор с репрессиями и несменяемой властью александра '\n",
            " 'лукашенко боролись исключительно европейцы при некоторой поддержке сша, то теперь поведение официального минска будет рассмотрено на специальной '\n",
            " 'сессии совета оон по правам человека, которая состоится в июне. с инициативой выступил ес. режиму лукашенко это может грозить серьезными '\n",
            " 'проблемами: даже если оон не примет против минска международных санкций, евросоюз ужесточит свои.')\n",
            "------------------------------------------------------------------------------------------------------------------------------------------------------\n",
            "TextRank summary:\n",
            "('несмотря на то что в постановлении совета ес говорится о неприятной ситуации во многих странах, включая шри-ланку, мали, мьянму, конго, эритрею, '\n",
            " 'судан и южный судан, белорусский вопрос все же оказался для европейцев приоритетным. даже если обсуждение на площадке оон не приведет к введению '\n",
            " 'против минска международных санкций (например, если россия заблокирует соответствующую резолюцию как член совбеза), сама инициатива ес говорит о '\n",
            " 'том, что европейцы на политическом уровне решили серьезно ужесточить свое отношение к режиму лукашенко , невзирая на собственные экономические '\n",
            " 'потери. 12 февраля министр иностранных дел нидерландов (на эту страну в прошлом году приходилось около 10% торгового оборота белоруссии) франс '\n",
            " 'тиммерманс не исключил применения новых экономических санкций в отношении белорусского режима в случае продолжения нарушения прав человека в '\n",
            " 'белоруссии. я думаю, что поддержка гражданского общества в беларуси сегодня не менее важна», — заявил он во время официального визита в варшаву, '\n",
            " 'отвечая на вопрос, готовы ли нидерланды прекратить закупки нефтепродуктов у белоруссии.')\n",
            "------------------------------------------------------------------------------------------------------------------------------------------------------\n",
            "BLEU:  0.30409069391234334\n"
          ],
          "name": "stdout"
        }
      ]
    },
    {
      "cell_type": "code",
      "metadata": {
        "id": "h35DcWLowtL-",
        "colab": {
          "base_uri": "https://localhost:8080/",
          "height": 765
        },
        "outputId": "62c1561e-7458-479a-ff4c-45f15ac1cd03"
      },
      "source": [
        "model.get_summary(train_records[2900])"
      ],
      "execution_count": null,
      "outputs": [
        {
          "output_type": "stream",
          "text": [
            "100%|██████████| 501M/501M [00:21<00:00, 23.3MB/s]\n"
          ],
          "name": "stderr"
        },
        {
          "output_type": "stream",
          "text": [
            "\n",
            "Count: 1\n",
            "Полный текст:\n",
            "('«Подтверждаю, что губернатор прилетел», — подтвердил ТАСС информацию о возвращении губернатора неназванный источник, близкий к Тулеев у. '\n",
            " 'Губернатор был доставлен в Кемеровскую область чартерным рейсом. Его встречал автомобиль скорой помощи и замгубернатора по медицине Валерий Цой. '\n",
            " 'Самочувствие Амана Тулеева называют хорошим. «Состояние губернатора стабильное, он чувствует себя значительно лучше. Сейчас он будет проходить '\n",
            " 'реабилитационный курс в регионе, будет включаться в работу, в том числе планирует проводить рабочие встречи с подчиненными», — добавил собеседник '\n",
            " 'агентства. Официально Тулеев находился в отпуске начиная с 22 мая. Изначально глава Кемеровской области взял отпуск на 10 дней, но после срок '\n",
            " 'неоднократно продлевался. Все это время обязанности главы региона исполнял первый заместитель губернатора Владимир Чернов. Операция на '\n",
            " 'позвоночнике губернатора длилась 9 часов и была проведена в клинике, расположенной в Германии. Врачи приняли решение расширить объемы оперативного '\n",
            " 'вмешательства. После операции также возник ряд осложнений, связанный с пневмонией. Трудности с дыханием были вызваны длительным постельным режимом '\n",
            " 'и лежачим образом жизни в течение лечения. С 11 июня Тулеев проходил курс реабилитации в Москве в Центральной клинической больнице управления '\n",
            " 'делами президента. Процесс восстановления после операции происходил под личным контролем министра здравоохранения России Вероники Скворцовой. '\n",
            " 'Решение о переезде Тулеева из Кузбасса (куда он вернулся после операции в немецкой больнице) в Москву было принято после видеоконференции по '\n",
            " 'инициативе начальницы Минздрава. «В кемеровский аэропорт для перелета в Москву Тулеева доставили в субботу, на борт МЧС его подняли на носилках. '\n",
            " 'После перелета в столицу главу Кузбасса госпитализировали в ЦКБ управления делами президента, где он проходит курс реабилитации. Его состояние '\n",
            " 'оценивается как удовлетворительное, он в сознании, общается по телефону с сослуживцами, бодр», — рассказал ТАСС источник в администрации '\n",
            " 'Кемеровской области. Тулеев возглавляет Кемеровскую область 20 лет — с 1997 года. Он является самым «долгоиграющим» губернатором в Российской '\n",
            " 'Федерации. В мае-июне 2017 года из-за долгого отсутствия политика на публике и рабочем месте в СМИ поползли слухи об уходе Тулеева с должности. '\n",
            " 'Было заметно, что 9 мая губернатор не участвовал в праздничных мероприятиях, посвященных Дню Победы. Пресс-служба администрации региона сообщила '\n",
            " '22 мая, что губернатор ушел в 10-дневный отпуск, который затем был продлен до 16 июня. Через два дня после этого в областной администрации '\n",
            " 'сообщили, что Тулеев «вновь продлил отпуск», однако на этот раз дата его завершения не называлась. Ранее был составлен список возможных преемников '\n",
            " 'главы Кузбасса. Согласно информации «Ъ», администрация президента составила список из 20 претендентов. Среди них упоминаются мэр Нижнего Тагила '\n",
            " 'Сергей Носов и депутат госдумы от Кемеровской области Дмитрий Исламов. Наиболее вероятной называлась кандидатура Носова , сделавшего политическую '\n",
            " 'карьеру именно на Урале. При этом против переезда Носова в Кемерово выступает Уральская горно-металлургическая компания (УГМК), располагающая '\n",
            " 'значительными активами на Кузбассе, с которой у мэра Нижнего Тагила «сложились сложные отношения». Аман Тулеев же хотел бы видеть в качестве '\n",
            " 'нового главы региона местного чиновника. Согласно словам Тулеева, долговая нагрузка области составляет примерно 75% от годового дохода. «В целом '\n",
            " 'доходная часть бюджета — 105,1 млрд руб., расходы — 109,2 млрд», — заявил политик летом 2016 года. Уходить с поста главы региона он не собирался. '\n",
            " '«У меня команда, я прошел с ними столько всего: от Кузбасса, сидящего на рельсах, до Кузбасса сегодняшнего», — рассказывал Тулеев агентству ТАСС. '\n",
            " '«В чем сила руководителей типа меня — я все прошел: советский период и перестройку, всегда был рядом с людьми, с шахтерами. И они все помнят. Все '\n",
            " 'было: и водку пили, и ругались, а это не забывается. Это достигается только за счет пятидесятилетнего опыта, когда ты каждое предприятие знаешь, '\n",
            " 'каждый угол знаешь, людей знаешь многих», — рассказал о духе своего правления кузбасский политический Мафусаил.')\n",
            "------------------------------------------------------------------------------------------------------------------------------------------------------\n",
            "Исходное summary:\n",
            "('глава кемеровской области аман тулеев вернулся в субботу из москвы в кемерово после пройденного курса постоперационной реабилитации. состояние '\n",
            " 'тулеева называют стабильным, он планирует постепенно включаться в работу. в мае политик перенес операцию на позвоночнике.')\n",
            "------------------------------------------------------------------------------------------------------------------------------------------------------\n",
            "TextRank summary:\n",
            "('изначально глава кемеровской области взял отпуск на 10 дней, но после срок неоднократно продлевался. решение о переезде тулеева из кузбасса (куда '\n",
            " 'он вернулся после операции в немецкой больнице) в москву было принято после видеоконференции по инициативе начальницы минздрава. «у меня команда, '\n",
            " 'я прошел с ними столько всего: от кузбасса, сидящего на рельсах, до кузбасса сегодняшнего», — рассказывал тулеев агентству тасс.')\n",
            "------------------------------------------------------------------------------------------------------------------------------------------------------\n",
            "BLEU:  0.32187566728843503\n"
          ],
          "name": "stdout"
        }
      ]
    },
    {
      "cell_type": "markdown",
      "metadata": {
        "id": "26MLJWw43CK3"
      },
      "source": [
        "Есть поддержка своих текстов."
      ]
    },
    {
      "cell_type": "code",
      "metadata": {
        "id": "TnyffJ7b2KX3",
        "colab": {
          "base_uri": "https://localhost:8080/",
          "height": 612
        },
        "outputId": "d2b9af0e-cd81-4462-aa74-6e3ccbc71b1c"
      },
      "source": [
        "model.get_summary(train_records[2900]['text'])"
      ],
      "execution_count": null,
      "outputs": [
        {
          "output_type": "stream",
          "text": [
            "Полный текст:\n",
            "('«Подтверждаю, что губернатор прилетел», — подтвердил ТАСС информацию о возвращении губернатора неназванный источник, близкий к Тулеев у. '\n",
            " 'Губернатор был доставлен в Кемеровскую область чартерным рейсом. Его встречал автомобиль скорой помощи и замгубернатора по медицине Валерий Цой. '\n",
            " 'Самочувствие Амана Тулеева называют хорошим. «Состояние губернатора стабильное, он чувствует себя значительно лучше. Сейчас он будет проходить '\n",
            " 'реабилитационный курс в регионе, будет включаться в работу, в том числе планирует проводить рабочие встречи с подчиненными», — добавил собеседник '\n",
            " 'агентства. Официально Тулеев находился в отпуске начиная с 22 мая. Изначально глава Кемеровской области взял отпуск на 10 дней, но после срок '\n",
            " 'неоднократно продлевался. Все это время обязанности главы региона исполнял первый заместитель губернатора Владимир Чернов. Операция на '\n",
            " 'позвоночнике губернатора длилась 9 часов и была проведена в клинике, расположенной в Германии. Врачи приняли решение расширить объемы оперативного '\n",
            " 'вмешательства. После операции также возник ряд осложнений, связанный с пневмонией. Трудности с дыханием были вызваны длительным постельным режимом '\n",
            " 'и лежачим образом жизни в течение лечения. С 11 июня Тулеев проходил курс реабилитации в Москве в Центральной клинической больнице управления '\n",
            " 'делами президента. Процесс восстановления после операции происходил под личным контролем министра здравоохранения России Вероники Скворцовой. '\n",
            " 'Решение о переезде Тулеева из Кузбасса (куда он вернулся после операции в немецкой больнице) в Москву было принято после видеоконференции по '\n",
            " 'инициативе начальницы Минздрава. «В кемеровский аэропорт для перелета в Москву Тулеева доставили в субботу, на борт МЧС его подняли на носилках. '\n",
            " 'После перелета в столицу главу Кузбасса госпитализировали в ЦКБ управления делами президента, где он проходит курс реабилитации. Его состояние '\n",
            " 'оценивается как удовлетворительное, он в сознании, общается по телефону с сослуживцами, бодр», — рассказал ТАСС источник в администрации '\n",
            " 'Кемеровской области. Тулеев возглавляет Кемеровскую область 20 лет — с 1997 года. Он является самым «долгоиграющим» губернатором в Российской '\n",
            " 'Федерации. В мае-июне 2017 года из-за долгого отсутствия политика на публике и рабочем месте в СМИ поползли слухи об уходе Тулеева с должности. '\n",
            " 'Было заметно, что 9 мая губернатор не участвовал в праздничных мероприятиях, посвященных Дню Победы. Пресс-служба администрации региона сообщила '\n",
            " '22 мая, что губернатор ушел в 10-дневный отпуск, который затем был продлен до 16 июня. Через два дня после этого в областной администрации '\n",
            " 'сообщили, что Тулеев «вновь продлил отпуск», однако на этот раз дата его завершения не называлась. Ранее был составлен список возможных преемников '\n",
            " 'главы Кузбасса. Согласно информации «Ъ», администрация президента составила список из 20 претендентов. Среди них упоминаются мэр Нижнего Тагила '\n",
            " 'Сергей Носов и депутат госдумы от Кемеровской области Дмитрий Исламов. Наиболее вероятной называлась кандидатура Носова , сделавшего политическую '\n",
            " 'карьеру именно на Урале. При этом против переезда Носова в Кемерово выступает Уральская горно-металлургическая компания (УГМК), располагающая '\n",
            " 'значительными активами на Кузбассе, с которой у мэра Нижнего Тагила «сложились сложные отношения». Аман Тулеев же хотел бы видеть в качестве '\n",
            " 'нового главы региона местного чиновника. Согласно словам Тулеева, долговая нагрузка области составляет примерно 75% от годового дохода. «В целом '\n",
            " 'доходная часть бюджета — 105,1 млрд руб., расходы — 109,2 млрд», — заявил политик летом 2016 года. Уходить с поста главы региона он не собирался. '\n",
            " '«У меня команда, я прошел с ними столько всего: от Кузбасса, сидящего на рельсах, до Кузбасса сегодняшнего», — рассказывал Тулеев агентству ТАСС. '\n",
            " '«В чем сила руководителей типа меня — я все прошел: советский период и перестройку, всегда был рядом с людьми, с шахтерами. И они все помнят. Все '\n",
            " 'было: и водку пили, и ругались, а это не забывается. Это достигается только за счет пятидесятилетнего опыта, когда ты каждое предприятие знаешь, '\n",
            " 'каждый угол знаешь, людей знаешь многих», — рассказал о духе своего правления кузбасский политический Мафусаил.')\n",
            "------------------------------------------------------------------------------------------------------------------------------------------------------\n",
            "TextRank summary:\n",
            "('изначально глава кемеровской области взял отпуск на 10 дней, но после срок неоднократно продлевался. решение о переезде тулеева из кузбасса (куда '\n",
            " 'он вернулся после операции в немецкой больнице) в москву было принято после видеоконференции по инициативе начальницы минздрава. «у меня команда, '\n",
            " 'я прошел с ними столько всего: от кузбасса, сидящего на рельсах, до кузбасса сегодняшнего», — рассказывал тулеев агентству тасс.')\n"
          ],
          "name": "stdout"
        }
      ]
    },
    {
      "cell_type": "markdown",
      "metadata": {
        "id": "-sp0kP0n7-JT"
      },
      "source": [
        "## LexRank"
      ]
    },
    {
      "cell_type": "markdown",
      "metadata": {
        "id": "KG53mZQTgJB0"
      },
      "source": [
        "### Теория"
      ]
    },
    {
      "cell_type": "markdown",
      "metadata": {
        "id": "3JJjlYTAgODr"
      },
      "source": [
        "LexRank используется для вычисления важности предложения на основе концепции центральности собственного вектора в представлении предложений с помощью графа.\n",
        "\n",
        "\n",
        "\n",
        "В LexRank у нас есть матрица связности, основанная на косинусном сходстве внутри предложения, которая используется в качестве матрицы смежности графа представления предложений. Выбирается центроидное предложение, которое работает как среднее для всех других предложений в документе. Затем предложения ранжируются по их сходству.\n",
        "\n"
      ]
    },
    {
      "cell_type": "markdown",
      "metadata": {
        "id": "3xdN_Ws-gKjT"
      },
      "source": [
        "### Пробуем на практике"
      ]
    },
    {
      "cell_type": "code",
      "metadata": {
        "colab": {
          "base_uri": "https://localhost:8080/"
        },
        "id": "5S7zXcY48JQN",
        "outputId": "63276c8c-726a-4ead-bb95-c6e0a6fdfcee"
      },
      "source": [
        "model_name = 'distilbert-multilingual-nli-stsb-quora-ranking'\n",
        "lexrank_model = LexRank(model_name)\n",
        "lexrank_model.get_summary(train_records[4321], n_sentences_summary=3)"
      ],
      "execution_count": null,
      "outputs": [
        {
          "output_type": "stream",
          "text": [
            "100%|██████████| 501M/501M [00:56<00:00, 8.91MB/s]\n"
          ],
          "name": "stderr"
        },
        {
          "output_type": "stream",
          "text": [
            "\n",
            "Count: 1\n",
            "Полный текст:\n",
            "('Ситуацию в Белоруссии рассмотрят на заседании Совета ООН по правам человека. С таким предложением выступил Евросоюз. «Одним из главных приоритетов '\n",
            " 'ЕС в перспективе сессии Совета ООН по правам человека, которая состоится в июне, будет ситуация с правами человека в Белоруссии, которая '\n",
            " 'продолжает вызывать горячую обеспокоенность», – сказано в специальном постановлении Совета ЕС , принятом в связи с подготовкой регулярной сессии '\n",
            " 'Совета ООН. Документ был принят в понедельник в Брюсселе министрами иностранных дел стран ЕС. В нем также говорится, что Евросоюз считает '\n",
            " 'приоритетным на ближайшей сессии обсудить и ситуацию с правами человека в Сирии, где нарушается международное право. Также Совет ЕС обращает '\n",
            " 'внимание Совета ООН на критическое положение с правами человека в КНДР. Евросоюз совместно с Японией предложит на сессии создать независимый '\n",
            " 'механизм расследования ситуации с обеспечением прав человека в Северной Корее. Наконец, ЕС намерен активно поддержать продление мандата '\n",
            " 'специального докладчика ООН по правам человека в Иране и требования его срочного допуска в страну. Несмотря на то что в постановлении Совета ЕС '\n",
            " 'говорится о неприятной ситуации во многих странах, включая Шри-Ланку, Мали, Мьянму, Конго, Эритрею, Судан и Южный Судан, белорусский вопрос все же '\n",
            " 'оказался для европейцев приоритетным. Как сообщает белорусское информагентство «БелаПАН», на июньской сессии с докладом выступит спецдокладчик по '\n",
            " 'ситуации в Белоруссии Совета ООН по правам человека Миклош Харашти. 18 февраля на встрече с белорусскими журналистами в Киеве Харашти сообщил, что '\n",
            " 'в работе над докладом уделяет большое внимание вопросу о политзаключенных, условиям содержания в белорусских тюрьмах, соблюдению основных '\n",
            " 'политических и гражданских прав. Встреча состоялась в Киеве, в частности, по той причине, что белорусские власти отказываются сотрудничать со '\n",
            " 'специальным докладчиком ООН по вопросам прав человека и не пускают его в страну. Рассказывая о своей работе, спецдокладчик ООН подчеркнул: «Я '\n",
            " 'заинтересован в том, чтобы в своем докладе непредвзято отразить ситуацию в Белоруссии, в том числе позицию белорусского правительства, его видение '\n",
            " 'существующих проблем и пути их решения». Однако, добавил Харашти, пока он смог встретиться только с представителями гражданского общества '\n",
            " 'Белоруссии, причем встречи проходили за пределами страны, так как официальный Минск не признает его мандат спецдокладчика и не дает разрешение на '\n",
            " 'визит. «Мое самое большое желание – чтобы сотрудничество с правительством Белоруссии было бы таким же полным, как сейчас с гражданским обществом. '\n",
            " 'В этом заинтересованы и Совет ООН по правам человека, и верховный комиссар по правам человека», – заявил Харашти. Даже если обсуждение на площадке '\n",
            " 'ООН не приведет к введению против Минска международных санкций (например, если Россия заблокирует соответствующую резолюцию как член Совбеза), '\n",
            " 'сама инициатива ЕС говорит о том, что европейцы на политическом уровне решили серьезно ужесточить свое отношение к режиму Лукашенко , невзирая на '\n",
            " 'собственные экономические потери. Ныне действующие европейские и американские санкции в отношении Минска имеют давнюю историю. С 1996 года (когда '\n",
            " 'Александр Лукашенко волевым образом изменил законодательство) ЕС и США не признали ни одни прошедшие в Белоруссии выборы. После этого в разное '\n",
            " 'время Западом вводились и отменялись различные санкции. Ныне действующие были введены после бурных событий в конце 2010 года, когда в Минске '\n",
            " 'власти жестоко подавили массовые протесты против фальсификации президентских выборов, а за решеткой оказались семеро из девяти соперников '\n",
            " 'Лукашенко на выборах. С начала 2011 года Евросоюз и США применяют санкции в отношении 243 чиновников и 32 предприятий Белоруссии. Чиновников '\n",
            " 'обвиняют в преследовании инакомыслящих, участии в политических репрессиях, давлении на СМИ и фальсификации выборов. К этим санкциям присоединились '\n",
            " 'также Канада, Швейцария, Сербия и некоторые другие страны. Политические санкции предполагают снижение уровня представительства на переговорах, а '\n",
            " 'также отсутствие приглашений на официальные мероприятия, проводимые в странах, которые применяют санкции. В числе невъездных в ЕС и США – сам '\n",
            " 'Лукашенко и нынешний министр иностранных дел Владимир Макей. Европейцы категорически отказываются вести диалог с официальным с Минском до тех пор, '\n",
            " 'пока в белорусских тюрьмах содержатся политзаключенные. Их, по разным оценкам, от 13 до 15 человек, в том числе экс-кандидат в президенты Николай '\n",
            " 'Статкевич и номинированный на Нобелевскую премию мира правозащитник Алесь Беляцкий. Кроме того, с 1 июля 2013 года председательство в Европейском '\n",
            " 'союзе переходит к Литве. А с ней у Белоруссии весьма натянутые политические отношения, особенно с лета прошлого года, когда именно через '\n",
            " 'территорию Литвы в Белоруссию прилетел шведский самолет с «плюшевым десантом». До недавних пор трения между Минском и Вильнюсом сглаживало тесное '\n",
            " 'экономическое сотрудничество – значительная доля белорусского экспорта шла через порты Литвы, а белорусские покупатели обеспечивали 30–40% выручки '\n",
            " 'литовских супермаркетов. Но Александр Лукашенко в конце 2012 года пообещал переориентировать транзит из портов стран Балтии в порты в '\n",
            " 'Ленинградской области. А уже в январе белорусские власти занялись теми гражданами страны, которые, по их мнению, слишком активно ездят за '\n",
            " 'покупками в Литву и Польшу. «Вопрос прав человека в Белоруссии для ЕС – во многом ритуальный. Брюссель поднимает проблему, где только может, '\n",
            " 'говорит массу правильных слов и продолжает ввозить белорусские нефтепродукты, металлургию, лес и прочую продукцию, – говорит Андрей Поротников , '\n",
            " 'руководитель аналитического проекта Belarus Security Blog. – Я бы не стал преувеличивать значение события. Намерение европейцев вынести на '\n",
            " 'рассмотрение комиссии ООН вопрос соблюдения прав человека в Белоруссии свидетельствует лишь об отсутствии принципиальных изменений в '\n",
            " 'белорусско-европейских отношениях и не более. Обсуждение ООН белорусской проблематики имело место и раньше и никогда ни к чему реальному не '\n",
            " 'приводило». Впрочем, по мнению другого эксперта «Газеты.Ru», теперь Евросоюз настроен более решительно. «В 2012 году, несмотря на всю риторику о '\n",
            " 'нарушениях прав человека и политических свобод белорусским режимом, Брюссель не вводил новые экономические санкции против Минска. Просто потому, '\n",
            " 'что западные европейцы с удовольствием покупали дешевые белорусские нефтепродукты из российской нефти – те самые «разбавители» и «растворители», '\n",
            " 'из-за которых в конце года у Лукашенко и случился крупный конфликт с Кремлем, – напоминает Марек Паньковски, эксперт Объединенного ситуационного '\n",
            " 'центра ЕС (EU INTCEN). – Однако теперь с введением новых санкций – и именно экономических – согласны также главные в прошлом году покупатели '\n",
            " 'белорусских нефтепродуктов Германия и Нидерланды. А это значит, что экономические интересы отдельных стран Европы окончательно уступают '\n",
            " 'политическим интересам ЕС в целом. Это плохая новость для официального Минска». 12 февраля министр иностранных дел Нидерландов (на эту страну в '\n",
            " 'прошлом году приходилось около 10% торгового оборота Белоруссии) Франс Тиммерманс не исключил применения новых экономических санкций в отношении '\n",
            " 'белорусского режима в случае продолжения нарушения прав человека в Белоруссии. «Мы можем применить экономические санкции, если это будет '\n",
            " 'необходимо. Пока что среди моих европейских коллег нет однозначного мнения насчет их эффекта. Я думаю, что поддержка гражданского общества в '\n",
            " 'Беларуси сегодня не менее важна», — заявил он во время официального визита в Варшаву, отвечая на вопрос, готовы ли Нидерланды прекратить закупки '\n",
            " 'нефтепродуктов у Белоруссии.')\n",
            "------------------------------------------------------------------------------------------------------------------------------------------------------\n",
            "Исходное summary:\n",
            "('Противостояние Белоруссии и Запада переходит на принципиально новый уровень. Если до сих пор с репрессиями и несменяемой властью Александра '\n",
            " 'Лукашенко боролись исключительно европейцы при некоторой поддержке США, то теперь поведение официального Минска будет рассмотрено на специальной '\n",
            " 'сессии Совета ООН по правам человека, которая состоится в июне. С инициативой выступил ЕС. Режиму Лукашенко это может грозить серьезными '\n",
            " 'проблемами: даже если ООН не примет против Минска международных санкций, Евросоюз ужесточит свои.')\n",
            "------------------------------------------------------------------------------------------------------------------------------------------------------\n",
            "LexRank summary:\n",
            "('Даже если обсуждение на площадке ООН не приведет к введению против Минска международных санкций (например, если Россия заблокирует соответствующую '\n",
            " 'резолюцию как член Совбеза), сама инициатива ЕС говорит о том, что европейцы на политическом уровне решили серьезно ужесточить свое отношение к '\n",
            " 'режиму Лукашенко , невзирая на собственные экономические потери. Намерение европейцев вынести на рассмотрение комиссии ООН вопрос соблюдения прав '\n",
            " 'человека в Белоруссии свидетельствует лишь об отсутствии принципиальных изменений в белорусско-европейских отношениях и не более. 12 февраля '\n",
            " 'министр иностранных дел Нидерландов (на эту страну в прошлом году приходилось около 10% торгового оборота Белоруссии) Франс Тиммерманс не исключил '\n",
            " 'применения новых экономических санкций в отношении белорусского режима в случае продолжения нарушения прав человека в Белоруссии.')\n",
            "------------------------------------------------------------------------------------------------------------------------------------------------------\n",
            "BLEU:  0.3568631835520593\n"
          ],
          "name": "stdout"
        }
      ]
    },
    {
      "cell_type": "markdown",
      "metadata": {
        "id": "E3LTdpmGX916"
      },
      "source": [
        "### Test LexRank"
      ]
    },
    {
      "cell_type": "code",
      "metadata": {
        "id": "JtvhVzL1CcXg",
        "colab": {
          "base_uri": "https://localhost:8080/"
        },
        "outputId": "e886bd24-d87b-4eee-cdcf-7d1672a1f4a5"
      },
      "source": [
        "lexrank_model.get_summary(train_records[4321], n_sentences_summary=3, only_blue=True)"
      ],
      "execution_count": null,
      "outputs": [
        {
          "output_type": "execute_result",
          "data": {
            "text/plain": [
              "0.3568631835520593"
            ]
          },
          "metadata": {
            "tags": []
          },
          "execution_count": 8
        }
      ]
    },
    {
      "cell_type": "code",
      "metadata": {
        "colab": {
          "base_uri": "https://localhost:8080/"
        },
        "id": "ADtWue7XFUDO",
        "outputId": "bf0a3d82-e1be-47c8-91ee-4deb0dc58493"
      },
      "source": [
        "lexrank_model.get_summary(train_records[14]['text'])"
      ],
      "execution_count": null,
      "outputs": [
        {
          "output_type": "stream",
          "text": [
            "Полный текст:\n",
            "('Ситуацию в Белоруссии рассмотрят на заседании Совета ООН по правам человека. С таким предложением выступил Евросоюз. «Одним из главных приоритетов '\n",
            " 'ЕС в перспективе сессии Совета ООН по правам человека, которая состоится в июне, будет ситуация с правами человека в Белоруссии, которая '\n",
            " 'продолжает вызывать горячую обеспокоенность», – сказано в специальном постановлении Совета ЕС , принятом в связи с подготовкой регулярной сессии '\n",
            " 'Совета ООН. Документ был принят в понедельник в Брюсселе министрами иностранных дел стран ЕС. В нем также говорится, что Евросоюз считает '\n",
            " 'приоритетным на ближайшей сессии обсудить и ситуацию с правами человека в Сирии, где нарушается международное право. Также Совет ЕС обращает '\n",
            " 'внимание Совета ООН на критическое положение с правами человека в КНДР. Евросоюз совместно с Японией предложит на сессии создать независимый '\n",
            " 'механизм расследования ситуации с обеспечением прав человека в Северной Корее. Наконец, ЕС намерен активно поддержать продление мандата '\n",
            " 'специального докладчика ООН по правам человека в Иране и требования его срочного допуска в страну. Несмотря на то что в постановлении Совета ЕС '\n",
            " 'говорится о неприятной ситуации во многих странах, включая Шри-Ланку, Мали, Мьянму, Конго, Эритрею, Судан и Южный Судан, белорусский вопрос все же '\n",
            " 'оказался для европейцев приоритетным. Как сообщает белорусское информагентство «БелаПАН», на июньской сессии с докладом выступит спецдокладчик по '\n",
            " 'ситуации в Белоруссии Совета ООН по правам человека Миклош Харашти. 18 февраля на встрече с белорусскими журналистами в Киеве Харашти сообщил, что '\n",
            " 'в работе над докладом уделяет большое внимание вопросу о политзаключенных, условиям содержания в белорусских тюрьмах, соблюдению основных '\n",
            " 'политических и гражданских прав. Встреча состоялась в Киеве, в частности, по той причине, что белорусские власти отказываются сотрудничать со '\n",
            " 'специальным докладчиком ООН по вопросам прав человека и не пускают его в страну. Рассказывая о своей работе, спецдокладчик ООН подчеркнул: «Я '\n",
            " 'заинтересован в том, чтобы в своем докладе непредвзято отразить ситуацию в Белоруссии, в том числе позицию белорусского правительства, его видение '\n",
            " 'существующих проблем и пути их решения». Однако, добавил Харашти, пока он смог встретиться только с представителями гражданского общества '\n",
            " 'Белоруссии, причем встречи проходили за пределами страны, так как официальный Минск не признает его мандат спецдокладчика и не дает разрешение на '\n",
            " 'визит. «Мое самое большое желание – чтобы сотрудничество с правительством Белоруссии было бы таким же полным, как сейчас с гражданским обществом. '\n",
            " 'В этом заинтересованы и Совет ООН по правам человека, и верховный комиссар по правам человека», – заявил Харашти. Даже если обсуждение на площадке '\n",
            " 'ООН не приведет к введению против Минска международных санкций (например, если Россия заблокирует соответствующую резолюцию как член Совбеза), '\n",
            " 'сама инициатива ЕС говорит о том, что европейцы на политическом уровне решили серьезно ужесточить свое отношение к режиму Лукашенко , невзирая на '\n",
            " 'собственные экономические потери. Ныне действующие европейские и американские санкции в отношении Минска имеют давнюю историю. С 1996 года (когда '\n",
            " 'Александр Лукашенко волевым образом изменил законодательство) ЕС и США не признали ни одни прошедшие в Белоруссии выборы. После этого в разное '\n",
            " 'время Западом вводились и отменялись различные санкции. Ныне действующие были введены после бурных событий в конце 2010 года, когда в Минске '\n",
            " 'власти жестоко подавили массовые протесты против фальсификации президентских выборов, а за решеткой оказались семеро из девяти соперников '\n",
            " 'Лукашенко на выборах. С начала 2011 года Евросоюз и США применяют санкции в отношении 243 чиновников и 32 предприятий Белоруссии. Чиновников '\n",
            " 'обвиняют в преследовании инакомыслящих, участии в политических репрессиях, давлении на СМИ и фальсификации выборов. К этим санкциям присоединились '\n",
            " 'также Канада, Швейцария, Сербия и некоторые другие страны. Политические санкции предполагают снижение уровня представительства на переговорах, а '\n",
            " 'также отсутствие приглашений на официальные мероприятия, проводимые в странах, которые применяют санкции. В числе невъездных в ЕС и США – сам '\n",
            " 'Лукашенко и нынешний министр иностранных дел Владимир Макей. Европейцы категорически отказываются вести диалог с официальным с Минском до тех пор, '\n",
            " 'пока в белорусских тюрьмах содержатся политзаключенные. Их, по разным оценкам, от 13 до 15 человек, в том числе экс-кандидат в президенты Николай '\n",
            " 'Статкевич и номинированный на Нобелевскую премию мира правозащитник Алесь Беляцкий. Кроме того, с 1 июля 2013 года председательство в Европейском '\n",
            " 'союзе переходит к Литве. А с ней у Белоруссии весьма натянутые политические отношения, особенно с лета прошлого года, когда именно через '\n",
            " 'территорию Литвы в Белоруссию прилетел шведский самолет с «плюшевым десантом». До недавних пор трения между Минском и Вильнюсом сглаживало тесное '\n",
            " 'экономическое сотрудничество – значительная доля белорусского экспорта шла через порты Литвы, а белорусские покупатели обеспечивали 30–40% выручки '\n",
            " 'литовских супермаркетов. Но Александр Лукашенко в конце 2012 года пообещал переориентировать транзит из портов стран Балтии в порты в '\n",
            " 'Ленинградской области. А уже в январе белорусские власти занялись теми гражданами страны, которые, по их мнению, слишком активно ездят за '\n",
            " 'покупками в Литву и Польшу. «Вопрос прав человека в Белоруссии для ЕС – во многом ритуальный. Брюссель поднимает проблему, где только может, '\n",
            " 'говорит массу правильных слов и продолжает ввозить белорусские нефтепродукты, металлургию, лес и прочую продукцию, – говорит Андрей Поротников , '\n",
            " 'руководитель аналитического проекта Belarus Security Blog. – Я бы не стал преувеличивать значение события. Намерение европейцев вынести на '\n",
            " 'рассмотрение комиссии ООН вопрос соблюдения прав человека в Белоруссии свидетельствует лишь об отсутствии принципиальных изменений в '\n",
            " 'белорусско-европейских отношениях и не более. Обсуждение ООН белорусской проблематики имело место и раньше и никогда ни к чему реальному не '\n",
            " 'приводило». Впрочем, по мнению другого эксперта «Газеты.Ru», теперь Евросоюз настроен более решительно. «В 2012 году, несмотря на всю риторику о '\n",
            " 'нарушениях прав человека и политических свобод белорусским режимом, Брюссель не вводил новые экономические санкции против Минска. Просто потому, '\n",
            " 'что западные европейцы с удовольствием покупали дешевые белорусские нефтепродукты из российской нефти – те самые «разбавители» и «растворители», '\n",
            " 'из-за которых в конце года у Лукашенко и случился крупный конфликт с Кремлем, – напоминает Марек Паньковски, эксперт Объединенного ситуационного '\n",
            " 'центра ЕС (EU INTCEN). – Однако теперь с введением новых санкций – и именно экономических – согласны также главные в прошлом году покупатели '\n",
            " 'белорусских нефтепродуктов Германия и Нидерланды. А это значит, что экономические интересы отдельных стран Европы окончательно уступают '\n",
            " 'политическим интересам ЕС в целом. Это плохая новость для официального Минска». 12 февраля министр иностранных дел Нидерландов (на эту страну в '\n",
            " 'прошлом году приходилось около 10% торгового оборота Белоруссии) Франс Тиммерманс не исключил применения новых экономических санкций в отношении '\n",
            " 'белорусского режима в случае продолжения нарушения прав человека в Белоруссии. «Мы можем применить экономические санкции, если это будет '\n",
            " 'необходимо. Пока что среди моих европейских коллег нет однозначного мнения насчет их эффекта. Я думаю, что поддержка гражданского общества в '\n",
            " 'Беларуси сегодня не менее важна», — заявил он во время официального визита в Варшаву, отвечая на вопрос, готовы ли Нидерланды прекратить закупки '\n",
            " 'нефтепродуктов у Белоруссии.')\n",
            "------------------------------------------------------------------------------------------------------------------------------------------------------\n",
            "LextRank summary:\n",
            "('Даже если обсуждение на площадке ООН не приведет к введению против Минска международных санкций (например, если Россия заблокирует соответствующую '\n",
            " 'резолюцию как член Совбеза), сама инициатива ЕС говорит о том, что европейцы на политическом уровне решили серьезно ужесточить свое отношение к '\n",
            " 'режиму Лукашенко , невзирая на собственные экономические потери. Намерение европейцев вынести на рассмотрение комиссии ООН вопрос соблюдения прав '\n",
            " 'человека в Белоруссии свидетельствует лишь об отсутствии принципиальных изменений в белорусско-европейских отношениях и не более. 12 февраля '\n",
            " 'министр иностранных дел Нидерландов (на эту страну в прошлом году приходилось около 10% торгового оборота Белоруссии) Франс Тиммерманс не исключил '\n",
            " 'применения новых экономических санкций в отношении белорусского режима в случае продолжения нарушения прав человека в Белоруссии.')\n"
          ],
          "name": "stdout"
        }
      ]
    },
    {
      "cell_type": "markdown",
      "metadata": {
        "id": "AKKfKb1kLt6H"
      },
      "source": [
        "\n",
        "\n",
        "---\n",
        "\n"
      ]
    },
    {
      "cell_type": "markdown",
      "metadata": {
        "id": "YCVBPxzcmYN6"
      },
      "source": [
        "# Abstractive summarization mT5"
      ]
    },
    {
      "cell_type": "markdown",
      "metadata": {
        "id": "cDY3loK1KmjK"
      },
      "source": [
        "![Текст ссылки](https://miro.medium.com/max/2003/1*D0J1gNQf8vrrUpKeyD8wPA.png)\n"
      ]
    },
    {
      "cell_type": "markdown",
      "metadata": {
        "id": "gj780TXEJ4MY"
      },
      "source": [
        "\"Text-to-Text Transfer Transformer\" **T5** - это представитель семейства Transformer, в отличие от BERT, T5 полноценная seq2seq модель. \n",
        "Очевидная новая идея, лежащая в основе этой работы, заключается в том, что это модель преобразования текста в текст: во время обучения модели предлагается создать новый текст в качестве выходных данных, даже для обучающих задач, которые обычно моделируются как задачи классификации и регрессии с большим количеством более простые виды вывода. Однако эта идея, похоже, была выбрана из соображений инженерного удобства, и нет никаких доказательств того, что она необходима для полученных результатов. Вместо этого, что делает эту работу успешной (и впечатляющей), так это то, что авторы взяли многие из лучших идей из ряда недавних работ по НЛП и проделали чрезвычайно хорошую работу по тщательному тестированию и уточнению каждой идеи по мере ее добавления. Это дало как очень хорошо настроенную модель, так и большое понимание тонкоструктурных проектных решений, которые используются для обучения языку большой нейронной сети общего назначения."
      ]
    },
    {
      "cell_type": "markdown",
      "metadata": {
        "id": "vlQC04TvLlve"
      },
      "source": [
        "mT5 - это мультиязычный аналог T5, кроме обучающего набора данных ничего нового добавлено не было."
      ]
    },
    {
      "cell_type": "code",
      "metadata": {
        "id": "UF5aC8-xm3-1"
      },
      "source": [
        "import argparse\n",
        "import glob\n",
        "import os\n",
        "import json\n",
        "import time\n",
        "import logging\n",
        "import random\n",
        "import re\n",
        "from itertools import chain\n",
        "from string import punctuation\n",
        "\n",
        "import torch.nn as nn\n",
        "import torch.nn.functional as F\n",
        "\n",
        "\n",
        "import pytorch_lightning as pl\n",
        "from torch.utils.data import Dataset, DataLoader\n",
        "from pytorch_lightning.loggers import WandbLogger\n",
        "\n",
        "import matplotlib.pyplot as plt\n",
        "\n",
        "from rouge import Rouge\n",
        "\n",
        "import torch\n",
        "import json\n",
        "import sentencepiece\n",
        "from transformers import T5Tokenizer, T5ForConditionalGeneration, T5Config, AdamW, get_linear_schedule_with_warmup"
      ],
      "execution_count": 112,
      "outputs": []
    },
    {
      "cell_type": "code",
      "metadata": {
        "colab": {
          "base_uri": "https://localhost:8080/",
          "height": 367,
          "referenced_widgets": [
            "c8b49a431c6d42bb9c59eed9169f00a1",
            "34903bd189bb4c03ba7477f97725753f",
            "2fd0aec86aca451c9a747b8ecbcccde8",
            "351b253dfed4423f94d0a1eb54c8dfbd",
            "24a6f63ccc26472391c2d03fd72348dd",
            "baa8d885bf044ec499e4a957ae4aad81",
            "d7b63824c8af45babe44620016395152",
            "88ae3986731d4eb1b9c08255ea799e4b",
            "19c35479c5e14391a1753e8fff83e76c",
            "769922644a644ccb8821aa18daf1fe46",
            "860641612bda4ed2b2cdb09f2f116c3a",
            "bb54bf72d1e044f9b3e63927ba621e33",
            "f4061d89bcc54a06a516fc367b8d2a4f",
            "c42b1934e2344bf197483ab348e5db6b",
            "19e1de7f18694c85baf44121a5c8a43f",
            "26068907dd6e4fe090468cced68e2c8a",
            "52ef2a341bc64f03abeeef6d2f2da6e8",
            "b8df8d21d988437bb7cb84846c7f6d05",
            "626f0b03782e4d248b4b1fc2e192feee",
            "8f7597eaefda494ab004e6f163828410",
            "282a3fc81a024a118ba00b26e5b223fc",
            "9d0b5a148e044d0b8adc1f9ee578ddee",
            "554c17b47cfc4a26ad74569d09bb4b59",
            "10634b82360c4924bb77c196af62837c",
            "2d329d2de0b64d078416b43c5b8ac1c4",
            "2dae1c4f1e1a47dd9dc91025783f4b6d",
            "f263ab0e14ef4d1291101358a1c4d8e0",
            "25815934657d49be94c6b90f45d620c1",
            "62cce87dbee14220986105a55885cecb",
            "81bea9b63c3f4a93a0538785285b782c",
            "deae95f80a004d6a8bc7f942827ab6a1",
            "23f63319c1d1496aaf5b637d58bc73b0",
            "94425d73c69647e3b0cb7f2b98f9f175",
            "6b21f4ef680842eaa47ce6e35b422506",
            "17b476031e4245358406b61278ab538b",
            "620570391d7b4cb3b81fddb16f10efe5",
            "1cadc17447564b479da767e49bf295e2",
            "d0c26a34dbc847e8b4db72ebb8d3f175",
            "214e3a2542f549959810586e6fca796c",
            "c69598f3321d4b6aa2da13e7fdab8fc3"
          ]
        },
        "id": "m8xie0CmnBkQ",
        "outputId": "b4f616ed-3beb-41a4-e1d6-1c9aa21c8579"
      },
      "source": [
        "model = T5ForConditionalGeneration.from_pretrained('google/mt5-small')\n",
        "tokenizer = T5Tokenizer.from_pretrained('google/mt5-small')"
      ],
      "execution_count": 8,
      "outputs": [
        {
          "output_type": "display_data",
          "data": {
            "application/vnd.jupyter.widget-view+json": {
              "model_id": "c8b49a431c6d42bb9c59eed9169f00a1",
              "version_minor": 0,
              "version_major": 2
            },
            "text/plain": [
              "HBox(children=(FloatProgress(value=0.0, description='Downloading', max=553.0, style=ProgressStyle(description_…"
            ]
          },
          "metadata": {
            "tags": []
          }
        },
        {
          "output_type": "stream",
          "text": [
            "\n"
          ],
          "name": "stdout"
        },
        {
          "output_type": "display_data",
          "data": {
            "application/vnd.jupyter.widget-view+json": {
              "model_id": "19c35479c5e14391a1753e8fff83e76c",
              "version_minor": 0,
              "version_major": 2
            },
            "text/plain": [
              "HBox(children=(FloatProgress(value=0.0, description='Downloading', max=1200794589.0, style=ProgressStyle(descr…"
            ]
          },
          "metadata": {
            "tags": []
          }
        },
        {
          "output_type": "stream",
          "text": [
            "\n"
          ],
          "name": "stdout"
        },
        {
          "output_type": "stream",
          "text": [
            "Some weights of the model checkpoint at google/mt5-small were not used when initializing T5ForConditionalGeneration: ['encoder.block.0.layer.1.DenseReluDense.wi_0.weight', 'encoder.block.0.layer.1.DenseReluDense.wi_1.weight', 'encoder.block.1.layer.1.DenseReluDense.wi_0.weight', 'encoder.block.1.layer.1.DenseReluDense.wi_1.weight', 'encoder.block.2.layer.1.DenseReluDense.wi_0.weight', 'encoder.block.2.layer.1.DenseReluDense.wi_1.weight', 'encoder.block.3.layer.1.DenseReluDense.wi_0.weight', 'encoder.block.3.layer.1.DenseReluDense.wi_1.weight', 'encoder.block.4.layer.1.DenseReluDense.wi_0.weight', 'encoder.block.4.layer.1.DenseReluDense.wi_1.weight', 'encoder.block.5.layer.1.DenseReluDense.wi_0.weight', 'encoder.block.5.layer.1.DenseReluDense.wi_1.weight', 'encoder.block.6.layer.1.DenseReluDense.wi_0.weight', 'encoder.block.6.layer.1.DenseReluDense.wi_1.weight', 'encoder.block.7.layer.1.DenseReluDense.wi_0.weight', 'encoder.block.7.layer.1.DenseReluDense.wi_1.weight', 'decoder.block.0.layer.2.DenseReluDense.wi_0.weight', 'decoder.block.0.layer.2.DenseReluDense.wi_1.weight', 'decoder.block.1.layer.2.DenseReluDense.wi_0.weight', 'decoder.block.1.layer.2.DenseReluDense.wi_1.weight', 'decoder.block.2.layer.2.DenseReluDense.wi_0.weight', 'decoder.block.2.layer.2.DenseReluDense.wi_1.weight', 'decoder.block.3.layer.2.DenseReluDense.wi_0.weight', 'decoder.block.3.layer.2.DenseReluDense.wi_1.weight', 'decoder.block.4.layer.2.DenseReluDense.wi_0.weight', 'decoder.block.4.layer.2.DenseReluDense.wi_1.weight', 'decoder.block.5.layer.2.DenseReluDense.wi_0.weight', 'decoder.block.5.layer.2.DenseReluDense.wi_1.weight', 'decoder.block.6.layer.2.DenseReluDense.wi_0.weight', 'decoder.block.6.layer.2.DenseReluDense.wi_1.weight', 'decoder.block.7.layer.2.DenseReluDense.wi_0.weight', 'decoder.block.7.layer.2.DenseReluDense.wi_1.weight']\n",
            "- This IS expected if you are initializing T5ForConditionalGeneration from the checkpoint of a model trained on another task or with another architecture (e.g. initializing a BertForSequenceClassification model from a BertForPreTraining model).\n",
            "- This IS NOT expected if you are initializing T5ForConditionalGeneration from the checkpoint of a model that you expect to be exactly identical (initializing a BertForSequenceClassification model from a BertForSequenceClassification model).\n",
            "Some weights of T5ForConditionalGeneration were not initialized from the model checkpoint at google/mt5-small and are newly initialized: ['encoder.block.0.layer.1.DenseReluDense.wi.weight', 'encoder.block.1.layer.1.DenseReluDense.wi.weight', 'encoder.block.2.layer.1.DenseReluDense.wi.weight', 'encoder.block.3.layer.1.DenseReluDense.wi.weight', 'encoder.block.4.layer.1.DenseReluDense.wi.weight', 'encoder.block.5.layer.1.DenseReluDense.wi.weight', 'encoder.block.6.layer.1.DenseReluDense.wi.weight', 'encoder.block.7.layer.1.DenseReluDense.wi.weight', 'decoder.block.0.layer.1.EncDecAttention.relative_attention_bias.weight', 'decoder.block.0.layer.2.DenseReluDense.wi.weight', 'decoder.block.1.layer.2.DenseReluDense.wi.weight', 'decoder.block.2.layer.2.DenseReluDense.wi.weight', 'decoder.block.3.layer.2.DenseReluDense.wi.weight', 'decoder.block.4.layer.2.DenseReluDense.wi.weight', 'decoder.block.5.layer.2.DenseReluDense.wi.weight', 'decoder.block.6.layer.2.DenseReluDense.wi.weight', 'decoder.block.7.layer.2.DenseReluDense.wi.weight']\n",
            "You should probably TRAIN this model on a down-stream task to be able to use it for predictions and inference.\n"
          ],
          "name": "stderr"
        },
        {
          "output_type": "display_data",
          "data": {
            "application/vnd.jupyter.widget-view+json": {
              "model_id": "52ef2a341bc64f03abeeef6d2f2da6e8",
              "version_minor": 0,
              "version_major": 2
            },
            "text/plain": [
              "HBox(children=(FloatProgress(value=0.0, description='Downloading', max=4309802.0, style=ProgressStyle(descript…"
            ]
          },
          "metadata": {
            "tags": []
          }
        },
        {
          "output_type": "stream",
          "text": [
            "\n"
          ],
          "name": "stdout"
        },
        {
          "output_type": "display_data",
          "data": {
            "application/vnd.jupyter.widget-view+json": {
              "model_id": "2d329d2de0b64d078416b43c5b8ac1c4",
              "version_minor": 0,
              "version_major": 2
            },
            "text/plain": [
              "HBox(children=(FloatProgress(value=0.0, description='Downloading', max=99.0, style=ProgressStyle(description_w…"
            ]
          },
          "metadata": {
            "tags": []
          }
        },
        {
          "output_type": "stream",
          "text": [
            "\n"
          ],
          "name": "stdout"
        },
        {
          "output_type": "display_data",
          "data": {
            "application/vnd.jupyter.widget-view+json": {
              "model_id": "94425d73c69647e3b0cb7f2b98f9f175",
              "version_minor": 0,
              "version_major": 2
            },
            "text/plain": [
              "HBox(children=(FloatProgress(value=0.0, description='Downloading', max=82.0, style=ProgressStyle(description_w…"
            ]
          },
          "metadata": {
            "tags": []
          }
        },
        {
          "output_type": "stream",
          "text": [
            "\n"
          ],
          "name": "stdout"
        }
      ]
    },
    {
      "cell_type": "markdown",
      "metadata": {
        "id": "i_SWpRI-INA0"
      },
      "source": [
        "## Zero-shot"
      ]
    },
    {
      "cell_type": "markdown",
      "metadata": {
        "id": "14ksnIuANHa7"
      },
      "source": [
        "Попробуем сначала использовать модель \"из коробки\" не дообучая на своих данных."
      ]
    },
    {
      "cell_type": "code",
      "metadata": {
        "id": "JnSXlSQ3ue35"
      },
      "source": [
        "device = torch.device('cpu')"
      ],
      "execution_count": null,
      "outputs": []
    },
    {
      "cell_type": "code",
      "metadata": {
        "id": "AWjFSBkcml7l",
        "colab": {
          "base_uri": "https://localhost:8080/"
        },
        "outputId": "2b5246e9-b5b6-49dd-c6e4-9f2deb90d815"
      },
      "source": [
        "pprint(train_records[4321], width=150)"
      ],
      "execution_count": null,
      "outputs": [
        {
          "output_type": "stream",
          "text": [
            "{'date': '2013-02-19 13:14:02',\n",
            " 'summary': 'Противостояние Белоруссии и Запада переходит на принципиально новый уровень. Если до сих пор с репрессиями и несменяемой властью '\n",
            "            'Александра Лукашенко боролись исключительно европейцы при некоторой поддержке США, то теперь поведение официального Минска будет '\n",
            "            'рассмотрено на специальной сессии Совета ООН по правам человека, которая состоится в июне. С инициативой выступил ЕС. Режиму Лукашенко '\n",
            "            'это может грозить серьезными проблемами: даже если ООН не примет против Минска международных санкций, Евросоюз ужесточит свои.',\n",
            " 'text': 'Ситуацию в Белоруссии рассмотрят на заседании Совета ООН по правам человека. С таким предложением выступил Евросоюз. «Одним из главных '\n",
            "         'приоритетов ЕС в перспективе сессии Совета ООН по правам человека, которая состоится в июне, будет ситуация с правами человека в '\n",
            "         'Белоруссии, которая продолжает вызывать горячую обеспокоенность», – сказано в специальном постановлении Совета ЕС , принятом в связи с '\n",
            "         'подготовкой регулярной сессии Совета ООН. Документ был принят в понедельник в Брюсселе министрами иностранных дел стран ЕС. В нем также '\n",
            "         'говорится, что Евросоюз считает приоритетным на ближайшей сессии обсудить и ситуацию с правами человека в Сирии, где нарушается '\n",
            "         'международное право. Также Совет ЕС обращает внимание Совета ООН на критическое положение с правами человека в КНДР. Евросоюз совместно с '\n",
            "         'Японией предложит на сессии создать независимый механизм расследования ситуации с обеспечением прав человека в Северной Корее. Наконец, ЕС '\n",
            "         'намерен активно поддержать продление мандата специального докладчика ООН по правам человека в Иране и требования его срочного допуска в '\n",
            "         'страну. Несмотря на то что в постановлении Совета ЕС говорится о неприятной ситуации во многих странах, включая Шри-Ланку, Мали, Мьянму, '\n",
            "         'Конго, Эритрею, Судан и Южный Судан, белорусский вопрос все же оказался для европейцев приоритетным. Как сообщает белорусское '\n",
            "         'информагентство «БелаПАН», на июньской сессии с докладом выступит спецдокладчик по ситуации в Белоруссии Совета ООН по правам человека '\n",
            "         'Миклош Харашти. 18 февраля на встрече с белорусскими журналистами в Киеве Харашти сообщил, что в работе над докладом уделяет большое '\n",
            "         'внимание вопросу о политзаключенных, условиям содержания в белорусских тюрьмах, соблюдению основных политических и гражданских прав. '\n",
            "         'Встреча состоялась в Киеве, в частности, по той причине, что белорусские власти отказываются сотрудничать со специальным докладчиком ООН '\n",
            "         'по вопросам прав человека и не пускают его в страну. Рассказывая о своей работе, спецдокладчик ООН подчеркнул: «Я заинтересован в том, '\n",
            "         'чтобы в своем докладе непредвзято отразить ситуацию в Белоруссии, в том числе позицию белорусского правительства, его видение существующих '\n",
            "         'проблем и пути их решения». Однако, добавил Харашти, пока он смог встретиться только с представителями гражданского общества Белоруссии, '\n",
            "         'причем встречи проходили за пределами страны, так как официальный Минск не признает его мандат спецдокладчика и не дает разрешение на '\n",
            "         'визит. «Мое самое большое желание – чтобы сотрудничество с правительством Белоруссии было бы таким же полным, как сейчас с гражданским '\n",
            "         'обществом. В этом заинтересованы и Совет ООН по правам человека, и верховный комиссар по правам человека», – заявил Харашти. Даже если '\n",
            "         'обсуждение на площадке ООН не приведет к введению против Минска международных санкций (например, если Россия заблокирует соответствующую '\n",
            "         'резолюцию как член Совбеза), сама инициатива ЕС говорит о том, что европейцы на политическом уровне решили серьезно ужесточить свое '\n",
            "         'отношение к режиму Лукашенко , невзирая на собственные экономические потери. Ныне действующие европейские и американские санкции в '\n",
            "         'отношении Минска имеют давнюю историю. С 1996 года (когда Александр Лукашенко волевым образом изменил законодательство) ЕС и США не '\n",
            "         'признали ни одни прошедшие в Белоруссии выборы. После этого в разное время Западом вводились и отменялись различные санкции. Ныне '\n",
            "         'действующие были введены после бурных событий в конце 2010 года, когда в Минске власти жестоко подавили массовые протесты против '\n",
            "         'фальсификации президентских выборов, а за решеткой оказались семеро из девяти соперников Лукашенко на выборах. С начала 2011 года Евросоюз '\n",
            "         'и США применяют санкции в отношении 243 чиновников и 32 предприятий Белоруссии. Чиновников обвиняют в преследовании инакомыслящих, участии '\n",
            "         'в политических репрессиях, давлении на СМИ и фальсификации выборов. К этим санкциям присоединились также Канада, Швейцария, Сербия и '\n",
            "         'некоторые другие страны. Политические санкции предполагают снижение уровня представительства на переговорах, а также отсутствие '\n",
            "         'приглашений на официальные мероприятия, проводимые в странах, которые применяют санкции. В числе невъездных в ЕС и США – сам Лукашенко и '\n",
            "         'нынешний министр иностранных дел Владимир Макей. Европейцы категорически отказываются вести диалог с официальным с Минском до тех пор, '\n",
            "         'пока в белорусских тюрьмах содержатся политзаключенные. Их, по разным оценкам, от 13 до 15 человек, в том числе экс-кандидат в президенты '\n",
            "         'Николай Статкевич и номинированный на Нобелевскую премию мира правозащитник Алесь Беляцкий. Кроме того, с 1 июля 2013 года '\n",
            "         'председательство в Европейском союзе переходит к Литве. А с ней у Белоруссии весьма натянутые политические отношения, особенно с лета '\n",
            "         'прошлого года, когда именно через территорию Литвы в Белоруссию прилетел шведский самолет с «плюшевым десантом». До недавних пор трения '\n",
            "         'между Минском и Вильнюсом сглаживало тесное экономическое сотрудничество – значительная доля белорусского экспорта шла через порты Литвы, '\n",
            "         'а белорусские покупатели обеспечивали 30–40% выручки литовских супермаркетов. Но Александр Лукашенко в конце 2012 года пообещал '\n",
            "         'переориентировать транзит из портов стран Балтии в порты в Ленинградской области. А уже в январе белорусские власти занялись теми '\n",
            "         'гражданами страны, которые, по их мнению, слишком активно ездят за покупками в Литву и Польшу. «Вопрос прав человека в Белоруссии для ЕС – '\n",
            "         'во многом ритуальный. Брюссель поднимает проблему, где только может, говорит массу правильных слов и продолжает ввозить белорусские '\n",
            "         'нефтепродукты, металлургию, лес и прочую продукцию, – говорит Андрей Поротников , руководитель аналитического проекта Belarus Security '\n",
            "         'Blog. – Я бы не стал преувеличивать значение события. Намерение европейцев вынести на рассмотрение комиссии ООН вопрос соблюдения прав '\n",
            "         'человека в Белоруссии свидетельствует лишь об отсутствии принципиальных изменений в белорусско-европейских отношениях и не более. '\n",
            "         'Обсуждение ООН белорусской проблематики имело место и раньше и никогда ни к чему реальному не приводило». Впрочем, по мнению другого '\n",
            "         'эксперта «Газеты.Ru», теперь Евросоюз настроен более решительно. «В 2012 году, несмотря на всю риторику о нарушениях прав человека и '\n",
            "         'политических свобод белорусским режимом, Брюссель не вводил новые экономические санкции против Минска. Просто потому, что западные '\n",
            "         'европейцы с удовольствием покупали дешевые белорусские нефтепродукты из российской нефти – те самые «разбавители» и «растворители», из-за '\n",
            "         'которых в конце года у Лукашенко и случился крупный конфликт с Кремлем, – напоминает Марек Паньковски, эксперт Объединенного ситуационного '\n",
            "         'центра ЕС (EU INTCEN). – Однако теперь с введением новых санкций – и именно экономических – согласны также главные в прошлом году '\n",
            "         'покупатели белорусских нефтепродуктов Германия и Нидерланды. А это значит, что экономические интересы отдельных стран Европы окончательно '\n",
            "         'уступают политическим интересам ЕС в целом. Это плохая новость для официального Минска». 12 февраля министр иностранных дел Нидерландов '\n",
            "         '(на эту страну в прошлом году приходилось около 10% торгового оборота Белоруссии) Франс Тиммерманс не исключил применения новых '\n",
            "         'экономических санкций в отношении белорусского режима в случае продолжения нарушения прав человека в Белоруссии. «Мы можем применить '\n",
            "         'экономические санкции, если это будет необходимо. Пока что среди моих европейских коллег нет однозначного мнения насчет их эффекта. Я '\n",
            "         'думаю, что поддержка гражданского общества в Беларуси сегодня не менее важна», — заявил он во время официального визита в Варшаву, отвечая '\n",
            "         'на вопрос, готовы ли Нидерланды прекратить закупки нефтепродуктов у Белоруссии.',\n",
            " 'title': 'Белорусские репрессии дошли до ООН',\n",
            " 'url': 'https://www.gazeta.ru/politics/2013/02/19_a_4972913.shtml'}\n"
          ],
          "name": "stdout"
        }
      ]
    },
    {
      "cell_type": "code",
      "metadata": {
        "id": "uwBmVxk-poCf"
      },
      "source": [
        "tokenized_text = tokenizer.encode(train_records[4321]['text'], return_tensors=\"pt\").to(device)"
      ],
      "execution_count": null,
      "outputs": []
    },
    {
      "cell_type": "code",
      "metadata": {
        "colab": {
          "base_uri": "https://localhost:8080/"
        },
        "id": "vXwRkIH5qCz-",
        "outputId": "caa2aa94-a3d9-41f8-cce5-e227c88edc61"
      },
      "source": [
        "summary_ids = model.generate(tokenized_text,\n",
        "                                    num_beams=20,\n",
        "                                    no_repeat_ngram_size=2,\n",
        "                                    min_length=200,\n",
        "                                    max_length=400,\n",
        "                                    early_stopping=True)\n",
        "\n",
        "output = tokenizer.decode(summary_ids[0], skip_special_tokens=True)\n",
        "\n",
        "pprint(output, width=150)"
      ],
      "execution_count": null,
      "outputs": [
        {
          "output_type": "stream",
          "text": [
            "('<extra_id_0>. Кроме того, ЕС намерен активно поддержать продление мандата спецдокладчика на ближайшей сессии обсудить ситуацию с правами человека '\n",
            " 'в Сирии и в результате чего они будут принимать участие в заседании Совета ООН по правам человека. Также также говорится, что в случае обострения '\n",
            " 'конфликта с Россией нет никакого отношения к этому вопросу. По мнению эксперта «Белой газете.Ru» <extra_id_10>и <extra_id_25>. '\n",
            " '<extra_id_49>.жамит.com.uanicznych санкций в отношении белорусского режима. <extra_id_9>жами. Новости о политзаключенных. Минск, 18 февраля 2013 '\n",
            " 'г. по состоянию на несколько дней со дня официального визита в Варшаву с докладом. Павел Харашти. Фото: БЕЛОРУССКОЕ ПРАВО ЛЮДИ В РОССИЙСКОЙ '\n",
            " 'ГОСУДАРСТВЕННЫЙ ЦЕНТР ЕВРОПЕЙСКОГО СОВРЕМЕННО.')\n"
          ],
          "name": "stdout"
        }
      ]
    },
    {
      "cell_type": "markdown",
      "metadata": {
        "id": "nYO-i50INQbm"
      },
      "source": [
        "Такое себе, саммари вообще не про то."
      ]
    },
    {
      "cell_type": "markdown",
      "metadata": {
        "id": "q4vpC4L8tn_t"
      },
      "source": [
        "## Тюним"
      ]
    },
    {
      "cell_type": "code",
      "metadata": {
        "id": "l5NmPARMr3EP"
      },
      "source": [
        "class NewsDataset(Dataset):\n",
        "    def __init__(self, tokenizer, data, input_length, output_length):         \n",
        "        self.dataset =  data\n",
        "        self.input_length = input_length\n",
        "        self.tokenizer = tokenizer\n",
        "        self.output_length = output_length\n",
        "  \n",
        "    def __len__(self):\n",
        "        return len(self.dataset)\n",
        "    \n",
        "    def clean_text(self, text):\n",
        "        text = text.replace('\\n','')\n",
        "        text = text.replace('``', '')\n",
        "        text = text.replace('\"', '')\n",
        "        \n",
        "        return text\n",
        "    \n",
        "    \n",
        "    def convert_to_features(self, example_batch):\n",
        "        \n",
        "#         input_ = self.clean_text(example_batch['text']) + \" </s>\"\n",
        "#         target_ = self.clean_text(example_batch['headline']) + \" </s>\"\n",
        "        \n",
        "        input_ = self.clean_text(example_batch['text'])\n",
        "        target_ = self.clean_text(example_batch['summary'])\n",
        "        \n",
        "        source = self.tokenizer.batch_encode_plus([input_], max_length=self.input_length, \n",
        "                                                     padding='max_length', truncation=True, return_tensors=\"pt\")\n",
        "        \n",
        "        targets = self.tokenizer.batch_encode_plus([target_], max_length=self.output_length, \n",
        "                                                     padding='max_length', truncation=True, return_tensors=\"pt\")\n",
        "    \n",
        "       \n",
        "        return source, targets\n",
        "  \n",
        "    def __getitem__(self, index):\n",
        "        source, targets = self.convert_to_features(self.dataset[index])\n",
        "        \n",
        "        source_ids = source[\"input_ids\"].squeeze()\n",
        "        target_ids = targets[\"input_ids\"].squeeze()\n",
        "\n",
        "        src_mask    = source[\"attention_mask\"].squeeze()\n",
        "        target_mask = targets[\"attention_mask\"].squeeze()\n",
        "\n",
        "        return {\"source_ids\": source_ids, \"source_mask\": src_mask, \"target_ids\": target_ids, \"target_mask\": target_mask}"
      ],
      "execution_count": 9,
      "outputs": []
    },
    {
      "cell_type": "code",
      "metadata": {
        "colab": {
          "base_uri": "https://localhost:8080/",
          "height": 281
        },
        "id": "4Mw2U64jw5tX",
        "outputId": "f03ca645-f927-4991-fc88-2e03ce2b15ed"
      },
      "source": [
        "summary_len = []\n",
        "for example in train_records:\n",
        "    summary_ex = example['summary']\n",
        "    summary_len.append(len(summary_ex.split()))\n",
        "\n",
        "plt.hist(summary_len)\n",
        "plt.title('Summary Length Distribution')\n",
        "plt.show()"
      ],
      "execution_count": null,
      "outputs": [
        {
          "output_type": "display_data",
          "data": {
            "image/png": "[encoded data removed]",
            "text/plain": [
              "<Figure size 432x288 with 1 Axes>"
            ]
          },
          "metadata": {
            "tags": [],
            "needs_background": "light"
          }
        }
      ]
    },
    {
      "cell_type": "code",
      "metadata": {
        "id": "17i0DPuKwHyD"
      },
      "source": [
        "train_dataset = NewsDataset(tokenizer, train_records, 512, 80)"
      ],
      "execution_count": null,
      "outputs": []
    },
    {
      "cell_type": "code",
      "metadata": {
        "id": "02HghO8g8sR4"
      },
      "source": [
        "class Trainer:\n",
        "    def __init__(self, model, tokenizer, train_data, val_data, device, batch_size=4):\n",
        "        self.model = model.to(device)\n",
        "        self.tokenizer = tokenizer\n",
        "\n",
        "        train_data = NewsDataset(self.tokenizer, train_data, 512, 80)\n",
        "        self.train_dataloader = DataLoader(train_data, batch_size=batch_size, drop_last=True,\n",
        "                                           shuffle=True, num_workers=4)\n",
        "        \n",
        "        val_data = NewsDataset(self.tokenizer, val_data, 512, 80)\n",
        "        self.val_dataloader = DataLoader(val_data, batch_size=batch_size, drop_last=True,\n",
        "                                           shuffle=True, num_workers=4)\n",
        "        self.ignore_idx  = self.tokenizer.pad_token_id\n",
        "        \n",
        "        # self.criterion = nn.CrossEntropyLoss(ignore_index = self.tokenizer.pad_token_id).to(device)\n",
        "        self.criterion = nn.NLLLoss(ignore_index = self.ignore_idx)\n",
        "        self.rouge = Rouge()\n",
        "        \n",
        "\n",
        "    def do_epoch(self, data, optimizer=None, name=None):\n",
        "        epoch_loss = 0\n",
        "        epoch_rouge_l = 0\n",
        "        epoch_rouge_1 = 0\n",
        "        \n",
        "        is_train = not optimizer is None\n",
        "        name = name or ''\n",
        "        model.train(is_train)\n",
        "\n",
        "        batches_count = len(data)\n",
        "        \n",
        "        with torch.autograd.set_grad_enabled(is_train):\n",
        "            with tqdm(total=batches_count) as progress_bar:\n",
        "                for batch in data:\n",
        "                    predictions_ids = model.generate(\n",
        "                                                batch[\"source_ids\"].to(device),\n",
        "                                                attention_mask=batch[\"source_mask\"].to(device),\n",
        "                                                use_cache=True,\n",
        "                                                decoder_attention_mask=batch['target_mask'].to(device),\n",
        "                                                max_length=80, \n",
        "                                                num_beams=2,\n",
        "                                                repetition_penalty=2.5, \n",
        "                                                length_penalty=1.0, \n",
        "                                                early_stopping=True\n",
        "                                            )\n",
        "\n",
        "                    # print(f'prediction: {predictions_ids.to(device, dtype = torch.int64).shape}')\n",
        "                    # print(f'target: {batch[\"target_ids\"].to(device, dtype = torch.int64).shape}')\n",
        "\n",
        "                    loss = F.nll_loss(predictions_ids.detach().cpu().argmax(dim=1), batch[\"target_ids\"], reduction=\"none\", ignore_index=self.ignore_idx)\n",
        "\n",
        "                    # loss = self.criterion(predictions_ids.to(device, dtype = torch.float),\n",
        "                    #                       batch[\"target_ids\"].to(device, dtype = torch.long))\n",
        "                    \n",
        "                    predictions = self.ids_to_clean_text(predictions_ids)\n",
        "                    target = self.ids_to_clean_text(batch[\"target_ids\"])\n",
        "\n",
        "                    rouge_score = self.rouge.get_score(predictions, target)[0]\n",
        "\n",
        "                    rouge_1 = rouge_score['rouge-1']['f']\n",
        "                    rouge_l = touge_score['rouge-l']['f']\n",
        "\n",
        "\n",
        "                    epoch_loss += loss.item()\n",
        "                    epoch_rouge_1 += rouge_1\n",
        "                    epoch_rouge_l += rouge_l\n",
        "\n",
        "                    if optimizer:\n",
        "                        optimizer.zero_grad()\n",
        "                        loss.backward()\n",
        "                        nn.utils.clip_grad_norm_(model.parameters(), 1)\n",
        "                        optimizer.step()\n",
        "                        torch.cuda.empty_cache()\n",
        "                    \n",
        "                    progress_bar.update()\n",
        "                    progress_bar.set_description('{:>5s} Average Loss = {:.5f}, ROUGE-1 = {:.3%}, ROUGE-l = {:.3%}'.format(\n",
        "                        name, loss.item(), rouge_1, rouge_l))\n",
        "\n",
        "                progress_bar.set_description('{:>5s} Average Loss = {:.5f}, ROUGE-1 = {:.3%}, ROUGE-l = {:.3%}'.format(\n",
        "                    name, epoch_loss / batches_count, rouge_1 / batches_count, rouge_l / batches_count ))\n",
        "\n",
        "        return epoch_loss / batches_count\n",
        "\n",
        "    def fit(self, epochs_count=1):\n",
        "        optimizer = AdamW(self.model.parameters(), lr=3e-4, eps=1e-8)\n",
        "        for epoch in range(epochs_count):\n",
        "            name_prefix = '[{} / {}] '.format(epoch + 1, epochs_count)\n",
        "            train_loss = self.do_epoch(self.train_dataloader, optimizer,\n",
        "                                name_prefix + 'Train:')\n",
        "\n",
        "            if not val_data is None:\n",
        "                val_loss = self.do_epoch(self.val_dataloader, None,\n",
        "                                            name_prefix + '  Val:')\n",
        "        \n",
        "\n",
        "    def ids_to_clean_text(self, generated_ids):\n",
        "        gen_text = self.tokenizer.batch_decode(\n",
        "            generated_ids, skip_special_tokens=True, clean_up_tokenization_spaces=True\n",
        "        )\n",
        "        return self.lmap(str.strip, gen_text)\n",
        "\n",
        "    @staticmethod\n",
        "    def lmap(f, x):\n",
        "        return list(map(f, x))\n"
      ],
      "execution_count": 192,
      "outputs": []
    },
    {
      "cell_type": "code",
      "metadata": {
        "id": "eRwIzFU7CLQF"
      },
      "source": [
        "device = 'cuda' if torch.cuda.is_available() else 'cpu'\n",
        "trainer = Trainer(model, tokenizer, train_records, val_records, device, batch_size=4)"
      ],
      "execution_count": 193,
      "outputs": []
    },
    {
      "cell_type": "code",
      "metadata": {
        "colab": {
          "base_uri": "https://localhost:8080/",
          "height": 324
        },
        "id": "ykbw11LrCix6",
        "outputId": "e7b9f4d6-74c2-4e2e-fe06-442332628761"
      },
      "source": [
        "trainer.fit(epochs_count=2)"
      ],
      "execution_count": 194,
      "outputs": [
        {
          "output_type": "stream",
          "text": [
            "  0%|          | 0/13100 [00:04<?, ?it/s]\n"
          ],
          "name": "stderr"
        },
        {
          "output_type": "error",
          "ename": "ValueError",
          "evalue": "ignored",
          "traceback": [
            "\u001b[0;31m---------------------------------------------------------------------------\u001b[0m",
            "\u001b[0;31mValueError\u001b[0m                                Traceback (most recent call last)",
            "\u001b[0;32m<ipython-input-194-60de3413ec89>\u001b[0m in \u001b[0;36m<module>\u001b[0;34m()\u001b[0m\n\u001b[0;32m----> 1\u001b[0;31m \u001b[0mtrainer\u001b[0m\u001b[0;34m.\u001b[0m\u001b[0mfit\u001b[0m\u001b[0;34m(\u001b[0m\u001b[0mepochs_count\u001b[0m\u001b[0;34m=\u001b[0m\u001b[0;36m2\u001b[0m\u001b[0;34m)\u001b[0m\u001b[0;34m\u001b[0m\u001b[0;34m\u001b[0m\u001b[0m\n\u001b[0m",
            "\u001b[0;32m<ipython-input-192-e6a4c29ce050>\u001b[0m in \u001b[0;36mfit\u001b[0;34m(self, epochs_count)\u001b[0m\n\u001b[1;32m     86\u001b[0m             \u001b[0mname_prefix\u001b[0m \u001b[0;34m=\u001b[0m \u001b[0;34m'[{} / {}] '\u001b[0m\u001b[0;34m.\u001b[0m\u001b[0mformat\u001b[0m\u001b[0;34m(\u001b[0m\u001b[0mepoch\u001b[0m \u001b[0;34m+\u001b[0m \u001b[0;36m1\u001b[0m\u001b[0;34m,\u001b[0m \u001b[0mepochs_count\u001b[0m\u001b[0;34m)\u001b[0m\u001b[0;34m\u001b[0m\u001b[0;34m\u001b[0m\u001b[0m\n\u001b[1;32m     87\u001b[0m             train_loss = self.do_epoch(self.train_dataloader, optimizer,\n\u001b[0;32m---> 88\u001b[0;31m                                 name_prefix + 'Train:')\n\u001b[0m\u001b[1;32m     89\u001b[0m \u001b[0;34m\u001b[0m\u001b[0m\n\u001b[1;32m     90\u001b[0m             \u001b[0;32mif\u001b[0m \u001b[0;32mnot\u001b[0m \u001b[0mval_data\u001b[0m \u001b[0;32mis\u001b[0m \u001b[0;32mNone\u001b[0m\u001b[0;34m:\u001b[0m\u001b[0;34m\u001b[0m\u001b[0;34m\u001b[0m\u001b[0m\n",
            "\u001b[0;32m<ipython-input-192-e6a4c29ce050>\u001b[0m in \u001b[0;36mdo_epoch\u001b[0;34m(self, data, optimizer, name)\u001b[0m\n\u001b[1;32m     47\u001b[0m                     \u001b[0;31m# print(f'target: {batch[\"target_ids\"].to(device, dtype = torch.int64).shape}')\u001b[0m\u001b[0;34m\u001b[0m\u001b[0;34m\u001b[0m\u001b[0;34m\u001b[0m\u001b[0m\n\u001b[1;32m     48\u001b[0m \u001b[0;34m\u001b[0m\u001b[0m\n\u001b[0;32m---> 49\u001b[0;31m                     \u001b[0mloss\u001b[0m \u001b[0;34m=\u001b[0m \u001b[0mF\u001b[0m\u001b[0;34m.\u001b[0m\u001b[0mnll_loss\u001b[0m\u001b[0;34m(\u001b[0m\u001b[0mpredictions_ids\u001b[0m\u001b[0;34m.\u001b[0m\u001b[0mdetach\u001b[0m\u001b[0;34m(\u001b[0m\u001b[0;34m)\u001b[0m\u001b[0;34m.\u001b[0m\u001b[0mcpu\u001b[0m\u001b[0;34m(\u001b[0m\u001b[0;34m)\u001b[0m\u001b[0;34m.\u001b[0m\u001b[0margmax\u001b[0m\u001b[0;34m(\u001b[0m\u001b[0mdim\u001b[0m\u001b[0;34m=\u001b[0m\u001b[0;36m1\u001b[0m\u001b[0;34m)\u001b[0m\u001b[0;34m,\u001b[0m \u001b[0mbatch\u001b[0m\u001b[0;34m[\u001b[0m\u001b[0;34m\"target_ids\"\u001b[0m\u001b[0;34m]\u001b[0m\u001b[0;34m,\u001b[0m \u001b[0mreduction\u001b[0m\u001b[0;34m=\u001b[0m\u001b[0;34m\"none\"\u001b[0m\u001b[0;34m,\u001b[0m \u001b[0mignore_index\u001b[0m\u001b[0;34m=\u001b[0m\u001b[0mself\u001b[0m\u001b[0;34m.\u001b[0m\u001b[0mignore_idx\u001b[0m\u001b[0;34m)\u001b[0m\u001b[0;34m\u001b[0m\u001b[0;34m\u001b[0m\u001b[0m\n\u001b[0m\u001b[1;32m     50\u001b[0m \u001b[0;34m\u001b[0m\u001b[0m\n\u001b[1;32m     51\u001b[0m                     \u001b[0;31m# loss = self.criterion(predictions_ids.to(device, dtype = torch.float),\u001b[0m\u001b[0;34m\u001b[0m\u001b[0;34m\u001b[0m\u001b[0;34m\u001b[0m\u001b[0m\n",
            "\u001b[0;32m/usr/local/lib/python3.6/dist-packages/torch/nn/functional.py\u001b[0m in \u001b[0;36mnll_loss\u001b[0;34m(input, target, weight, size_average, ignore_index, reduce, reduction)\u001b[0m\n\u001b[1;32m   2256\u001b[0m     \u001b[0mdim\u001b[0m \u001b[0;34m=\u001b[0m \u001b[0minput\u001b[0m\u001b[0;34m.\u001b[0m\u001b[0mdim\u001b[0m\u001b[0;34m(\u001b[0m\u001b[0;34m)\u001b[0m\u001b[0;34m\u001b[0m\u001b[0;34m\u001b[0m\u001b[0m\n\u001b[1;32m   2257\u001b[0m     \u001b[0;32mif\u001b[0m \u001b[0mdim\u001b[0m \u001b[0;34m<\u001b[0m \u001b[0;36m2\u001b[0m\u001b[0;34m:\u001b[0m\u001b[0;34m\u001b[0m\u001b[0;34m\u001b[0m\u001b[0m\n\u001b[0;32m-> 2258\u001b[0;31m         \u001b[0;32mraise\u001b[0m \u001b[0mValueError\u001b[0m\u001b[0;34m(\u001b[0m\u001b[0;34m'Expected 2 or more dimensions (got {})'\u001b[0m\u001b[0;34m.\u001b[0m\u001b[0mformat\u001b[0m\u001b[0;34m(\u001b[0m\u001b[0mdim\u001b[0m\u001b[0;34m)\u001b[0m\u001b[0;34m)\u001b[0m\u001b[0;34m\u001b[0m\u001b[0;34m\u001b[0m\u001b[0m\n\u001b[0m\u001b[1;32m   2259\u001b[0m \u001b[0;34m\u001b[0m\u001b[0m\n\u001b[1;32m   2260\u001b[0m     \u001b[0;32mif\u001b[0m \u001b[0minput\u001b[0m\u001b[0;34m.\u001b[0m\u001b[0msize\u001b[0m\u001b[0;34m(\u001b[0m\u001b[0;36m0\u001b[0m\u001b[0;34m)\u001b[0m \u001b[0;34m!=\u001b[0m \u001b[0mtarget\u001b[0m\u001b[0;34m.\u001b[0m\u001b[0msize\u001b[0m\u001b[0;34m(\u001b[0m\u001b[0;36m0\u001b[0m\u001b[0;34m)\u001b[0m\u001b[0;34m:\u001b[0m\u001b[0;34m\u001b[0m\u001b[0;34m\u001b[0m\u001b[0m\n",
            "\u001b[0;31mValueError\u001b[0m: Expected 2 or more dimensions (got 1)"
          ]
        }
      ]
    },
    {
      "cell_type": "markdown",
      "metadata": {
        "id": "PTVPYkAYygKd"
      },
      "source": [
        "### Model"
      ]
    },
    {
      "cell_type": "code",
      "metadata": {
        "id": "59WnQsO9yaGf"
      },
      "source": [
        "class T5FineTuner(pl.LightningModule):\n",
        "    def __init__(self, hparams):\n",
        "        super(T5FineTuner, self).__init__()\n",
        "        self.hparams = hparams        \n",
        "        self.model = hparams.model_name_or_path\n",
        "        self.tokenizer = hparams.tokenizer_name_or_path\n",
        "        self.rouge_metric = Rouge()\n",
        "        \n",
        "        if self.hparams.freeze_embeds:\n",
        "            self.freeze_embeds()\n",
        "        if self.hparams.freeze_encoder:\n",
        "            self.freeze_params(self.model.get_encoder())\n",
        "            assert_all_frozen(self.model.get_encoder())\n",
        "            \n",
        "            \n",
        "        n_observations_per_split = {\n",
        "            \"train\": self.hparams.n_train,\n",
        "            \"validation\": self.hparams.n_val,\n",
        "            \"test\": self.hparams.n_test,\n",
        "        }\n",
        "        \n",
        "        \n",
        "    \n",
        "    def freeze_params(self, model):\n",
        "        for par in model.parameters():\n",
        "            par.requires_grad = False\n",
        "            \n",
        "            \n",
        "    def freeze_embeds(self):\n",
        "        \"\"\"Freeze token embeddings and positional embeddings for bart, just token embeddings for t5.\"\"\"\n",
        "        try:\n",
        "            self.freeze_params(self.model.model.shared)\n",
        "            for d in [self.model.model.encoder, self.model.model.decoder]:\n",
        "                freeze_params(d.embed_positions)\n",
        "                freeze_params(d.embed_tokens)\n",
        "        except AttributeError:\n",
        "            self.freeze_params(self.model.shared)\n",
        "            for d in [self.model.encoder, self.model.decoder]:\n",
        "                self.freeze_params(d.embed_tokens)\n",
        "    \n",
        "    def lmap(self, f, x):\n",
        "        \"\"\"list(map(f, x))\"\"\"\n",
        "        return list(map(f, x))\n",
        "    \n",
        "\n",
        "    def is_logger(self):\n",
        "        return self.trainer.proc_rank <= 0\n",
        "    \n",
        "    \n",
        "    def parse_score(self, result):\n",
        "        return {k: round(v.mid.fmeasure * 100, 4) for k, v in result.items()}\n",
        "        \n",
        "    def forward(\n",
        "      self, input_ids, attention_mask=None, decoder_input_ids=None, decoder_attention_mask=None, lm_labels=None\n",
        "  ):\n",
        "        return self.model(\n",
        "            input_ids,\n",
        "            attention_mask=attention_mask,\n",
        "            decoder_input_ids=decoder_input_ids,\n",
        "            decoder_attention_mask=decoder_attention_mask,\n",
        "            lm_labels=lm_labels,\n",
        "    )\n",
        "\n",
        "    def _step(self, batch):\n",
        "        lm_labels = batch[\"target_ids\"]\n",
        "        lm_labels[lm_labels[:, :] == self.tokenizer.pad_token_id] = -100\n",
        "\n",
        "        outputs = self(\n",
        "            input_ids=batch[\"source_ids\"],\n",
        "            attention_mask=batch[\"source_mask\"],\n",
        "            lm_labels=lm_labels,\n",
        "            decoder_attention_mask=batch['target_mask']\n",
        "        )\n",
        "\n",
        "        loss = outputs[0]\n",
        "\n",
        "        return loss\n",
        "    \n",
        "    \n",
        "    def ids_to_clean_text(self, generated_ids):\n",
        "        gen_text = self.tokenizer.batch_decode(\n",
        "            generated_ids, skip_special_tokens=True, clean_up_tokenization_spaces=True\n",
        "        )\n",
        "        return self.lmap(str.strip, gen_text)\n",
        "    \n",
        "    \n",
        "    def _generative_step(self, batch) :\n",
        "        \n",
        "        t0 = time.time()\n",
        "        \n",
        "        generated_ids = self.model.generate(\n",
        "            batch[\"source_ids\"],\n",
        "            attention_mask=batch[\"source_mask\"],\n",
        "            use_cache=True,\n",
        "            decoder_attention_mask=batch['target_mask'],\n",
        "            max_length=150, \n",
        "            num_beams=2,\n",
        "            repetition_penalty=2.5, \n",
        "            length_penalty=1.0, \n",
        "            early_stopping=True\n",
        "        )\n",
        "        preds = self.ids_to_clean_text(generated_ids)\n",
        "        target = self.ids_to_clean_text(batch[\"target_ids\"])\n",
        "            \n",
        "        gen_time = (time.time() - t0) / batch[\"source_ids\"].shape[0]  \n",
        "    \n",
        "        loss = self._step(batch)\n",
        "        base_metrics = {'val_loss': loss}\n",
        "#         rouge: Dict = self.calc_generative_metrics(preds, target)\n",
        "        summ_len = np.mean(self.lmap(len, generated_ids))\n",
        "        base_metrics.update(gen_time=gen_time, gen_len=summ_len, preds=preds, target=target)\n",
        "        self.rouge_score =  self.rouge_metric.get_scores(preds, target)\n",
        "        \n",
        "#         rouge_results = self.rouge_metric.compute() \n",
        "#         rouge_dict = self.parse_score(rouge_results)\n",
        "#         base_metrics.update(rouge1=rouge_dict['rouge1'], rougeL=rouge_dict['rougeL'])\n",
        "        \n",
        "        return base_metrics\n",
        "    \n",
        "\n",
        "    def training_step(self, batch, batch_idx):\n",
        "        loss = self._step(batch)\n",
        "\n",
        "        tensorboard_logs = {\"train_loss\": loss}\n",
        "        return {\"loss\": loss, \"log\": tensorboard_logs}\n",
        "  \n",
        "    def training_epoch_end(self, outputs):\n",
        "        avg_train_loss = torch.stack([x[\"loss\"] for x in outputs]).mean()\n",
        "        tensorboard_logs = {\"avg_train_loss\": avg_train_loss}\n",
        "        return {\"avg_train_loss\": avg_train_loss, \"log\": tensorboard_logs, 'progress_bar': tensorboard_logs}\n",
        "\n",
        "    def validation_step(self, batch, batch_idx):\n",
        "        return self._generative_step(batch)\n",
        "    \n",
        "  \n",
        "    def validation_epoch_end(self, outputs):\n",
        "        \n",
        "        avg_loss = torch.stack([x[\"val_loss\"] for x in outputs]).mean()\n",
        "        tensorboard_logs = {\"val_loss\": avg_loss}\n",
        "        \n",
        "        # rouge_results = self.rouge_metric.compute()\n",
        "        # rouge_dict = self.parse_score(rouge_results)\n",
        "    \n",
        "        tensorboard_logs.update(rouge1=self.rouge_score[0]['rouge-1'], rougeL=self.rouge_score[0]['rouge-l'])\n",
        "        \n",
        "        ## Clear out the lists for next epoch\n",
        "        self.target_gen= []\n",
        "        self.prediction_gen=[]\n",
        "        return {\"avg_val_loss\": avg_loss, \n",
        "                \"rouge1\" : self.rouge_score[0]['rouge-1'],\n",
        "                \"rougeL\" : self.rouge_score[0]['rouge-l'],\n",
        "                \"log\": tensorboard_logs, 'progress_bar': tensorboard_logs}\n",
        "\n",
        "    def configure_optimizers(self):\n",
        "        \"Prepare optimizer and schedule (linear warmup and decay)\"\n",
        "\n",
        "        model = self.model\n",
        "        no_decay = [\"bias\", \"LayerNorm.weight\"]\n",
        "        optimizer_grouped_parameters = [\n",
        "            {\n",
        "                \"params\": [p for n, p in model.named_parameters() if not any(nd in n for nd in no_decay)],\n",
        "                \"weight_decay\": self.hparams.weight_decay,\n",
        "            },\n",
        "            {\n",
        "                \"params\": [p for n, p in model.named_parameters() if any(nd in n for nd in no_decay)],\n",
        "                \"weight_decay\": 0.0,\n",
        "            },\n",
        "        ]\n",
        "        optimizer = AdamW(optimizer_grouped_parameters, lr=self.hparams.learning_rate, eps=self.hparams.adam_epsilon)\n",
        "        self.opt = optimizer\n",
        "        return [optimizer]\n",
        "  \n",
        "    def optimizer_step(self, epoch, batch_idx, optimizer, optimizer_idx, second_order_closure=None, using_native_amp=False):\n",
        "        if self.trainer.use_tpu:\n",
        "            xm.optimizer_step(optimizer)\n",
        "        else:\n",
        "            optimizer.step()\n",
        "        optimizer.zero_grad()\n",
        "        self.lr_scheduler.step()\n",
        "  \n",
        "    def get_tqdm_dict(self):\n",
        "        tqdm_dict = {\"loss\": \"{:.3f}\".format(self.trainer.avg_loss), \"lr\": self.lr_scheduler.get_last_lr()[-1]}\n",
        "\n",
        "        return tqdm_dict\n",
        "    \n",
        "\n",
        "    def train_dataloader(self):   \n",
        "        train_dataset = get_dataset(tokenizer=self.tokenizer, data=self.hparams.train_data, args=self.hparams)\n",
        "        dataloader = DataLoader(train_dataset, batch_size=self.hparams.train_batch_size, drop_last=True, shuffle=True, num_workers=4)\n",
        "        t_total = (\n",
        "            (len(dataloader.dataset) // (self.hparams.train_batch_size * max(1, self.hparams.n_gpu)))\n",
        "            // self.hparams.gradient_accumulation_steps\n",
        "            * float(self.hparams.num_train_epochs)\n",
        "        )\n",
        "        scheduler = get_linear_schedule_with_warmup(\n",
        "            self.opt, num_warmup_steps=self.hparams.warmup_steps, num_training_steps=t_total\n",
        "        )\n",
        "        self.lr_scheduler = scheduler\n",
        "        return dataloader\n",
        "\n",
        "    def val_dataloader(self):\n",
        "        validation_dataset = get_dataset(tokenizer=self.tokenizer, data=self.hparams.val_data, args=self.hparams)\n",
        "        \n",
        "        return DataLoader(validation_dataset, batch_size=self.hparams.eval_batch_size, num_workers=4)\n",
        "    \n",
        "    \n",
        "    def test_dataloader(self):\n",
        "        test_dataset = get_dataset(tokenizer=self.tokenizer, data=self.hparams.test_data, args=self.hparams)\n",
        "        \n",
        "        return DataLoader(test_dataset, batch_size=self.hparams.eval_batch_size, num_workers=4)"
      ],
      "execution_count": null,
      "outputs": []
    },
    {
      "cell_type": "code",
      "metadata": {
        "id": "m7-enhumG1aq"
      },
      "source": [
        "def get_dataset(tokenizer, data, args):\n",
        "      return NewsDataset(tokenizer=tokenizer, data=data, input_length=args.max_input_length, \n",
        "                        output_length=args.max_output_length)"
      ],
      "execution_count": null,
      "outputs": []
    },
    {
      "cell_type": "code",
      "metadata": {
        "id": "TmdJPHNL1u1g"
      },
      "source": [
        "logger = logging.getLogger(__name__)\n",
        "\n",
        "class LoggingCallback(pl.Callback):\n",
        "    def on_validation_end(self, trainer, pl_module):\n",
        "        logger.info(\"***** Validation results *****\")\n",
        "        if pl_module.is_logger():\n",
        "            metrics = trainer.callback_metrics\n",
        "            # Log results\n",
        "            for key in sorted(metrics):\n",
        "                if key not in [\"log\", \"progress_bar\"]:\n",
        "                    logger.info(\"{} = {}\\n\".format(key, str(metrics[key])))\n",
        "\n",
        "    def on_test_end(self, trainer, pl_module):\n",
        "        logger.info(\"***** Test results *****\")\n",
        "\n",
        "        if pl_module.is_logger():\n",
        "            metrics = trainer.callback_metrics\n",
        "\n",
        "            # Log and save results to file\n",
        "            output_test_results_file = os.path.join(pl_module.hparams.output_dir, \"test_results.txt\")\n",
        "            with open(output_test_results_file, \"w\") as writer:\n",
        "                for key in sorted(metrics):\n",
        "                    if key not in [\"log\", \"progress_bar\"]:\n",
        "                        logger.info(\"{} = {}\\n\".format(key, str(metrics[key])))\n",
        "                        writer.write(\"{} = {}\\n\".format(key, str(metrics[key])))"
      ],
      "execution_count": null,
      "outputs": []
    },
    {
      "cell_type": "code",
      "metadata": {
        "id": "4bI4FdN7tcRq"
      },
      "source": [
        "train_records = train_records[0:10]"
      ],
      "execution_count": null,
      "outputs": []
    },
    {
      "cell_type": "code",
      "metadata": {
        "id": "Ldo585gp4H2k"
      },
      "source": [
        "!mkdir -p t5_news"
      ],
      "execution_count": null,
      "outputs": []
    },
    {
      "cell_type": "code",
      "metadata": {
        "id": "O970RFRQ2E2o"
      },
      "source": [
        "args_dict = dict(\n",
        "    output_dir=\"\", # path to save the checkpoints\n",
        "    model_name_or_path=model,\n",
        "    tokenizer_name_or_path=tokenizer,\n",
        "    train_data = train_records,\n",
        "    test_data = val_records,\n",
        "    val_data = test_records,\n",
        "    max_input_length=512,\n",
        "    max_output_length=80,\n",
        "    freeze_encoder=False,\n",
        "    freeze_embeds=False,\n",
        "    learning_rate=3e-4,\n",
        "    weight_decay=0.0,\n",
        "    adam_epsilon=1e-8,\n",
        "    warmup_steps=0,\n",
        "    train_batch_size=4,\n",
        "    eval_batch_size=4,\n",
        "    num_train_epochs=2,\n",
        "    gradient_accumulation_steps=8,\n",
        "    n_gpu=1,\n",
        "    resume_from_checkpoint=None, \n",
        "    val_check_interval = 0.05, \n",
        "    n_val=1000,\n",
        "    n_train=-1,\n",
        "    n_test=-1,\n",
        "    early_stop_callback=False,\n",
        "    fp_16=False, # if you want to enable 16-bit training then install apex and set this to true\n",
        "    opt_level='O1', # you can find out more on optimisation levels here https://nvidia.github.io/apex/amp.html#opt-levels-and-properties\n",
        "    max_grad_norm=1.0, # if you enable 16-bit training then set this to a sensible value, 0.5 is a good default\n",
        "    seed=42,\n",
        ")\n",
        "\n",
        "args_dict.update({'output_dir': 't5_news', 'num_train_epochs':2,\n",
        "                 'train_batch_size': 4, 'eval_batch_size': 4})\n",
        "args = argparse.Namespace(**args_dict)"
      ],
      "execution_count": null,
      "outputs": []
    },
    {
      "cell_type": "code",
      "metadata": {
        "id": "2Qo6Dgip4RUi"
      },
      "source": [
        "## Define Checkpoint function\n",
        "checkpoint_callback = pl.callbacks.ModelCheckpoint(\n",
        "    filepath=args.output_dir, prefix=\"checkpoint\", monitor=\"val_loss\", mode=\"min\", save_top_k=3\n",
        ")\n",
        "\n",
        "## If resuming from checkpoint, add an arg resume_from_checkpoint\n",
        "train_params = dict(\n",
        "    accumulate_grad_batches=args.gradient_accumulation_steps,\n",
        "    gpus=args.n_gpu,\n",
        "    max_epochs=args.num_train_epochs,\n",
        "    precision= 16 if args.fp_16 else 32,\n",
        "    amp_level=args.opt_level,\n",
        "    resume_from_checkpoint=args.resume_from_checkpoint,\n",
        "    gradient_clip_val=args.max_grad_norm,\n",
        "    checkpoint_callback=checkpoint_callback,\n",
        "    val_check_interval=args.val_check_interval,\n",
        "    callbacks=[LoggingCallback()],\n",
        ")"
      ],
      "execution_count": null,
      "outputs": []
    },
    {
      "cell_type": "code",
      "metadata": {
        "colab": {
          "base_uri": "https://localhost:8080/",
          "height": 1000,
          "referenced_widgets": [
            "b4ad37ec2f5a4e43ab147f4f7bf0abdc",
            "badd26e113984baa905e8f548de93f26",
            "b3b770af835243a182e1f6de971181c4",
            "f45ee9181e824bca9536bd8ce08fbc61",
            "79ffd43d01354d3ca06424f5ea7ae2a7",
            "e6c6314f7f4e44648ba3ee4c5fd63146",
            "65e199c459cb46738a6f66597c9d3114",
            "7d8e449ab9044d2397ad298f91be793a"
          ]
        },
        "id": "Vs9G1AFZ4ft4",
        "outputId": "92315ee0-0a62-4097-e1e5-73056640c32e"
      },
      "source": [
        "T5_model = T5FineTuner(args)\n",
        "trainer = pl.Trainer(**train_params)\n",
        "trainer.fit(T5_model)"
      ],
      "execution_count": null,
      "outputs": [
        {
          "output_type": "stream",
          "text": [
            "/usr/local/lib/python3.6/dist-packages/pytorch_lightning/utilities/distributed.py:45: UserWarning: You have set progress_bar_refresh_rate < 20 on Google Colab. This may crash. Consider using progress_bar_refresh_rate >= 20 in Trainer.\n",
            "  warnings.warn(*args, **kwargs)\n",
            "GPU available: True, used: True\n",
            "TPU available: False, using: 0 TPU cores\n",
            "LOCAL_RANK: 0 - CUDA_VISIBLE_DEVICES: [0]\n",
            "\n",
            "  | Name  | Type                       | Params\n",
            "-----------------------------------------------------\n",
            "0 | model | T5ForConditionalGeneration | 291 M \n"
          ],
          "name": "stderr"
        },
        {
          "output_type": "display_data",
          "data": {
            "application/vnd.jupyter.widget-view+json": {
              "model_id": "b4ad37ec2f5a4e43ab147f4f7bf0abdc",
              "version_minor": 0,
              "version_major": 2
            },
            "text/plain": [
              "HBox(children=(FloatProgress(value=1.0, bar_style='info', description='Validation sanity check', layout=Layout…"
            ]
          },
          "metadata": {
            "tags": []
          }
        },
        {
          "output_type": "stream",
          "text": [
            "/usr/local/lib/python3.6/dist-packages/transformers/modeling_t5.py:1156: FutureWarning: The `lm_labels` argument is deprecated and will be removed in a future version, use `labels` instead.\n",
            "  FutureWarning,\n",
            "/usr/local/lib/python3.6/dist-packages/pytorch_lightning/utilities/distributed.py:45: UserWarning: The validation_epoch_end should not return anything as of 9.1.to log, use self.log(...) or self.write(...) directly in the LightningModule\n",
            "  warnings.warn(*args, **kwargs)\n"
          ],
          "name": "stderr"
        },
        {
          "output_type": "error",
          "ename": "AttributeError",
          "evalue": "ignored",
          "traceback": [
            "\u001b[0;31m---------------------------------------------------------------------------\u001b[0m",
            "\u001b[0;31mAttributeError\u001b[0m                            Traceback (most recent call last)",
            "\u001b[0;32m<ipython-input-19-a76ad803e64f>\u001b[0m in \u001b[0;36m<module>\u001b[0;34m()\u001b[0m\n\u001b[1;32m      1\u001b[0m \u001b[0mT5_model\u001b[0m \u001b[0;34m=\u001b[0m \u001b[0mT5FineTuner\u001b[0m\u001b[0;34m(\u001b[0m\u001b[0margs\u001b[0m\u001b[0;34m)\u001b[0m\u001b[0;34m\u001b[0m\u001b[0;34m\u001b[0m\u001b[0m\n\u001b[1;32m      2\u001b[0m \u001b[0mtrainer\u001b[0m \u001b[0;34m=\u001b[0m \u001b[0mpl\u001b[0m\u001b[0;34m.\u001b[0m\u001b[0mTrainer\u001b[0m\u001b[0;34m(\u001b[0m\u001b[0;34m**\u001b[0m\u001b[0mtrain_params\u001b[0m\u001b[0;34m)\u001b[0m\u001b[0;34m\u001b[0m\u001b[0;34m\u001b[0m\u001b[0m\n\u001b[0;32m----> 3\u001b[0;31m \u001b[0mtrainer\u001b[0m\u001b[0;34m.\u001b[0m\u001b[0mfit\u001b[0m\u001b[0;34m(\u001b[0m\u001b[0mT5_model\u001b[0m\u001b[0;34m)\u001b[0m\u001b[0;34m\u001b[0m\u001b[0;34m\u001b[0m\u001b[0m\n\u001b[0m",
            "\u001b[0;32m/usr/local/lib/python3.6/dist-packages/pytorch_lightning/trainer/trainer.py\u001b[0m in \u001b[0;36mfit\u001b[0;34m(self, model, train_dataloader, val_dataloaders, datamodule)\u001b[0m\n\u001b[1;32m    443\u001b[0m         \u001b[0mself\u001b[0m\u001b[0;34m.\u001b[0m\u001b[0mcall_hook\u001b[0m\u001b[0;34m(\u001b[0m\u001b[0;34m'on_fit_start'\u001b[0m\u001b[0;34m)\u001b[0m\u001b[0;34m\u001b[0m\u001b[0;34m\u001b[0m\u001b[0m\n\u001b[1;32m    444\u001b[0m \u001b[0;34m\u001b[0m\u001b[0m\n\u001b[0;32m--> 445\u001b[0;31m         \u001b[0mresults\u001b[0m \u001b[0;34m=\u001b[0m \u001b[0mself\u001b[0m\u001b[0;34m.\u001b[0m\u001b[0maccelerator_backend\u001b[0m\u001b[0;34m.\u001b[0m\u001b[0mtrain\u001b[0m\u001b[0;34m(\u001b[0m\u001b[0;34m)\u001b[0m\u001b[0;34m\u001b[0m\u001b[0;34m\u001b[0m\u001b[0m\n\u001b[0m\u001b[1;32m    446\u001b[0m         \u001b[0mself\u001b[0m\u001b[0;34m.\u001b[0m\u001b[0maccelerator_backend\u001b[0m\u001b[0;34m.\u001b[0m\u001b[0mteardown\u001b[0m\u001b[0;34m(\u001b[0m\u001b[0;34m)\u001b[0m\u001b[0;34m\u001b[0m\u001b[0;34m\u001b[0m\u001b[0m\n\u001b[1;32m    447\u001b[0m \u001b[0;34m\u001b[0m\u001b[0m\n",
            "\u001b[0;32m/usr/local/lib/python3.6/dist-packages/pytorch_lightning/accelerators/gpu_accelerator.py\u001b[0m in \u001b[0;36mtrain\u001b[0;34m(self)\u001b[0m\n\u001b[1;32m     62\u001b[0m \u001b[0;34m\u001b[0m\u001b[0m\n\u001b[1;32m     63\u001b[0m         \u001b[0;31m# train or test\u001b[0m\u001b[0;34m\u001b[0m\u001b[0;34m\u001b[0m\u001b[0;34m\u001b[0m\u001b[0m\n\u001b[0;32m---> 64\u001b[0;31m         \u001b[0mresults\u001b[0m \u001b[0;34m=\u001b[0m \u001b[0mself\u001b[0m\u001b[0;34m.\u001b[0m\u001b[0mtrain_or_test\u001b[0m\u001b[0;34m(\u001b[0m\u001b[0;34m)\u001b[0m\u001b[0;34m\u001b[0m\u001b[0;34m\u001b[0m\u001b[0m\n\u001b[0m\u001b[1;32m     65\u001b[0m         \u001b[0;32mreturn\u001b[0m \u001b[0mresults\u001b[0m\u001b[0;34m\u001b[0m\u001b[0;34m\u001b[0m\u001b[0m\n\u001b[1;32m     66\u001b[0m \u001b[0;34m\u001b[0m\u001b[0m\n",
            "\u001b[0;32m/usr/local/lib/python3.6/dist-packages/pytorch_lightning/accelerators/accelerator.py\u001b[0m in \u001b[0;36mtrain_or_test\u001b[0;34m(self)\u001b[0m\n\u001b[1;32m     64\u001b[0m             \u001b[0mresults\u001b[0m \u001b[0;34m=\u001b[0m \u001b[0mself\u001b[0m\u001b[0;34m.\u001b[0m\u001b[0mtrainer\u001b[0m\u001b[0;34m.\u001b[0m\u001b[0mrun_test\u001b[0m\u001b[0;34m(\u001b[0m\u001b[0;34m)\u001b[0m\u001b[0;34m\u001b[0m\u001b[0;34m\u001b[0m\u001b[0m\n\u001b[1;32m     65\u001b[0m         \u001b[0;32melse\u001b[0m\u001b[0;34m:\u001b[0m\u001b[0;34m\u001b[0m\u001b[0;34m\u001b[0m\u001b[0m\n\u001b[0;32m---> 66\u001b[0;31m             \u001b[0mresults\u001b[0m \u001b[0;34m=\u001b[0m \u001b[0mself\u001b[0m\u001b[0;34m.\u001b[0m\u001b[0mtrainer\u001b[0m\u001b[0;34m.\u001b[0m\u001b[0mtrain\u001b[0m\u001b[0;34m(\u001b[0m\u001b[0;34m)\u001b[0m\u001b[0;34m\u001b[0m\u001b[0;34m\u001b[0m\u001b[0m\n\u001b[0m\u001b[1;32m     67\u001b[0m         \u001b[0;32mreturn\u001b[0m \u001b[0mresults\u001b[0m\u001b[0;34m\u001b[0m\u001b[0;34m\u001b[0m\u001b[0m\n\u001b[1;32m     68\u001b[0m \u001b[0;34m\u001b[0m\u001b[0m\n",
            "\u001b[0;32m/usr/local/lib/python3.6/dist-packages/pytorch_lightning/trainer/trainer.py\u001b[0m in \u001b[0;36mtrain\u001b[0;34m(self)\u001b[0m\n\u001b[1;32m    465\u001b[0m \u001b[0;34m\u001b[0m\u001b[0m\n\u001b[1;32m    466\u001b[0m     \u001b[0;32mdef\u001b[0m \u001b[0mtrain\u001b[0m\u001b[0;34m(\u001b[0m\u001b[0mself\u001b[0m\u001b[0;34m)\u001b[0m\u001b[0;34m:\u001b[0m\u001b[0;34m\u001b[0m\u001b[0;34m\u001b[0m\u001b[0m\n\u001b[0;32m--> 467\u001b[0;31m         \u001b[0mself\u001b[0m\u001b[0;34m.\u001b[0m\u001b[0mrun_sanity_check\u001b[0m\u001b[0;34m(\u001b[0m\u001b[0mself\u001b[0m\u001b[0;34m.\u001b[0m\u001b[0mget_model\u001b[0m\u001b[0;34m(\u001b[0m\u001b[0;34m)\u001b[0m\u001b[0;34m)\u001b[0m\u001b[0;34m\u001b[0m\u001b[0;34m\u001b[0m\u001b[0m\n\u001b[0m\u001b[1;32m    468\u001b[0m \u001b[0;34m\u001b[0m\u001b[0m\n\u001b[1;32m    469\u001b[0m         \u001b[0mself\u001b[0m\u001b[0;34m.\u001b[0m\u001b[0mcheckpoint_connector\u001b[0m\u001b[0;34m.\u001b[0m\u001b[0mhas_trained\u001b[0m \u001b[0;34m=\u001b[0m \u001b[0;32mFalse\u001b[0m\u001b[0;34m\u001b[0m\u001b[0;34m\u001b[0m\u001b[0m\n",
            "\u001b[0;32m/usr/local/lib/python3.6/dist-packages/pytorch_lightning/trainer/trainer.py\u001b[0m in \u001b[0;36mrun_sanity_check\u001b[0;34m(self, ref_model)\u001b[0m\n\u001b[1;32m    657\u001b[0m \u001b[0;34m\u001b[0m\u001b[0m\n\u001b[1;32m    658\u001b[0m             \u001b[0;31m# run eval step\u001b[0m\u001b[0;34m\u001b[0m\u001b[0;34m\u001b[0m\u001b[0;34m\u001b[0m\u001b[0m\n\u001b[0;32m--> 659\u001b[0;31m             \u001b[0m_\u001b[0m\u001b[0;34m,\u001b[0m \u001b[0meval_results\u001b[0m \u001b[0;34m=\u001b[0m \u001b[0mself\u001b[0m\u001b[0;34m.\u001b[0m\u001b[0mrun_evaluation\u001b[0m\u001b[0;34m(\u001b[0m\u001b[0mtest_mode\u001b[0m\u001b[0;34m=\u001b[0m\u001b[0;32mFalse\u001b[0m\u001b[0;34m,\u001b[0m \u001b[0mmax_batches\u001b[0m\u001b[0;34m=\u001b[0m\u001b[0mself\u001b[0m\u001b[0;34m.\u001b[0m\u001b[0mnum_sanity_val_batches\u001b[0m\u001b[0;34m)\u001b[0m\u001b[0;34m\u001b[0m\u001b[0;34m\u001b[0m\u001b[0m\n\u001b[0m\u001b[1;32m    660\u001b[0m \u001b[0;34m\u001b[0m\u001b[0m\n\u001b[1;32m    661\u001b[0m             \u001b[0;31m# allow no returns from eval\u001b[0m\u001b[0;34m\u001b[0m\u001b[0;34m\u001b[0m\u001b[0;34m\u001b[0m\u001b[0m\n",
            "\u001b[0;32m/usr/local/lib/python3.6/dist-packages/pytorch_lightning/trainer/trainer.py\u001b[0m in \u001b[0;36mrun_evaluation\u001b[0;34m(self, test_mode, max_batches)\u001b[0m\n\u001b[1;32m    619\u001b[0m \u001b[0;34m\u001b[0m\u001b[0m\n\u001b[1;32m    620\u001b[0m         \u001b[0;31m# hook\u001b[0m\u001b[0;34m\u001b[0m\u001b[0;34m\u001b[0m\u001b[0;34m\u001b[0m\u001b[0m\n\u001b[0;32m--> 621\u001b[0;31m         \u001b[0mself\u001b[0m\u001b[0;34m.\u001b[0m\u001b[0mevaluation_loop\u001b[0m\u001b[0;34m.\u001b[0m\u001b[0mon_evaluation_end\u001b[0m\u001b[0;34m(\u001b[0m\u001b[0;34m)\u001b[0m\u001b[0;34m\u001b[0m\u001b[0;34m\u001b[0m\u001b[0m\n\u001b[0m\u001b[1;32m    622\u001b[0m \u001b[0;34m\u001b[0m\u001b[0m\n\u001b[1;32m    623\u001b[0m         \u001b[0;32mreturn\u001b[0m \u001b[0meval_loop_results\u001b[0m\u001b[0;34m,\u001b[0m \u001b[0mdeprecated_eval_results\u001b[0m\u001b[0;34m\u001b[0m\u001b[0;34m\u001b[0m\u001b[0m\n",
            "\u001b[0;32m/usr/local/lib/python3.6/dist-packages/pytorch_lightning/trainer/evaluation_loop.py\u001b[0m in \u001b[0;36mon_evaluation_end\u001b[0;34m(self, *args, **kwargs)\u001b[0m\n\u001b[1;32m    107\u001b[0m             \u001b[0mself\u001b[0m\u001b[0;34m.\u001b[0m\u001b[0mtrainer\u001b[0m\u001b[0;34m.\u001b[0m\u001b[0mcall_hook\u001b[0m\u001b[0;34m(\u001b[0m\u001b[0;34m'on_test_end'\u001b[0m\u001b[0;34m,\u001b[0m \u001b[0;34m*\u001b[0m\u001b[0margs\u001b[0m\u001b[0;34m,\u001b[0m \u001b[0;34m**\u001b[0m\u001b[0mkwargs\u001b[0m\u001b[0;34m)\u001b[0m\u001b[0;34m\u001b[0m\u001b[0;34m\u001b[0m\u001b[0m\n\u001b[1;32m    108\u001b[0m         \u001b[0;32melse\u001b[0m\u001b[0;34m:\u001b[0m\u001b[0;34m\u001b[0m\u001b[0;34m\u001b[0m\u001b[0m\n\u001b[0;32m--> 109\u001b[0;31m             \u001b[0mself\u001b[0m\u001b[0;34m.\u001b[0m\u001b[0mtrainer\u001b[0m\u001b[0;34m.\u001b[0m\u001b[0mcall_hook\u001b[0m\u001b[0;34m(\u001b[0m\u001b[0;34m'on_validation_end'\u001b[0m\u001b[0;34m,\u001b[0m \u001b[0;34m*\u001b[0m\u001b[0margs\u001b[0m\u001b[0;34m,\u001b[0m \u001b[0;34m**\u001b[0m\u001b[0mkwargs\u001b[0m\u001b[0;34m)\u001b[0m\u001b[0;34m\u001b[0m\u001b[0;34m\u001b[0m\u001b[0m\n\u001b[0m\u001b[1;32m    110\u001b[0m \u001b[0;34m\u001b[0m\u001b[0m\n\u001b[1;32m    111\u001b[0m     \u001b[0;32mdef\u001b[0m \u001b[0mreload_evaluation_dataloaders\u001b[0m\u001b[0;34m(\u001b[0m\u001b[0mself\u001b[0m\u001b[0;34m)\u001b[0m\u001b[0;34m:\u001b[0m\u001b[0;34m\u001b[0m\u001b[0;34m\u001b[0m\u001b[0m\n",
            "\u001b[0;32m/usr/local/lib/python3.6/dist-packages/pytorch_lightning/trainer/trainer.py\u001b[0m in \u001b[0;36mcall_hook\u001b[0;34m(self, hook_name, *args, **kwargs)\u001b[0m\n\u001b[1;32m    832\u001b[0m             \u001b[0;32mif\u001b[0m \u001b[0mhasattr\u001b[0m\u001b[0;34m(\u001b[0m\u001b[0mself\u001b[0m\u001b[0;34m,\u001b[0m \u001b[0mhook_name\u001b[0m\u001b[0;34m)\u001b[0m\u001b[0;34m:\u001b[0m\u001b[0;34m\u001b[0m\u001b[0;34m\u001b[0m\u001b[0m\n\u001b[1;32m    833\u001b[0m                 \u001b[0mtrainer_hook\u001b[0m \u001b[0;34m=\u001b[0m \u001b[0mgetattr\u001b[0m\u001b[0;34m(\u001b[0m\u001b[0mself\u001b[0m\u001b[0;34m,\u001b[0m \u001b[0mhook_name\u001b[0m\u001b[0;34m)\u001b[0m\u001b[0;34m\u001b[0m\u001b[0;34m\u001b[0m\u001b[0m\n\u001b[0;32m--> 834\u001b[0;31m                 \u001b[0mtrainer_hook\u001b[0m\u001b[0;34m(\u001b[0m\u001b[0;34m*\u001b[0m\u001b[0margs\u001b[0m\u001b[0;34m,\u001b[0m \u001b[0;34m**\u001b[0m\u001b[0mkwargs\u001b[0m\u001b[0;34m)\u001b[0m\u001b[0;34m\u001b[0m\u001b[0;34m\u001b[0m\u001b[0m\n\u001b[0m\u001b[1;32m    835\u001b[0m \u001b[0;34m\u001b[0m\u001b[0m\n\u001b[1;32m    836\u001b[0m             \u001b[0;31m# next call hook in lightningModule\u001b[0m\u001b[0;34m\u001b[0m\u001b[0;34m\u001b[0m\u001b[0;34m\u001b[0m\u001b[0m\n",
            "\u001b[0;32m/usr/local/lib/python3.6/dist-packages/pytorch_lightning/trainer/callback_hook.py\u001b[0m in \u001b[0;36mon_validation_end\u001b[0;34m(self)\u001b[0m\n\u001b[1;32m    175\u001b[0m         \u001b[0;34m\"\"\"Called when the validation loop ends.\"\"\"\u001b[0m\u001b[0;34m\u001b[0m\u001b[0;34m\u001b[0m\u001b[0m\n\u001b[1;32m    176\u001b[0m         \u001b[0;32mfor\u001b[0m \u001b[0mcallback\u001b[0m \u001b[0;32min\u001b[0m \u001b[0mself\u001b[0m\u001b[0;34m.\u001b[0m\u001b[0mcallbacks\u001b[0m\u001b[0;34m:\u001b[0m\u001b[0;34m\u001b[0m\u001b[0;34m\u001b[0m\u001b[0m\n\u001b[0;32m--> 177\u001b[0;31m             \u001b[0mcallback\u001b[0m\u001b[0;34m.\u001b[0m\u001b[0mon_validation_end\u001b[0m\u001b[0;34m(\u001b[0m\u001b[0mself\u001b[0m\u001b[0;34m,\u001b[0m \u001b[0mself\u001b[0m\u001b[0;34m.\u001b[0m\u001b[0mget_model\u001b[0m\u001b[0;34m(\u001b[0m\u001b[0;34m)\u001b[0m\u001b[0;34m)\u001b[0m\u001b[0;34m\u001b[0m\u001b[0;34m\u001b[0m\u001b[0m\n\u001b[0m\u001b[1;32m    178\u001b[0m \u001b[0;34m\u001b[0m\u001b[0m\n\u001b[1;32m    179\u001b[0m     \u001b[0;32mdef\u001b[0m \u001b[0mon_test_start\u001b[0m\u001b[0;34m(\u001b[0m\u001b[0mself\u001b[0m\u001b[0;34m)\u001b[0m\u001b[0;34m:\u001b[0m\u001b[0;34m\u001b[0m\u001b[0;34m\u001b[0m\u001b[0m\n",
            "\u001b[0;32m<ipython-input-17-c403a5c59428>\u001b[0m in \u001b[0;36mon_validation_end\u001b[0;34m(self, trainer, pl_module)\u001b[0m\n\u001b[1;32m      4\u001b[0m     \u001b[0;32mdef\u001b[0m \u001b[0mon_validation_end\u001b[0m\u001b[0;34m(\u001b[0m\u001b[0mself\u001b[0m\u001b[0;34m,\u001b[0m \u001b[0mtrainer\u001b[0m\u001b[0;34m,\u001b[0m \u001b[0mpl_module\u001b[0m\u001b[0;34m)\u001b[0m\u001b[0;34m:\u001b[0m\u001b[0;34m\u001b[0m\u001b[0;34m\u001b[0m\u001b[0m\n\u001b[1;32m      5\u001b[0m         \u001b[0mlogger\u001b[0m\u001b[0;34m.\u001b[0m\u001b[0minfo\u001b[0m\u001b[0;34m(\u001b[0m\u001b[0;34m\"***** Validation results *****\"\u001b[0m\u001b[0;34m)\u001b[0m\u001b[0;34m\u001b[0m\u001b[0;34m\u001b[0m\u001b[0m\n\u001b[0;32m----> 6\u001b[0;31m         \u001b[0;32mif\u001b[0m \u001b[0mpl_module\u001b[0m\u001b[0;34m.\u001b[0m\u001b[0mis_logger\u001b[0m\u001b[0;34m(\u001b[0m\u001b[0;34m)\u001b[0m\u001b[0;34m:\u001b[0m\u001b[0;34m\u001b[0m\u001b[0;34m\u001b[0m\u001b[0m\n\u001b[0m\u001b[1;32m      7\u001b[0m             \u001b[0mmetrics\u001b[0m \u001b[0;34m=\u001b[0m \u001b[0mtrainer\u001b[0m\u001b[0;34m.\u001b[0m\u001b[0mcallback_metrics\u001b[0m\u001b[0;34m\u001b[0m\u001b[0;34m\u001b[0m\u001b[0m\n\u001b[1;32m      8\u001b[0m             \u001b[0;31m# Log results\u001b[0m\u001b[0;34m\u001b[0m\u001b[0;34m\u001b[0m\u001b[0;34m\u001b[0m\u001b[0m\n",
            "\u001b[0;32m<ipython-input-11-74d54a57171e>\u001b[0m in \u001b[0;36mis_logger\u001b[0;34m(self)\u001b[0m\n\u001b[1;32m     45\u001b[0m \u001b[0;34m\u001b[0m\u001b[0m\n\u001b[1;32m     46\u001b[0m     \u001b[0;32mdef\u001b[0m \u001b[0mis_logger\u001b[0m\u001b[0;34m(\u001b[0m\u001b[0mself\u001b[0m\u001b[0;34m)\u001b[0m\u001b[0;34m:\u001b[0m\u001b[0;34m\u001b[0m\u001b[0;34m\u001b[0m\u001b[0m\n\u001b[0;32m---> 47\u001b[0;31m         \u001b[0;32mreturn\u001b[0m \u001b[0mself\u001b[0m\u001b[0;34m.\u001b[0m\u001b[0mtrainer\u001b[0m\u001b[0;34m.\u001b[0m\u001b[0mproc_rank\u001b[0m \u001b[0;34m<=\u001b[0m \u001b[0;36m0\u001b[0m\u001b[0;34m\u001b[0m\u001b[0;34m\u001b[0m\u001b[0m\n\u001b[0m\u001b[1;32m     48\u001b[0m \u001b[0;34m\u001b[0m\u001b[0m\n\u001b[1;32m     49\u001b[0m \u001b[0;34m\u001b[0m\u001b[0m\n",
            "\u001b[0;31mAttributeError\u001b[0m: 'Trainer' object has no attribute 'proc_rank'"
          ]
        }
      ]
    },
    {
      "cell_type": "code",
      "metadata": {
        "id": "GHKHy6OK5sGZ"
      },
      "source": [
        "hypothesis = \"the #### transcript is a written version of each day 's cnn student news program use this transcript to he    lp students with reading comprehension and vocabulary use the weekly newsquiz to test your knowledge of storie s you     saw on cnn student news\"\n",
        "\n",
        "reference = \"this page includes the show transcript use the transcript to help students with reading comprehension and     vocabulary at the bottom of the page , comment for a chance to be mentioned on cnn student news . you must be a teac    her or a student age # # or older to request a mention on the cnn student news roll call . the weekly newsquiz tests     students ' knowledge of even ts in the news\"\n",
        "\n",
        "rouge = Rouge()\n",
        "scores = rouge.get_scores(hypothesis, reference)"
      ],
      "execution_count": null,
      "outputs": []
    },
    {
      "cell_type": "code",
      "metadata": {
        "colab": {
          "base_uri": "https://localhost:8080/"
        },
        "id": "umW0inLrd_Gu",
        "outputId": "62fb9dc7-0882-490a-b2ef-41dceb707322"
      },
      "source": [
        "scores[0]['rouge-1']"
      ],
      "execution_count": null,
      "outputs": [
        {
          "output_type": "execute_result",
          "data": {
            "text/plain": [
              "{'f': 0.4786324739396596, 'p': 0.6363636363636364, 'r': 0.3835616438356164}"
            ]
          },
          "metadata": {
            "tags": []
          },
          "execution_count": 22
        }
      ]
    },
    {
      "cell_type": "code",
      "metadata": {
        "id": "-5N314yNeAqA"
      },
      "source": [
        ""
      ],
      "execution_count": null,
      "outputs": []
    }
  ]
}