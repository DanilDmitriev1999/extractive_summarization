{
  "nbformat": 4,
  "nbformat_minor": 0,
  "metadata": {
    "colab": {
      "name": "Summarization.ipynb",
      "provenance": [],
      "collapsed_sections": []
    },
    "kernelspec": {
      "name": "python3",
      "display_name": "Python 3"
    },
    "accelerator": "GPU",
    "widgets": {
      "application/vnd.jupyter.widget-state+json": {
        "d60392f7c32e4ebba9806bc9b9967194": {
          "model_module": "@jupyter-widgets/controls",
          "model_name": "HBoxModel",
          "state": {
            "_view_name": "HBoxView",
            "_dom_classes": [],
            "_model_name": "HBoxModel",
            "_view_module": "@jupyter-widgets/controls",
            "_model_module_version": "1.5.0",
            "_view_count": null,
            "_view_module_version": "1.5.0",
            "box_style": "",
            "layout": "IPY_MODEL_973bd3c8d34a4fb9bb0c0590c3733535",
            "_model_module": "@jupyter-widgets/controls",
            "children": [
              "IPY_MODEL_b9fcc671d5f64cd09f45b875b1b9345e",
              "IPY_MODEL_7a9c2750631b42dc94d632125492dac3"
            ]
          }
        },
        "973bd3c8d34a4fb9bb0c0590c3733535": {
          "model_module": "@jupyter-widgets/base",
          "model_name": "LayoutModel",
          "state": {
            "_view_name": "LayoutView",
            "grid_template_rows": null,
            "right": null,
            "justify_content": null,
            "_view_module": "@jupyter-widgets/base",
            "overflow": null,
            "_model_module_version": "1.2.0",
            "_view_count": null,
            "flex_flow": null,
            "width": null,
            "min_width": null,
            "border": null,
            "align_items": null,
            "bottom": null,
            "_model_module": "@jupyter-widgets/base",
            "top": null,
            "grid_column": null,
            "overflow_y": null,
            "overflow_x": null,
            "grid_auto_flow": null,
            "grid_area": null,
            "grid_template_columns": null,
            "flex": null,
            "_model_name": "LayoutModel",
            "justify_items": null,
            "grid_row": null,
            "max_height": null,
            "align_content": null,
            "visibility": null,
            "align_self": null,
            "height": null,
            "min_height": null,
            "padding": null,
            "grid_auto_rows": null,
            "grid_gap": null,
            "max_width": null,
            "order": null,
            "_view_module_version": "1.2.0",
            "grid_template_areas": null,
            "object_position": null,
            "object_fit": null,
            "grid_auto_columns": null,
            "margin": null,
            "display": null,
            "left": null
          }
        },
        "b9fcc671d5f64cd09f45b875b1b9345e": {
          "model_module": "@jupyter-widgets/controls",
          "model_name": "FloatProgressModel",
          "state": {
            "_view_name": "ProgressView",
            "style": "IPY_MODEL_163a69329d5a4823babba85e6cbc03f5",
            "_dom_classes": [],
            "description": "Downloading: 100%",
            "_model_name": "FloatProgressModel",
            "bar_style": "success",
            "max": 553,
            "_view_module": "@jupyter-widgets/controls",
            "_model_module_version": "1.5.0",
            "value": 553,
            "_view_count": null,
            "_view_module_version": "1.5.0",
            "orientation": "horizontal",
            "min": 0,
            "description_tooltip": null,
            "_model_module": "@jupyter-widgets/controls",
            "layout": "IPY_MODEL_f0f98888dc714f2a8901505e30f32ca0"
          }
        },
        "7a9c2750631b42dc94d632125492dac3": {
          "model_module": "@jupyter-widgets/controls",
          "model_name": "HTMLModel",
          "state": {
            "_view_name": "HTMLView",
            "style": "IPY_MODEL_8d136b6301714cd3a1319c3c7c49f002",
            "_dom_classes": [],
            "description": "",
            "_model_name": "HTMLModel",
            "placeholder": "​",
            "_view_module": "@jupyter-widgets/controls",
            "_model_module_version": "1.5.0",
            "value": " 553/553 [00:00&lt;00:00, 7.93kB/s]",
            "_view_count": null,
            "_view_module_version": "1.5.0",
            "description_tooltip": null,
            "_model_module": "@jupyter-widgets/controls",
            "layout": "IPY_MODEL_0bbeb7742fbf437288cfe0167860dbe0"
          }
        },
        "163a69329d5a4823babba85e6cbc03f5": {
          "model_module": "@jupyter-widgets/controls",
          "model_name": "ProgressStyleModel",
          "state": {
            "_view_name": "StyleView",
            "_model_name": "ProgressStyleModel",
            "description_width": "initial",
            "_view_module": "@jupyter-widgets/base",
            "_model_module_version": "1.5.0",
            "_view_count": null,
            "_view_module_version": "1.2.0",
            "bar_color": null,
            "_model_module": "@jupyter-widgets/controls"
          }
        },
        "f0f98888dc714f2a8901505e30f32ca0": {
          "model_module": "@jupyter-widgets/base",
          "model_name": "LayoutModel",
          "state": {
            "_view_name": "LayoutView",
            "grid_template_rows": null,
            "right": null,
            "justify_content": null,
            "_view_module": "@jupyter-widgets/base",
            "overflow": null,
            "_model_module_version": "1.2.0",
            "_view_count": null,
            "flex_flow": null,
            "width": null,
            "min_width": null,
            "border": null,
            "align_items": null,
            "bottom": null,
            "_model_module": "@jupyter-widgets/base",
            "top": null,
            "grid_column": null,
            "overflow_y": null,
            "overflow_x": null,
            "grid_auto_flow": null,
            "grid_area": null,
            "grid_template_columns": null,
            "flex": null,
            "_model_name": "LayoutModel",
            "justify_items": null,
            "grid_row": null,
            "max_height": null,
            "align_content": null,
            "visibility": null,
            "align_self": null,
            "height": null,
            "min_height": null,
            "padding": null,
            "grid_auto_rows": null,
            "grid_gap": null,
            "max_width": null,
            "order": null,
            "_view_module_version": "1.2.0",
            "grid_template_areas": null,
            "object_position": null,
            "object_fit": null,
            "grid_auto_columns": null,
            "margin": null,
            "display": null,
            "left": null
          }
        },
        "8d136b6301714cd3a1319c3c7c49f002": {
          "model_module": "@jupyter-widgets/controls",
          "model_name": "DescriptionStyleModel",
          "state": {
            "_view_name": "StyleView",
            "_model_name": "DescriptionStyleModel",
            "description_width": "",
            "_view_module": "@jupyter-widgets/base",
            "_model_module_version": "1.5.0",
            "_view_count": null,
            "_view_module_version": "1.2.0",
            "_model_module": "@jupyter-widgets/controls"
          }
        },
        "0bbeb7742fbf437288cfe0167860dbe0": {
          "model_module": "@jupyter-widgets/base",
          "model_name": "LayoutModel",
          "state": {
            "_view_name": "LayoutView",
            "grid_template_rows": null,
            "right": null,
            "justify_content": null,
            "_view_module": "@jupyter-widgets/base",
            "overflow": null,
            "_model_module_version": "1.2.0",
            "_view_count": null,
            "flex_flow": null,
            "width": null,
            "min_width": null,
            "border": null,
            "align_items": null,
            "bottom": null,
            "_model_module": "@jupyter-widgets/base",
            "top": null,
            "grid_column": null,
            "overflow_y": null,
            "overflow_x": null,
            "grid_auto_flow": null,
            "grid_area": null,
            "grid_template_columns": null,
            "flex": null,
            "_model_name": "LayoutModel",
            "justify_items": null,
            "grid_row": null,
            "max_height": null,
            "align_content": null,
            "visibility": null,
            "align_self": null,
            "height": null,
            "min_height": null,
            "padding": null,
            "grid_auto_rows": null,
            "grid_gap": null,
            "max_width": null,
            "order": null,
            "_view_module_version": "1.2.0",
            "grid_template_areas": null,
            "object_position": null,
            "object_fit": null,
            "grid_auto_columns": null,
            "margin": null,
            "display": null,
            "left": null
          }
        },
        "110d08698fd041c7af94c79a7c3a47df": {
          "model_module": "@jupyter-widgets/controls",
          "model_name": "HBoxModel",
          "state": {
            "_view_name": "HBoxView",
            "_dom_classes": [],
            "_model_name": "HBoxModel",
            "_view_module": "@jupyter-widgets/controls",
            "_model_module_version": "1.5.0",
            "_view_count": null,
            "_view_module_version": "1.5.0",
            "box_style": "",
            "layout": "IPY_MODEL_da69683f6b8244b0be2b546b34da614b",
            "_model_module": "@jupyter-widgets/controls",
            "children": [
              "IPY_MODEL_8a43e9f7321043698f894cb4ed162c63",
              "IPY_MODEL_ef474776960e41d6ac5bfa300b4ec232"
            ]
          }
        },
        "da69683f6b8244b0be2b546b34da614b": {
          "model_module": "@jupyter-widgets/base",
          "model_name": "LayoutModel",
          "state": {
            "_view_name": "LayoutView",
            "grid_template_rows": null,
            "right": null,
            "justify_content": null,
            "_view_module": "@jupyter-widgets/base",
            "overflow": null,
            "_model_module_version": "1.2.0",
            "_view_count": null,
            "flex_flow": null,
            "width": null,
            "min_width": null,
            "border": null,
            "align_items": null,
            "bottom": null,
            "_model_module": "@jupyter-widgets/base",
            "top": null,
            "grid_column": null,
            "overflow_y": null,
            "overflow_x": null,
            "grid_auto_flow": null,
            "grid_area": null,
            "grid_template_columns": null,
            "flex": null,
            "_model_name": "LayoutModel",
            "justify_items": null,
            "grid_row": null,
            "max_height": null,
            "align_content": null,
            "visibility": null,
            "align_self": null,
            "height": null,
            "min_height": null,
            "padding": null,
            "grid_auto_rows": null,
            "grid_gap": null,
            "max_width": null,
            "order": null,
            "_view_module_version": "1.2.0",
            "grid_template_areas": null,
            "object_position": null,
            "object_fit": null,
            "grid_auto_columns": null,
            "margin": null,
            "display": null,
            "left": null
          }
        },
        "8a43e9f7321043698f894cb4ed162c63": {
          "model_module": "@jupyter-widgets/controls",
          "model_name": "FloatProgressModel",
          "state": {
            "_view_name": "ProgressView",
            "style": "IPY_MODEL_2daf257798f14e89a650e8332b9e1051",
            "_dom_classes": [],
            "description": "Downloading: 100%",
            "_model_name": "FloatProgressModel",
            "bar_style": "success",
            "max": 1200794589,
            "_view_module": "@jupyter-widgets/controls",
            "_model_module_version": "1.5.0",
            "value": 1200794589,
            "_view_count": null,
            "_view_module_version": "1.5.0",
            "orientation": "horizontal",
            "min": 0,
            "description_tooltip": null,
            "_model_module": "@jupyter-widgets/controls",
            "layout": "IPY_MODEL_dbef3e0212084d24b7749cbaa0204969"
          }
        },
        "ef474776960e41d6ac5bfa300b4ec232": {
          "model_module": "@jupyter-widgets/controls",
          "model_name": "HTMLModel",
          "state": {
            "_view_name": "HTMLView",
            "style": "IPY_MODEL_f070909e0f00485b9c7b419a7e01b513",
            "_dom_classes": [],
            "description": "",
            "_model_name": "HTMLModel",
            "placeholder": "​",
            "_view_module": "@jupyter-widgets/controls",
            "_model_module_version": "1.5.0",
            "value": " 1.20G/1.20G [00:17&lt;00:00, 67.7MB/s]",
            "_view_count": null,
            "_view_module_version": "1.5.0",
            "description_tooltip": null,
            "_model_module": "@jupyter-widgets/controls",
            "layout": "IPY_MODEL_aa201747ef3945519b5f0d9f72b3669a"
          }
        },
        "2daf257798f14e89a650e8332b9e1051": {
          "model_module": "@jupyter-widgets/controls",
          "model_name": "ProgressStyleModel",
          "state": {
            "_view_name": "StyleView",
            "_model_name": "ProgressStyleModel",
            "description_width": "initial",
            "_view_module": "@jupyter-widgets/base",
            "_model_module_version": "1.5.0",
            "_view_count": null,
            "_view_module_version": "1.2.0",
            "bar_color": null,
            "_model_module": "@jupyter-widgets/controls"
          }
        },
        "dbef3e0212084d24b7749cbaa0204969": {
          "model_module": "@jupyter-widgets/base",
          "model_name": "LayoutModel",
          "state": {
            "_view_name": "LayoutView",
            "grid_template_rows": null,
            "right": null,
            "justify_content": null,
            "_view_module": "@jupyter-widgets/base",
            "overflow": null,
            "_model_module_version": "1.2.0",
            "_view_count": null,
            "flex_flow": null,
            "width": null,
            "min_width": null,
            "border": null,
            "align_items": null,
            "bottom": null,
            "_model_module": "@jupyter-widgets/base",
            "top": null,
            "grid_column": null,
            "overflow_y": null,
            "overflow_x": null,
            "grid_auto_flow": null,
            "grid_area": null,
            "grid_template_columns": null,
            "flex": null,
            "_model_name": "LayoutModel",
            "justify_items": null,
            "grid_row": null,
            "max_height": null,
            "align_content": null,
            "visibility": null,
            "align_self": null,
            "height": null,
            "min_height": null,
            "padding": null,
            "grid_auto_rows": null,
            "grid_gap": null,
            "max_width": null,
            "order": null,
            "_view_module_version": "1.2.0",
            "grid_template_areas": null,
            "object_position": null,
            "object_fit": null,
            "grid_auto_columns": null,
            "margin": null,
            "display": null,
            "left": null
          }
        },
        "f070909e0f00485b9c7b419a7e01b513": {
          "model_module": "@jupyter-widgets/controls",
          "model_name": "DescriptionStyleModel",
          "state": {
            "_view_name": "StyleView",
            "_model_name": "DescriptionStyleModel",
            "description_width": "",
            "_view_module": "@jupyter-widgets/base",
            "_model_module_version": "1.5.0",
            "_view_count": null,
            "_view_module_version": "1.2.0",
            "_model_module": "@jupyter-widgets/controls"
          }
        },
        "aa201747ef3945519b5f0d9f72b3669a": {
          "model_module": "@jupyter-widgets/base",
          "model_name": "LayoutModel",
          "state": {
            "_view_name": "LayoutView",
            "grid_template_rows": null,
            "right": null,
            "justify_content": null,
            "_view_module": "@jupyter-widgets/base",
            "overflow": null,
            "_model_module_version": "1.2.0",
            "_view_count": null,
            "flex_flow": null,
            "width": null,
            "min_width": null,
            "border": null,
            "align_items": null,
            "bottom": null,
            "_model_module": "@jupyter-widgets/base",
            "top": null,
            "grid_column": null,
            "overflow_y": null,
            "overflow_x": null,
            "grid_auto_flow": null,
            "grid_area": null,
            "grid_template_columns": null,
            "flex": null,
            "_model_name": "LayoutModel",
            "justify_items": null,
            "grid_row": null,
            "max_height": null,
            "align_content": null,
            "visibility": null,
            "align_self": null,
            "height": null,
            "min_height": null,
            "padding": null,
            "grid_auto_rows": null,
            "grid_gap": null,
            "max_width": null,
            "order": null,
            "_view_module_version": "1.2.0",
            "grid_template_areas": null,
            "object_position": null,
            "object_fit": null,
            "grid_auto_columns": null,
            "margin": null,
            "display": null,
            "left": null
          }
        },
        "d166d126b0384d36bc458ef02daf8d92": {
          "model_module": "@jupyter-widgets/controls",
          "model_name": "HBoxModel",
          "state": {
            "_view_name": "HBoxView",
            "_dom_classes": [],
            "_model_name": "HBoxModel",
            "_view_module": "@jupyter-widgets/controls",
            "_model_module_version": "1.5.0",
            "_view_count": null,
            "_view_module_version": "1.5.0",
            "box_style": "",
            "layout": "IPY_MODEL_9ca0c7d4d9a24829b34713e7a329ba42",
            "_model_module": "@jupyter-widgets/controls",
            "children": [
              "IPY_MODEL_5c3a421a613c4507943b8e92abac645e",
              "IPY_MODEL_055d081939c64d42a423028f5f637eee"
            ]
          }
        },
        "9ca0c7d4d9a24829b34713e7a329ba42": {
          "model_module": "@jupyter-widgets/base",
          "model_name": "LayoutModel",
          "state": {
            "_view_name": "LayoutView",
            "grid_template_rows": null,
            "right": null,
            "justify_content": null,
            "_view_module": "@jupyter-widgets/base",
            "overflow": null,
            "_model_module_version": "1.2.0",
            "_view_count": null,
            "flex_flow": null,
            "width": null,
            "min_width": null,
            "border": null,
            "align_items": null,
            "bottom": null,
            "_model_module": "@jupyter-widgets/base",
            "top": null,
            "grid_column": null,
            "overflow_y": null,
            "overflow_x": null,
            "grid_auto_flow": null,
            "grid_area": null,
            "grid_template_columns": null,
            "flex": null,
            "_model_name": "LayoutModel",
            "justify_items": null,
            "grid_row": null,
            "max_height": null,
            "align_content": null,
            "visibility": null,
            "align_self": null,
            "height": null,
            "min_height": null,
            "padding": null,
            "grid_auto_rows": null,
            "grid_gap": null,
            "max_width": null,
            "order": null,
            "_view_module_version": "1.2.0",
            "grid_template_areas": null,
            "object_position": null,
            "object_fit": null,
            "grid_auto_columns": null,
            "margin": null,
            "display": null,
            "left": null
          }
        },
        "5c3a421a613c4507943b8e92abac645e": {
          "model_module": "@jupyter-widgets/controls",
          "model_name": "FloatProgressModel",
          "state": {
            "_view_name": "ProgressView",
            "style": "IPY_MODEL_e2e9a13f76054dbaab903f8299287299",
            "_dom_classes": [],
            "description": "Downloading: 100%",
            "_model_name": "FloatProgressModel",
            "bar_style": "success",
            "max": 4309802,
            "_view_module": "@jupyter-widgets/controls",
            "_model_module_version": "1.5.0",
            "value": 4309802,
            "_view_count": null,
            "_view_module_version": "1.5.0",
            "orientation": "horizontal",
            "min": 0,
            "description_tooltip": null,
            "_model_module": "@jupyter-widgets/controls",
            "layout": "IPY_MODEL_583d9429c0294e448f1f941bb90c9411"
          }
        },
        "055d081939c64d42a423028f5f637eee": {
          "model_module": "@jupyter-widgets/controls",
          "model_name": "HTMLModel",
          "state": {
            "_view_name": "HTMLView",
            "style": "IPY_MODEL_13bf1d993f2f480ebb3701d1d52fb0b6",
            "_dom_classes": [],
            "description": "",
            "_model_name": "HTMLModel",
            "placeholder": "​",
            "_view_module": "@jupyter-widgets/controls",
            "_model_module_version": "1.5.0",
            "value": " 4.31M/4.31M [00:00&lt;00:00, 15.6MB/s]",
            "_view_count": null,
            "_view_module_version": "1.5.0",
            "description_tooltip": null,
            "_model_module": "@jupyter-widgets/controls",
            "layout": "IPY_MODEL_efe5a7af41d3494dab956413abd846fb"
          }
        },
        "e2e9a13f76054dbaab903f8299287299": {
          "model_module": "@jupyter-widgets/controls",
          "model_name": "ProgressStyleModel",
          "state": {
            "_view_name": "StyleView",
            "_model_name": "ProgressStyleModel",
            "description_width": "initial",
            "_view_module": "@jupyter-widgets/base",
            "_model_module_version": "1.5.0",
            "_view_count": null,
            "_view_module_version": "1.2.0",
            "bar_color": null,
            "_model_module": "@jupyter-widgets/controls"
          }
        },
        "583d9429c0294e448f1f941bb90c9411": {
          "model_module": "@jupyter-widgets/base",
          "model_name": "LayoutModel",
          "state": {
            "_view_name": "LayoutView",
            "grid_template_rows": null,
            "right": null,
            "justify_content": null,
            "_view_module": "@jupyter-widgets/base",
            "overflow": null,
            "_model_module_version": "1.2.0",
            "_view_count": null,
            "flex_flow": null,
            "width": null,
            "min_width": null,
            "border": null,
            "align_items": null,
            "bottom": null,
            "_model_module": "@jupyter-widgets/base",
            "top": null,
            "grid_column": null,
            "overflow_y": null,
            "overflow_x": null,
            "grid_auto_flow": null,
            "grid_area": null,
            "grid_template_columns": null,
            "flex": null,
            "_model_name": "LayoutModel",
            "justify_items": null,
            "grid_row": null,
            "max_height": null,
            "align_content": null,
            "visibility": null,
            "align_self": null,
            "height": null,
            "min_height": null,
            "padding": null,
            "grid_auto_rows": null,
            "grid_gap": null,
            "max_width": null,
            "order": null,
            "_view_module_version": "1.2.0",
            "grid_template_areas": null,
            "object_position": null,
            "object_fit": null,
            "grid_auto_columns": null,
            "margin": null,
            "display": null,
            "left": null
          }
        },
        "13bf1d993f2f480ebb3701d1d52fb0b6": {
          "model_module": "@jupyter-widgets/controls",
          "model_name": "DescriptionStyleModel",
          "state": {
            "_view_name": "StyleView",
            "_model_name": "DescriptionStyleModel",
            "description_width": "",
            "_view_module": "@jupyter-widgets/base",
            "_model_module_version": "1.5.0",
            "_view_count": null,
            "_view_module_version": "1.2.0",
            "_model_module": "@jupyter-widgets/controls"
          }
        },
        "efe5a7af41d3494dab956413abd846fb": {
          "model_module": "@jupyter-widgets/base",
          "model_name": "LayoutModel",
          "state": {
            "_view_name": "LayoutView",
            "grid_template_rows": null,
            "right": null,
            "justify_content": null,
            "_view_module": "@jupyter-widgets/base",
            "overflow": null,
            "_model_module_version": "1.2.0",
            "_view_count": null,
            "flex_flow": null,
            "width": null,
            "min_width": null,
            "border": null,
            "align_items": null,
            "bottom": null,
            "_model_module": "@jupyter-widgets/base",
            "top": null,
            "grid_column": null,
            "overflow_y": null,
            "overflow_x": null,
            "grid_auto_flow": null,
            "grid_area": null,
            "grid_template_columns": null,
            "flex": null,
            "_model_name": "LayoutModel",
            "justify_items": null,
            "grid_row": null,
            "max_height": null,
            "align_content": null,
            "visibility": null,
            "align_self": null,
            "height": null,
            "min_height": null,
            "padding": null,
            "grid_auto_rows": null,
            "grid_gap": null,
            "max_width": null,
            "order": null,
            "_view_module_version": "1.2.0",
            "grid_template_areas": null,
            "object_position": null,
            "object_fit": null,
            "grid_auto_columns": null,
            "margin": null,
            "display": null,
            "left": null
          }
        },
        "75526fec624149dfbeded5e8d0bf3c83": {
          "model_module": "@jupyter-widgets/controls",
          "model_name": "HBoxModel",
          "state": {
            "_view_name": "HBoxView",
            "_dom_classes": [],
            "_model_name": "HBoxModel",
            "_view_module": "@jupyter-widgets/controls",
            "_model_module_version": "1.5.0",
            "_view_count": null,
            "_view_module_version": "1.5.0",
            "box_style": "",
            "layout": "IPY_MODEL_df219c36e85a4a279503b53422ef35c0",
            "_model_module": "@jupyter-widgets/controls",
            "children": [
              "IPY_MODEL_6c799b58279c4ad0a599d772ae7ba708",
              "IPY_MODEL_b290f7392306418e8a8b64b11d5e029a"
            ]
          }
        },
        "df219c36e85a4a279503b53422ef35c0": {
          "model_module": "@jupyter-widgets/base",
          "model_name": "LayoutModel",
          "state": {
            "_view_name": "LayoutView",
            "grid_template_rows": null,
            "right": null,
            "justify_content": null,
            "_view_module": "@jupyter-widgets/base",
            "overflow": null,
            "_model_module_version": "1.2.0",
            "_view_count": null,
            "flex_flow": null,
            "width": null,
            "min_width": null,
            "border": null,
            "align_items": null,
            "bottom": null,
            "_model_module": "@jupyter-widgets/base",
            "top": null,
            "grid_column": null,
            "overflow_y": null,
            "overflow_x": null,
            "grid_auto_flow": null,
            "grid_area": null,
            "grid_template_columns": null,
            "flex": null,
            "_model_name": "LayoutModel",
            "justify_items": null,
            "grid_row": null,
            "max_height": null,
            "align_content": null,
            "visibility": null,
            "align_self": null,
            "height": null,
            "min_height": null,
            "padding": null,
            "grid_auto_rows": null,
            "grid_gap": null,
            "max_width": null,
            "order": null,
            "_view_module_version": "1.2.0",
            "grid_template_areas": null,
            "object_position": null,
            "object_fit": null,
            "grid_auto_columns": null,
            "margin": null,
            "display": null,
            "left": null
          }
        },
        "6c799b58279c4ad0a599d772ae7ba708": {
          "model_module": "@jupyter-widgets/controls",
          "model_name": "FloatProgressModel",
          "state": {
            "_view_name": "ProgressView",
            "style": "IPY_MODEL_4be0190198c34bfca775c33d932e6c94",
            "_dom_classes": [],
            "description": "Downloading: 100%",
            "_model_name": "FloatProgressModel",
            "bar_style": "success",
            "max": 99,
            "_view_module": "@jupyter-widgets/controls",
            "_model_module_version": "1.5.0",
            "value": 99,
            "_view_count": null,
            "_view_module_version": "1.5.0",
            "orientation": "horizontal",
            "min": 0,
            "description_tooltip": null,
            "_model_module": "@jupyter-widgets/controls",
            "layout": "IPY_MODEL_c694dc788b3443028f414bd4eda34799"
          }
        },
        "b290f7392306418e8a8b64b11d5e029a": {
          "model_module": "@jupyter-widgets/controls",
          "model_name": "HTMLModel",
          "state": {
            "_view_name": "HTMLView",
            "style": "IPY_MODEL_02e7dc3f921d431b8003b781c1178820",
            "_dom_classes": [],
            "description": "",
            "_model_name": "HTMLModel",
            "placeholder": "​",
            "_view_module": "@jupyter-widgets/controls",
            "_model_module_version": "1.5.0",
            "value": " 99.0/99.0 [00:00&lt;00:00, 1.04kB/s]",
            "_view_count": null,
            "_view_module_version": "1.5.0",
            "description_tooltip": null,
            "_model_module": "@jupyter-widgets/controls",
            "layout": "IPY_MODEL_c8c0227045de4267ab827225ffac47d4"
          }
        },
        "4be0190198c34bfca775c33d932e6c94": {
          "model_module": "@jupyter-widgets/controls",
          "model_name": "ProgressStyleModel",
          "state": {
            "_view_name": "StyleView",
            "_model_name": "ProgressStyleModel",
            "description_width": "initial",
            "_view_module": "@jupyter-widgets/base",
            "_model_module_version": "1.5.0",
            "_view_count": null,
            "_view_module_version": "1.2.0",
            "bar_color": null,
            "_model_module": "@jupyter-widgets/controls"
          }
        },
        "c694dc788b3443028f414bd4eda34799": {
          "model_module": "@jupyter-widgets/base",
          "model_name": "LayoutModel",
          "state": {
            "_view_name": "LayoutView",
            "grid_template_rows": null,
            "right": null,
            "justify_content": null,
            "_view_module": "@jupyter-widgets/base",
            "overflow": null,
            "_model_module_version": "1.2.0",
            "_view_count": null,
            "flex_flow": null,
            "width": null,
            "min_width": null,
            "border": null,
            "align_items": null,
            "bottom": null,
            "_model_module": "@jupyter-widgets/base",
            "top": null,
            "grid_column": null,
            "overflow_y": null,
            "overflow_x": null,
            "grid_auto_flow": null,
            "grid_area": null,
            "grid_template_columns": null,
            "flex": null,
            "_model_name": "LayoutModel",
            "justify_items": null,
            "grid_row": null,
            "max_height": null,
            "align_content": null,
            "visibility": null,
            "align_self": null,
            "height": null,
            "min_height": null,
            "padding": null,
            "grid_auto_rows": null,
            "grid_gap": null,
            "max_width": null,
            "order": null,
            "_view_module_version": "1.2.0",
            "grid_template_areas": null,
            "object_position": null,
            "object_fit": null,
            "grid_auto_columns": null,
            "margin": null,
            "display": null,
            "left": null
          }
        },
        "02e7dc3f921d431b8003b781c1178820": {
          "model_module": "@jupyter-widgets/controls",
          "model_name": "DescriptionStyleModel",
          "state": {
            "_view_name": "StyleView",
            "_model_name": "DescriptionStyleModel",
            "description_width": "",
            "_view_module": "@jupyter-widgets/base",
            "_model_module_version": "1.5.0",
            "_view_count": null,
            "_view_module_version": "1.2.0",
            "_model_module": "@jupyter-widgets/controls"
          }
        },
        "c8c0227045de4267ab827225ffac47d4": {
          "model_module": "@jupyter-widgets/base",
          "model_name": "LayoutModel",
          "state": {
            "_view_name": "LayoutView",
            "grid_template_rows": null,
            "right": null,
            "justify_content": null,
            "_view_module": "@jupyter-widgets/base",
            "overflow": null,
            "_model_module_version": "1.2.0",
            "_view_count": null,
            "flex_flow": null,
            "width": null,
            "min_width": null,
            "border": null,
            "align_items": null,
            "bottom": null,
            "_model_module": "@jupyter-widgets/base",
            "top": null,
            "grid_column": null,
            "overflow_y": null,
            "overflow_x": null,
            "grid_auto_flow": null,
            "grid_area": null,
            "grid_template_columns": null,
            "flex": null,
            "_model_name": "LayoutModel",
            "justify_items": null,
            "grid_row": null,
            "max_height": null,
            "align_content": null,
            "visibility": null,
            "align_self": null,
            "height": null,
            "min_height": null,
            "padding": null,
            "grid_auto_rows": null,
            "grid_gap": null,
            "max_width": null,
            "order": null,
            "_view_module_version": "1.2.0",
            "grid_template_areas": null,
            "object_position": null,
            "object_fit": null,
            "grid_auto_columns": null,
            "margin": null,
            "display": null,
            "left": null
          }
        },
        "5cc87941ac994ae9bdf1c79da548abe8": {
          "model_module": "@jupyter-widgets/controls",
          "model_name": "HBoxModel",
          "state": {
            "_view_name": "HBoxView",
            "_dom_classes": [],
            "_model_name": "HBoxModel",
            "_view_module": "@jupyter-widgets/controls",
            "_model_module_version": "1.5.0",
            "_view_count": null,
            "_view_module_version": "1.5.0",
            "box_style": "",
            "layout": "IPY_MODEL_47a3f8bf06724301b184bc4318b1cfc4",
            "_model_module": "@jupyter-widgets/controls",
            "children": [
              "IPY_MODEL_186390bda23a45db8399626a6090cef5",
              "IPY_MODEL_de71a4bbbcc74ae29cdd05f0c267eb8a"
            ]
          }
        },
        "47a3f8bf06724301b184bc4318b1cfc4": {
          "model_module": "@jupyter-widgets/base",
          "model_name": "LayoutModel",
          "state": {
            "_view_name": "LayoutView",
            "grid_template_rows": null,
            "right": null,
            "justify_content": null,
            "_view_module": "@jupyter-widgets/base",
            "overflow": null,
            "_model_module_version": "1.2.0",
            "_view_count": null,
            "flex_flow": null,
            "width": null,
            "min_width": null,
            "border": null,
            "align_items": null,
            "bottom": null,
            "_model_module": "@jupyter-widgets/base",
            "top": null,
            "grid_column": null,
            "overflow_y": null,
            "overflow_x": null,
            "grid_auto_flow": null,
            "grid_area": null,
            "grid_template_columns": null,
            "flex": null,
            "_model_name": "LayoutModel",
            "justify_items": null,
            "grid_row": null,
            "max_height": null,
            "align_content": null,
            "visibility": null,
            "align_self": null,
            "height": null,
            "min_height": null,
            "padding": null,
            "grid_auto_rows": null,
            "grid_gap": null,
            "max_width": null,
            "order": null,
            "_view_module_version": "1.2.0",
            "grid_template_areas": null,
            "object_position": null,
            "object_fit": null,
            "grid_auto_columns": null,
            "margin": null,
            "display": null,
            "left": null
          }
        },
        "186390bda23a45db8399626a6090cef5": {
          "model_module": "@jupyter-widgets/controls",
          "model_name": "FloatProgressModel",
          "state": {
            "_view_name": "ProgressView",
            "style": "IPY_MODEL_49566ed1ff374f24ab27dedec3efc612",
            "_dom_classes": [],
            "description": "Downloading: 100%",
            "_model_name": "FloatProgressModel",
            "bar_style": "success",
            "max": 82,
            "_view_module": "@jupyter-widgets/controls",
            "_model_module_version": "1.5.0",
            "value": 82,
            "_view_count": null,
            "_view_module_version": "1.5.0",
            "orientation": "horizontal",
            "min": 0,
            "description_tooltip": null,
            "_model_module": "@jupyter-widgets/controls",
            "layout": "IPY_MODEL_bea5d58321e14fa29b5411ce14921d08"
          }
        },
        "de71a4bbbcc74ae29cdd05f0c267eb8a": {
          "model_module": "@jupyter-widgets/controls",
          "model_name": "HTMLModel",
          "state": {
            "_view_name": "HTMLView",
            "style": "IPY_MODEL_462de526baf04309b4b37e35b83e9159",
            "_dom_classes": [],
            "description": "",
            "_model_name": "HTMLModel",
            "placeholder": "​",
            "_view_module": "@jupyter-widgets/controls",
            "_model_module_version": "1.5.0",
            "value": " 82.0/82.0 [11:30&lt;00:00, 8.42s/B]",
            "_view_count": null,
            "_view_module_version": "1.5.0",
            "description_tooltip": null,
            "_model_module": "@jupyter-widgets/controls",
            "layout": "IPY_MODEL_58ded4eccbf8457b8f74390bee2cc3e4"
          }
        },
        "49566ed1ff374f24ab27dedec3efc612": {
          "model_module": "@jupyter-widgets/controls",
          "model_name": "ProgressStyleModel",
          "state": {
            "_view_name": "StyleView",
            "_model_name": "ProgressStyleModel",
            "description_width": "initial",
            "_view_module": "@jupyter-widgets/base",
            "_model_module_version": "1.5.0",
            "_view_count": null,
            "_view_module_version": "1.2.0",
            "bar_color": null,
            "_model_module": "@jupyter-widgets/controls"
          }
        },
        "bea5d58321e14fa29b5411ce14921d08": {
          "model_module": "@jupyter-widgets/base",
          "model_name": "LayoutModel",
          "state": {
            "_view_name": "LayoutView",
            "grid_template_rows": null,
            "right": null,
            "justify_content": null,
            "_view_module": "@jupyter-widgets/base",
            "overflow": null,
            "_model_module_version": "1.2.0",
            "_view_count": null,
            "flex_flow": null,
            "width": null,
            "min_width": null,
            "border": null,
            "align_items": null,
            "bottom": null,
            "_model_module": "@jupyter-widgets/base",
            "top": null,
            "grid_column": null,
            "overflow_y": null,
            "overflow_x": null,
            "grid_auto_flow": null,
            "grid_area": null,
            "grid_template_columns": null,
            "flex": null,
            "_model_name": "LayoutModel",
            "justify_items": null,
            "grid_row": null,
            "max_height": null,
            "align_content": null,
            "visibility": null,
            "align_self": null,
            "height": null,
            "min_height": null,
            "padding": null,
            "grid_auto_rows": null,
            "grid_gap": null,
            "max_width": null,
            "order": null,
            "_view_module_version": "1.2.0",
            "grid_template_areas": null,
            "object_position": null,
            "object_fit": null,
            "grid_auto_columns": null,
            "margin": null,
            "display": null,
            "left": null
          }
        },
        "462de526baf04309b4b37e35b83e9159": {
          "model_module": "@jupyter-widgets/controls",
          "model_name": "DescriptionStyleModel",
          "state": {
            "_view_name": "StyleView",
            "_model_name": "DescriptionStyleModel",
            "description_width": "",
            "_view_module": "@jupyter-widgets/base",
            "_model_module_version": "1.5.0",
            "_view_count": null,
            "_view_module_version": "1.2.0",
            "_model_module": "@jupyter-widgets/controls"
          }
        },
        "58ded4eccbf8457b8f74390bee2cc3e4": {
          "model_module": "@jupyter-widgets/base",
          "model_name": "LayoutModel",
          "state": {
            "_view_name": "LayoutView",
            "grid_template_rows": null,
            "right": null,
            "justify_content": null,
            "_view_module": "@jupyter-widgets/base",
            "overflow": null,
            "_model_module_version": "1.2.0",
            "_view_count": null,
            "flex_flow": null,
            "width": null,
            "min_width": null,
            "border": null,
            "align_items": null,
            "bottom": null,
            "_model_module": "@jupyter-widgets/base",
            "top": null,
            "grid_column": null,
            "overflow_y": null,
            "overflow_x": null,
            "grid_auto_flow": null,
            "grid_area": null,
            "grid_template_columns": null,
            "flex": null,
            "_model_name": "LayoutModel",
            "justify_items": null,
            "grid_row": null,
            "max_height": null,
            "align_content": null,
            "visibility": null,
            "align_self": null,
            "height": null,
            "min_height": null,
            "padding": null,
            "grid_auto_rows": null,
            "grid_gap": null,
            "max_width": null,
            "order": null,
            "_view_module_version": "1.2.0",
            "grid_template_areas": null,
            "object_position": null,
            "object_fit": null,
            "grid_auto_columns": null,
            "margin": null,
            "display": null,
            "left": null
          }
        }
      }
    }
  },
  "cells": [
    {
      "cell_type": "markdown",
      "metadata": {
        "id": "5kurQ9DZiXIO"
      },
      "source": [
        "[![Open In Colab](https://colab.research.google.com/assets/colab-badge.svg)](https://colab.research.google.com/drive/1b-sg2SfnlSLUReyNDVnqtfpYFI_jf3i0?usp=sharing)"
      ]
    },
    {
      "cell_type": "markdown",
      "metadata": {
        "id": "S8ie7JOiWOOs"
      },
      "source": [
        "# Техническая часть"
      ]
    },
    {
      "cell_type": "code",
      "metadata": {
        "id": "c0RDEINkTTht"
      },
      "source": [
        "!wget -q https://www.dropbox.com/s/43l702z5a5i2w8j/gazeta_train.txt\n",
        "!wget -q https://www.dropbox.com/s/k2egt3sug0hb185/gazeta_val.txt\n",
        "!wget -q https://www.dropbox.com/s/3gki5n5djs9w0v6/gazeta_test.txt"
      ],
      "execution_count": 1,
      "outputs": []
    },
    {
      "cell_type": "code",
      "metadata": {
        "id": "2LXXXVBakdim",
        "colab": {
          "base_uri": "https://localhost:8080/"
        },
        "outputId": "d1e311ae-9541-4156-d40b-d356eaf6737f"
      },
      "source": [
        "# Extractive\n",
        "!pip install -q sentence-transformers\n",
        "!pip install -q razdel\n",
        "\n",
        "# Abstractive\n",
        "!pip install -q transformers\n",
        "!pip install -q sentencepiece\n",
        "!pip install -q pytorch_lightning\n",
        "!pip install -q rouge"
      ],
      "execution_count": 2,
      "outputs": [
        {
          "output_type": "stream",
          "text": [
            "\u001b[K     |████████████████████████████████| 71kB 6.5MB/s \n",
            "\u001b[K     |████████████████████████████████| 1.3MB 20.1MB/s \n",
            "\u001b[K     |████████████████████████████████| 2.9MB 35.5MB/s \n",
            "\u001b[K     |████████████████████████████████| 1.1MB 55.0MB/s \n",
            "\u001b[K     |████████████████████████████████| 890kB 40.7MB/s \n",
            "\u001b[?25h  Building wheel for sentence-transformers (setup.py) ... \u001b[?25l\u001b[?25hdone\n",
            "  Building wheel for sacremoses (setup.py) ... \u001b[?25l\u001b[?25hdone\n",
            "\u001b[K     |████████████████████████████████| 563kB 14.1MB/s \n",
            "\u001b[K     |████████████████████████████████| 276kB 55.5MB/s \n",
            "\u001b[K     |████████████████████████████████| 829kB 49.6MB/s \n",
            "\u001b[K     |████████████████████████████████| 92kB 13.0MB/s \n",
            "\u001b[?25h  Building wheel for PyYAML (setup.py) ... \u001b[?25l\u001b[?25hdone\n",
            "  Building wheel for future (setup.py) ... \u001b[?25l\u001b[?25hdone\n"
          ],
          "name": "stdout"
        }
      ]
    },
    {
      "cell_type": "code",
      "metadata": {
        "id": "oCHvQ4j_kGaP",
        "colab": {
          "base_uri": "https://localhost:8080/"
        },
        "outputId": "122732f2-6f81-49bb-ea35-9f8cc4fc6ecc"
      },
      "source": [
        "!git clone https://github.com/DanilDmitriev1999/extractive_summarization"
      ],
      "execution_count": 3,
      "outputs": [
        {
          "output_type": "stream",
          "text": [
            "Cloning into 'extractive_summarization'...\n",
            "remote: Enumerating objects: 118, done.\u001b[K\n",
            "remote: Counting objects: 100% (118/118), done.\u001b[K\n",
            "remote: Compressing objects: 100% (87/87), done.\u001b[K\n",
            "remote: Total 118 (delta 55), reused 81 (delta 28), pack-reused 0\u001b[K\n",
            "Receiving objects: 100% (118/118), 469.96 KiB | 26.11 MiB/s, done.\n",
            "Resolving deltas: 100% (55/55), done.\n"
          ],
          "name": "stdout"
        }
      ]
    },
    {
      "cell_type": "code",
      "metadata": {
        "id": "vxwVhlSrkbq5"
      },
      "source": [
        "from itertools import combinations\n",
        "import networkx as nx\n",
        "import json\n",
        "import random\n",
        "from tqdm import tqdm\n",
        "\n",
        "from sentence_transformers import SentenceTransformer, util\n",
        "\n",
        "from scipy.sparse.csgraph import connected_components\n",
        "\n",
        "import numpy as np\n",
        "from scipy.linalg import norm\n",
        "\n",
        "from nltk.translate.bleu_score import corpus_bleu\n",
        "import nltk\n",
        "import razdel\n",
        "\n",
        "from pprint import pprint"
      ],
      "execution_count": 4,
      "outputs": []
    },
    {
      "cell_type": "markdown",
      "metadata": {
        "id": "5Z3Q5Msb-DjL"
      },
      "source": [
        "Весь код лежит в [моём](https://github.com/DanilDmitriev1999/extractive_summarization) репозитории"
      ]
    },
    {
      "cell_type": "code",
      "metadata": {
        "id": "EZbjHkTGkFWq"
      },
      "source": [
        "from extractive_summarization.utils import *\n",
        "from extractive_summarization.text_rank import *\n",
        "from extractive_summarization.lex_rank import *"
      ],
      "execution_count": 5,
      "outputs": []
    },
    {
      "cell_type": "markdown",
      "metadata": {
        "id": "WF2PmtfRghVi"
      },
      "source": [
        "# Введение"
      ]
    },
    {
      "cell_type": "markdown",
      "metadata": {
        "id": "PdUcUWaygj7b"
      },
      "source": [
        "**Text Summarization** - это процесс автоматического создания сжатой версии данного текста, предоставляющей полезную информацию пользователю."
      ]
    },
    {
      "cell_type": "markdown",
      "metadata": {
        "id": "QWSK7hWthEgt"
      },
      "source": [
        "Есть 2 вида суммаризации текста:\n",
        "1.  Abstractive summarization - генерируем маленький текст, который описывает \"своими словами\" исходный текст.\n",
        "2.  Extractive summarization - выбираем из исходного текста предложения, которые лучше всего передают смысл текста. "
      ]
    },
    {
      "cell_type": "markdown",
      "metadata": {
        "id": "aA2sv-JPhrW8"
      },
      "source": [
        "Чисто extractive summarization часто дают лучшие результаты по сравнению с автоматическими Abstractive summarization. Это связано с тем, что проблемы абстрактивного обобщения, такие как семантическое представление, вывод и генерация естественного языка, относительно сложнее по сравнению с подходом, основанным на данных, таким как извлечение предложений. На самом деле, по-настоящему Abstractive summarization еще не достигло сегодня зрелой стадии. "
      ]
    },
    {
      "cell_type": "markdown",
      "metadata": {
        "id": "CDeP5RvCiCOW"
      },
      "source": [
        "Но сегодня с каждым годом Abstractive summarization становится лучше и лучше, например такие модели, как [T5](https://arxiv.org/pdf/1910.10683.pdf), [Pegasus](https://ai.googleblog.com/2020/06/pegasus-state-of-art-model-for.html), [BART](https://arxiv.org/abs/1910.13461) показывают уже хорошие резулультаты, после fine-tuning на своих данных."
      ]
    },
    {
      "cell_type": "markdown",
      "metadata": {
        "id": "3-IpT1YzVWYR"
      },
      "source": [
        "## Метрики"
      ]
    },
    {
      "cell_type": "markdown",
      "metadata": {
        "id": "NVY3Lu2yVYSw"
      },
      "source": [
        "**BLUE** - метрика которая принимает значение [0, 1]. BLUE, это что-то вроде точности угадывания n-gram из правильного summary."
      ]
    },
    {
      "cell_type": "markdown",
      "metadata": {
        "id": "7AISN6QbWmCS"
      },
      "source": [
        "**ROUGE** (Recall-Oriented Understudy for Gisting Evaluation). Есть несколько типов ROUGE:\n",
        "1. *ROUGE-1*: сравнивается каждое слово\n",
        "2. *ROUGE-2*: сравниваются би-граммы\n",
        "3. *ROUGE-L*: статистика на основе самой длинной общей подпоследовательности (LCS). Задача самой длинной общей подпоследовательности естественным образом учитывает сходство структуры на уровне предложения и автоматически определяет самую длинную совместную последовательность n-граммов."
      ]
    },
    {
      "cell_type": "markdown",
      "metadata": {
        "id": "Vr_28kTxMvcM"
      },
      "source": [
        "## План ноутбука"
      ]
    },
    {
      "cell_type": "markdown",
      "metadata": {
        "id": "5huXMZLWMyni"
      },
      "source": [
        "\n",
        "\n",
        "1.   Загрузка данных\n",
        "2.   TextRank\n",
        "3.   LexRank\n",
        "4.   zero-shot mT5 \n",
        "5.   fine-tuning mT5\n",
        "\n"
      ]
    },
    {
      "cell_type": "markdown",
      "metadata": {
        "id": "Kj6vCMf4ijc1"
      },
      "source": [
        "# Данные"
      ]
    },
    {
      "cell_type": "code",
      "metadata": {
        "id": "Cu5XpS_9lA_U",
        "colab": {
          "base_uri": "https://localhost:8080/"
        },
        "outputId": "aab16c20-cf18-489a-ab04-c3c84bdfc0ea"
      },
      "source": [
        "train_records = read_gazeta_records(\"gazeta_train.txt\", 52400)\n",
        "val_records = read_gazeta_records(\"gazeta_val.txt\", 5265)\n",
        "test_records = read_gazeta_records(\"gazeta_test.txt\", 5770)"
      ],
      "execution_count": 6,
      "outputs": [
        {
          "output_type": "stream",
          "text": [
            "100%|██████████| 52400/52400 [00:03<00:00, 17378.58it/s]\n",
            "100%|██████████| 5265/5265 [00:00<00:00, 16453.35it/s]\n",
            "100%|██████████| 5770/5770 [00:00<00:00, 19387.90it/s]\n"
          ],
          "name": "stderr"
        }
      ]
    },
    {
      "cell_type": "code",
      "metadata": {
        "id": "wDxJ62M_E9lb",
        "colab": {
          "base_uri": "https://localhost:8080/"
        },
        "outputId": "60afdb5c-17f5-4ff3-b6ae-339c3b1e8e03"
      },
      "source": [
        "pprint(train_records[219], width=130)"
      ],
      "execution_count": null,
      "outputs": [
        {
          "output_type": "stream",
          "text": [
            "{'date': '2018-08-22 08:01:56',\n",
            " 'summary': 'Перед контрольными прокатами, которые пройдут 9 сентября в Москве, российские фигуристы примут участие в сборе в '\n",
            "            'Новогорске. Любители этого вида спорта ждут не только возвращения спортсменов на лед, но и встречи серебряного '\n",
            "            'призера Олимпийских игр 2018 года Евгении Медведевой с бывшим тренером Этери Тутберидзе.',\n",
            " 'text': 'До старта нового сезона в фигурном катании остается все меньше времени. Первый этап Гран-при пройдет в американском '\n",
            "         'городе Эверетт с 19 по 21 октября. Перед этим представители сборной России примут участие в контрольных прокатах, '\n",
            "         'которые пройдут 9 сентября в Москве на арене «Мегаспорт». Еще раньше спортсмены примут участие в сборе в Новогорске. '\n",
            "         'Генеральный директор Федерации фигурного катания на коньках России (ФФККР) Александр Коган заявил, что в Новогорск '\n",
            "         'прибудет двукратный серебряный призер Олимпийских игр 2018 года в Пхенчхане Евгения Медведева. «Мы постоянно на связи. '\n",
            "         'Сейчас Евгения готовится к контрольным прокатам. Перед ними, как и все спортсмены нашей команды, она примет участие в '\n",
            "         'основном сборе в Новогорске», — сообщил Коган. Поклонники фигурного катания, а также любители скандалов и интриг в '\n",
            "         'мире спорта с нетерпением ждут предстоящую встречу Медведевой с бывшим тренером Этери Тутберидзе. Нельзя исключать, '\n",
            "         'что для кого-то эта тема важнее, чем новые программы фигуристов. Спортсменка ушла от специалиста в мае 2018 года. '\n",
            "         'Расставание прошло не слишком гладко. Сообщалось, что между учителем и ученицей были сложные отношения после '\n",
            "         'Олимпийских игр, когда Евгения уступила золото еще одной представительнице группу Тутберидзе Алине Загитовой. Тренер '\n",
            "         'жестко прокомментировала уход Медведевой из группы. «Конечно, мне бы хотелось, чтобы первый раз я ее увидела не на '\n",
            "         'Гран-при, а все-таки у нее хватило совести прийти и подарить цветы, я не знаю, сказать «спасибо». Это первое. А '\n",
            "         'второе, к сожалению, в общем-то это будет ситуация для меня уже не новая, я встречалась со своими спортсменами, '\n",
            "         'которые уходили, ну поэтому я себя морально, наверное, к этому приготовила», — сказала Тутберидзе в эфире Первого '\n",
            "         'канала. Возможно, тренер будет ждать свое заслуженное «спасибо» и букет цветов как раз на сборах, а может на '\n",
            "         'контрольных прокатах. Сейчас Медведева готовится к предстоящему сезону с канадским специалистом Брайаном Орсером и '\n",
            "         'хореографом Дэвидом Уилсоном. Мама Медведевой Жанна Девятова сообщила, что специалисты тоже прибудут в Москву на '\n",
            "         'контрольные прокаты. «Орсер и Уилсон прилетят в Россию непосредственно к началу мероприятия. Женя появится в столице '\n",
            "         'на сутки раньше и планирует провести первую тренировку в Новогорске 6 сентября», — сказала Девятова. Однако Орсер не '\n",
            "         'сможет посетить чемпионат России, который пройдет в Саранске. Вместо этого канадец отправится на первенство Японии, '\n",
            "         'где будет выступать другой его подопечный Юдзуру Ханю. «Работать с Женей в Саранске будет помощница Орсера Трейси '\n",
            "         'Уилсон, а сам Брайан полетит в Японию. Так совпало, что в одни сроки с чемпионатом России там будет проходить '\n",
            "         'национальное первенство, на котором будет выступать Юдзуру Ханю», — добавила мама спортсменки. Новые программы '\n",
            "         'Медведевой остаются в тайне. Сама Женя в инстаграме сообщила лишь названия композиций, под которые она будет '\n",
            "         'выступать. Короткая программа будет представлена под джазовую музыку Orange Colored Sky американской исполнительницы '\n",
            "         'Натали Коул. В произвольной программе Медведева будет выступать под композиции китайского виолончелиста Йо Йо Ма. '\n",
            "         'Первая часть будет исполняться под мелодии Mumuki, а вторая — под Libertango. Также фигуристка сменила свой имидж. '\n",
            "         'Женя выложила в инстаграм фото с новой прической. Сама спортсменка уточнила, что отстриженная челка была у нее в шесть '\n",
            "         'лет. Назад в 2005г.  Уточнение: я была с такой стрижкой в 6 лет Публикация от Evgenia Medvedevа (@jmedvedevaj) 18 Авг '\n",
            "         '2018 в 6:20 PDT Мнения поклонников разделились: кто-то высоко оценил новый образ спортсменки, а кого-то такие перемены '\n",
            "         'расстроили. Критики этим летом Медведева начиталась прилично. Сам уход от Тутберидзе вызвал немало гнева у любителей '\n",
            "         'фигурного катания. Но чем дальше, тем интереснее. Спортсменку стали упрекать за то, что она начала подписывать свои '\n",
            "         'посты на английском. Некоторые подписчики жаловались, что не понимает язык, а для кого-то записи на иностранном языке '\n",
            "         'ассоциировались с отсутствием патриотичности у спортсменки. Мол, сначала в Канаду уехала, а потом и по-русски '\n",
            "         'перестала говорить. Шквал негатива вынудил подписывать снимки на двух языках. Но, как говорится, осадок у любителей '\n",
            "         'русской письменности остался. «Женечка, а куда делись посты на русском?» — спросила одна из подписчиц. «Вы уже не '\n",
            "         'видите русского языка в моих постах? Однако», — ответила фигуристка, не скрывая своего негодования. Тема предательства '\n",
            "         'России раз за разом поднимается подписчиками Медведевой. «Зачем ты нас предала?» — написал пользователь инстаграма. '\n",
            "         '«Обожаю. Вот именно поэтому я знаю своих настоящих фанатов лично. И я им благодарна, что они всегда рядом. А не люди, '\n",
            "         'готовые переобуться в воздухе», — прокомментировала Медведева данный диалог со своим подписчиком в инстаграме. Другие '\n",
            "         'новости, материалы и статистику можно посмотреть на странице фигурного катания , а также в группах отдела спорта в '\n",
            "         'социальных сетях Facebook и «Вконтакте» .',\n",
            " 'title': 'Медведева едет к Тутберидзе: болельщики ждут скандала',\n",
            " 'url': 'https://www.gazeta.ru/sport/2018/08/22/a_11916739.shtml'}\n"
          ],
          "name": "stdout"
        }
      ]
    },
    {
      "cell_type": "markdown",
      "metadata": {
        "id": "ERSVbITQLy4t"
      },
      "source": [
        "# Extractive summarization "
      ]
    },
    {
      "cell_type": "markdown",
      "metadata": {
        "id": "IZ0g82Bwky1b"
      },
      "source": [
        "## TextRank"
      ]
    },
    {
      "cell_type": "markdown",
      "metadata": {
        "id": "EoW2KdnPYPDQ"
      },
      "source": [
        "### Теория"
      ]
    },
    {
      "cell_type": "markdown",
      "metadata": {
        "id": "VG1KHIgSYXEl"
      },
      "source": [
        "TextRank - это алгоритм, основанный на PageRank, который часто используется для извлечения ключевых слов и суммаризации текста. "
      ]
    },
    {
      "cell_type": "markdown",
      "metadata": {
        "id": "0SHvgVxcZc-r"
      },
      "source": [
        "PageRank (PR) - это алгоритм, используемый для расчета веса веб-страниц. Мы можем взять все веб-страницы в виде большого ориентированного графа. На этом графике узел является веб-страницей. Если веб-страница A имеет ссылку на веб-страницу B, она может быть представлена ​​в виде направленного ребра от A до B."
      ]
    },
    {
      "cell_type": "markdown",
      "metadata": {
        "id": "nZ50C2xMYRiv"
      },
      "source": [
        "### Пробуем на практике"
      ]
    },
    {
      "cell_type": "code",
      "metadata": {
        "id": "1Ra6NUbPkh76",
        "colab": {
          "base_uri": "https://localhost:8080/"
        },
        "outputId": "85a6a5b4-4231-4da0-e50f-898e7c334005"
      },
      "source": [
        "model_name = 'distilbert-multilingual-nli-stsb-quora-ranking'\n",
        "model = TextRank(model_name)"
      ],
      "execution_count": null,
      "outputs": [
        {
          "output_type": "stream",
          "text": [
            "100%|██████████| 501M/501M [00:22<00:00, 22.0MB/s]\n"
          ],
          "name": "stderr"
        }
      ]
    },
    {
      "cell_type": "code",
      "metadata": {
        "id": "nNFbhShH2-7c",
        "colab": {
          "base_uri": "https://localhost:8080/"
        },
        "outputId": "f26ca1eb-3c71-4a54-bac5-8cc5809fc1e2"
      },
      "source": [
        "model.get_summary(train_records[14])"
      ],
      "execution_count": null,
      "outputs": [
        {
          "output_type": "stream",
          "text": [
            "\n",
            "Count: 1\n",
            "Полный текст:\n",
            "('В пятницу, 27 мая, в столичном регионе давление повысится до 749 мм рт. ст. Как пояснили «Газете.Ru» в центре «Фобос» , из-за этого солнце сильнее '\n",
            " 'прогреет воздух: днем ожидается +22…+27°С (ночью +9…+14°С). Атмосфера станет неустойчивой, а это, в свою очередь, вызовет короткие дожди и грозы — '\n",
            " 'преимущественно днем. Из-за духоты, которая всегда возникает перед грозой, жара будет переноситься еще хуже, так что всем страдающим от '\n",
            " 'сердечно-сосудистых заболеваний или болезней органов дыхания стоит быть втройне осторожнее. Ветер ночью переменных направлений, слабый, днем '\n",
            " 'восточный, северо-восточный, 3–8 м/с, при грозе — порывистый. Последний уикенд весны поддержит погодный тренд: синоптическая ситуация в Москве '\n",
            " 'существенно не изменится. Оба дня переменная облачность, днем местами кратковременный дождь, не исключена гроза. Давление высокое — 751 мм рт. '\n",
            " 'ст., ветер в субботу южный, в воскресенье — северо-восточный, оба дня скорость одинаковая, 3–8 м/с. Температура воздуха ночью +9…+14°С, днем '\n",
            " '+22…+27°С. Охладить пыл и остудить голову советуем на фестивале мороженого, который пройдет с 12.00 в эти два дня в парке «Сокольники». 30 мая, '\n",
            " 'понедельник, не станет исключением в череде теплой, но неустойчивой погоды. В этот день ожидается переменная облачность, кратковременный дождь, '\n",
            " 'местами возможна гроза. Температура воздуха ночью +11…+16°С, днем +22…+27°С. Ветер восточный, 3–8 м/с. Атмосферный фон по-прежнему повышенный — '\n",
            " '749 мм рт. ст. Во вторник, 31 мая, Москва окажется на границе взаимодействия антициклона на северо-востоке и циклона на западе. Антициклон будет '\n",
            " 'отвечать за высокое — 750 мм рт. ст. — давление, а циклон благодаря «приспешникам» — облачным полям — за пасмурную погоду и ограниченный прогрев '\n",
            " 'воздуха. Местами кратковременный дождь. Температура воздуха ночью +10…+15°С, днем +15…+20°С, местами до +23°С. Ветер восточный, 5–10 м/с. В первый '\n",
            " 'день календарного лета в Московском регионе будет не по сезону прохладно. Причиной тому станут плотные облачные поля, которые не позволят воздуху '\n",
            " 'прогреваться, да и без коротких локальных дождей не обойдется. Ветер восточный, 5–10 м/с. Давление в среду, 1 июня, высокое, 752 мм рт. ст. '\n",
            " 'Температура воздуха ночью +7…+12°С, днем +13…+18°С. Впрочем, это не должно стать помехой семейному отдыху, особенно в День детей, совмещенный с '\n",
            " 'Днем родителей. Выберите с ребенком, куда сходить и чем заняться, или «выгуляйте» собственных маму с папой. В четверг, 2 июня, в облачных полях '\n",
            " 'над столицей начнут появляться прояснения, что незамедлительно скажется на температурном режиме. Повлияет, разумеется, исключительно в '\n",
            " 'положительном смысле. Температура воздуха начнет повышаться, а вероятность дождей заметно понизится, и, как осторожно предполагают синоптики, в '\n",
            " 'этот день осадков не будет вовсе. Температура воздуха ночью +6…+11°С, днем +15…+20°С. Ветер восточный, юго-восточный, 4–9 м/с. Атмосферный фон '\n",
            " 'повышенный — 751 мм рт. ст. В пятницу циклон с запада начнет усиливать свое влияния в столичном регионе. Вероятность небольших дождей днем 3 июня '\n",
            " 'увеличится, но при этом и температурный фон начнет повышаться. Облачно с прояснениями. Температура воздуха ночью +8…+13°С, днем +16…+21°С. Ветер '\n",
            " 'юго-восточный, 4–9 м/с. Давление резко ухнет вниз и остановится на отметке 742 мм рт. ст. Метеозависимых бедняг в вечер пятницы будет шатать не '\n",
            " 'хуже тех, кто только вылез из бара. В субботу, 4 июня, в столичный регион с юго-восточными ветрами (4–9 м/с) продолжится поступление теплых и '\n",
            " 'неустойчивых воздушных масс. Они станут причиной облачности и периодических дождей. Но нет худа без добра: благодаря тем же массам температурный '\n",
            " 'режим вернется в норму. Вот бы сказать то же самое о графике сна и бодрствования у школьников на летних каникулах! Но вернемся к климатической '\n",
            " 'норме. Температура воздуха ночью +8…+13°С, днем +18…+23°С. Давление продолжает стремительно падать и в этот день составит 736 мм рт. ст. В '\n",
            " 'воскресенье, 5 июня, атмосферное давление немного подрастет — до 739 мм рт. ст. Из-за этого в облачных полях появится больше прояснений, но без '\n",
            " 'коротких локальных дождей все же не обойдется. В перерывах между ними стоит все же выбраться на свежий воздух и попробовать одно из новых для себя '\n",
            " 'занятий: от йоги до катания на сигвеях. Температура воздуха ночью +9…+14°С, днем +18…+23°С. Ветер южный, 3–8 м/с.')\n",
            "------------------------------------------------------------------------------------------------------------------------------------------------------\n",
            "Исходное summary:\n",
            "('московская погода придет в себя, отставит истерику в виде аномальных ливней или резкого похолодания и вернется к климатической норме. последние '\n",
            " 'выходные весны будут вообще больше напоминать разгар июля. правда, после этого наступит краткий период «летней печальки»: немного похолодает и '\n",
            " 'пройдут кратковременные дожди.')\n",
            "------------------------------------------------------------------------------------------------------------------------------------------------------\n",
            "TextRank summary:\n",
            "('температура воздуха ночью +11…+16°с, днем +22…+27°с. ветер восточный, 3–8 м/с. атмосферный фон по-прежнему повышенный — 749 мм рт. ст. во вторник, '\n",
            " '31 мая, москва окажется на границе взаимодействия антициклона на северо-востоке и циклона на западе. температура воздуха начнет повышаться, а '\n",
            " 'вероятность дождей заметно понизится, и, как осторожно предполагают синоптики, в этот день осадков не будет вовсе. температура воздуха ночью '\n",
            " '+8…+13°с, днем +18…+23°с. давление продолжает стремительно падать и в этот день составит 736 мм рт. ст. в воскресенье, 5 июня, атмосферное '\n",
            " 'давление немного подрастет — до 739 мм рт. ст. из-за этого в облачных полях появится больше прояснений, но без коротких локальных дождей все же не '\n",
            " 'обойдется.')\n",
            "------------------------------------------------------------------------------------------------------------------------------------------------------\n",
            "BLEU:  0.18496624175550355\n"
          ],
          "name": "stdout"
        }
      ]
    },
    {
      "cell_type": "markdown",
      "metadata": {
        "id": "uywYKtIs77Ng"
      },
      "source": [
        "### Test TextRank"
      ]
    },
    {
      "cell_type": "code",
      "metadata": {
        "id": "EhYkcw8o_dE7",
        "colab": {
          "base_uri": "https://localhost:8080/",
          "height": 1000
        },
        "outputId": "72423b3d-fb60-47f4-c4ee-a8e202d4bbe2"
      },
      "source": [
        "model.get_summary(train_records[4321])"
      ],
      "execution_count": null,
      "outputs": [
        {
          "output_type": "stream",
          "text": [
            "\n",
            "Count: 1\n",
            "Полный текст:\n",
            "('Ситуацию в Белоруссии рассмотрят на заседании Совета ООН по правам человека. С таким предложением выступил Евросоюз. «Одним из главных приоритетов '\n",
            " 'ЕС в перспективе сессии Совета ООН по правам человека, которая состоится в июне, будет ситуация с правами человека в Белоруссии, которая '\n",
            " 'продолжает вызывать горячую обеспокоенность», – сказано в специальном постановлении Совета ЕС , принятом в связи с подготовкой регулярной сессии '\n",
            " 'Совета ООН. Документ был принят в понедельник в Брюсселе министрами иностранных дел стран ЕС. В нем также говорится, что Евросоюз считает '\n",
            " 'приоритетным на ближайшей сессии обсудить и ситуацию с правами человека в Сирии, где нарушается международное право. Также Совет ЕС обращает '\n",
            " 'внимание Совета ООН на критическое положение с правами человека в КНДР. Евросоюз совместно с Японией предложит на сессии создать независимый '\n",
            " 'механизм расследования ситуации с обеспечением прав человека в Северной Корее. Наконец, ЕС намерен активно поддержать продление мандата '\n",
            " 'специального докладчика ООН по правам человека в Иране и требования его срочного допуска в страну. Несмотря на то что в постановлении Совета ЕС '\n",
            " 'говорится о неприятной ситуации во многих странах, включая Шри-Ланку, Мали, Мьянму, Конго, Эритрею, Судан и Южный Судан, белорусский вопрос все же '\n",
            " 'оказался для европейцев приоритетным. Как сообщает белорусское информагентство «БелаПАН», на июньской сессии с докладом выступит спецдокладчик по '\n",
            " 'ситуации в Белоруссии Совета ООН по правам человека Миклош Харашти. 18 февраля на встрече с белорусскими журналистами в Киеве Харашти сообщил, что '\n",
            " 'в работе над докладом уделяет большое внимание вопросу о политзаключенных, условиям содержания в белорусских тюрьмах, соблюдению основных '\n",
            " 'политических и гражданских прав. Встреча состоялась в Киеве, в частности, по той причине, что белорусские власти отказываются сотрудничать со '\n",
            " 'специальным докладчиком ООН по вопросам прав человека и не пускают его в страну. Рассказывая о своей работе, спецдокладчик ООН подчеркнул: «Я '\n",
            " 'заинтересован в том, чтобы в своем докладе непредвзято отразить ситуацию в Белоруссии, в том числе позицию белорусского правительства, его видение '\n",
            " 'существующих проблем и пути их решения». Однако, добавил Харашти, пока он смог встретиться только с представителями гражданского общества '\n",
            " 'Белоруссии, причем встречи проходили за пределами страны, так как официальный Минск не признает его мандат спецдокладчика и не дает разрешение на '\n",
            " 'визит. «Мое самое большое желание – чтобы сотрудничество с правительством Белоруссии было бы таким же полным, как сейчас с гражданским обществом. '\n",
            " 'В этом заинтересованы и Совет ООН по правам человека, и верховный комиссар по правам человека», – заявил Харашти. Даже если обсуждение на площадке '\n",
            " 'ООН не приведет к введению против Минска международных санкций (например, если Россия заблокирует соответствующую резолюцию как член Совбеза), '\n",
            " 'сама инициатива ЕС говорит о том, что европейцы на политическом уровне решили серьезно ужесточить свое отношение к режиму Лукашенко , невзирая на '\n",
            " 'собственные экономические потери. Ныне действующие европейские и американские санкции в отношении Минска имеют давнюю историю. С 1996 года (когда '\n",
            " 'Александр Лукашенко волевым образом изменил законодательство) ЕС и США не признали ни одни прошедшие в Белоруссии выборы. После этого в разное '\n",
            " 'время Западом вводились и отменялись различные санкции. Ныне действующие были введены после бурных событий в конце 2010 года, когда в Минске '\n",
            " 'власти жестоко подавили массовые протесты против фальсификации президентских выборов, а за решеткой оказались семеро из девяти соперников '\n",
            " 'Лукашенко на выборах. С начала 2011 года Евросоюз и США применяют санкции в отношении 243 чиновников и 32 предприятий Белоруссии. Чиновников '\n",
            " 'обвиняют в преследовании инакомыслящих, участии в политических репрессиях, давлении на СМИ и фальсификации выборов. К этим санкциям присоединились '\n",
            " 'также Канада, Швейцария, Сербия и некоторые другие страны. Политические санкции предполагают снижение уровня представительства на переговорах, а '\n",
            " 'также отсутствие приглашений на официальные мероприятия, проводимые в странах, которые применяют санкции. В числе невъездных в ЕС и США – сам '\n",
            " 'Лукашенко и нынешний министр иностранных дел Владимир Макей. Европейцы категорически отказываются вести диалог с официальным с Минском до тех пор, '\n",
            " 'пока в белорусских тюрьмах содержатся политзаключенные. Их, по разным оценкам, от 13 до 15 человек, в том числе экс-кандидат в президенты Николай '\n",
            " 'Статкевич и номинированный на Нобелевскую премию мира правозащитник Алесь Беляцкий. Кроме того, с 1 июля 2013 года председательство в Европейском '\n",
            " 'союзе переходит к Литве. А с ней у Белоруссии весьма натянутые политические отношения, особенно с лета прошлого года, когда именно через '\n",
            " 'территорию Литвы в Белоруссию прилетел шведский самолет с «плюшевым десантом». До недавних пор трения между Минском и Вильнюсом сглаживало тесное '\n",
            " 'экономическое сотрудничество – значительная доля белорусского экспорта шла через порты Литвы, а белорусские покупатели обеспечивали 30–40% выручки '\n",
            " 'литовских супермаркетов. Но Александр Лукашенко в конце 2012 года пообещал переориентировать транзит из портов стран Балтии в порты в '\n",
            " 'Ленинградской области. А уже в январе белорусские власти занялись теми гражданами страны, которые, по их мнению, слишком активно ездят за '\n",
            " 'покупками в Литву и Польшу. «Вопрос прав человека в Белоруссии для ЕС – во многом ритуальный. Брюссель поднимает проблему, где только может, '\n",
            " 'говорит массу правильных слов и продолжает ввозить белорусские нефтепродукты, металлургию, лес и прочую продукцию, – говорит Андрей Поротников , '\n",
            " 'руководитель аналитического проекта Belarus Security Blog. – Я бы не стал преувеличивать значение события. Намерение европейцев вынести на '\n",
            " 'рассмотрение комиссии ООН вопрос соблюдения прав человека в Белоруссии свидетельствует лишь об отсутствии принципиальных изменений в '\n",
            " 'белорусско-европейских отношениях и не более. Обсуждение ООН белорусской проблематики имело место и раньше и никогда ни к чему реальному не '\n",
            " 'приводило». Впрочем, по мнению другого эксперта «Газеты.Ru», теперь Евросоюз настроен более решительно. «В 2012 году, несмотря на всю риторику о '\n",
            " 'нарушениях прав человека и политических свобод белорусским режимом, Брюссель не вводил новые экономические санкции против Минска. Просто потому, '\n",
            " 'что западные европейцы с удовольствием покупали дешевые белорусские нефтепродукты из российской нефти – те самые «разбавители» и «растворители», '\n",
            " 'из-за которых в конце года у Лукашенко и случился крупный конфликт с Кремлем, – напоминает Марек Паньковски, эксперт Объединенного ситуационного '\n",
            " 'центра ЕС (EU INTCEN). – Однако теперь с введением новых санкций – и именно экономических – согласны также главные в прошлом году покупатели '\n",
            " 'белорусских нефтепродуктов Германия и Нидерланды. А это значит, что экономические интересы отдельных стран Европы окончательно уступают '\n",
            " 'политическим интересам ЕС в целом. Это плохая новость для официального Минска». 12 февраля министр иностранных дел Нидерландов (на эту страну в '\n",
            " 'прошлом году приходилось около 10% торгового оборота Белоруссии) Франс Тиммерманс не исключил применения новых экономических санкций в отношении '\n",
            " 'белорусского режима в случае продолжения нарушения прав человека в Белоруссии. «Мы можем применить экономические санкции, если это будет '\n",
            " 'необходимо. Пока что среди моих европейских коллег нет однозначного мнения насчет их эффекта. Я думаю, что поддержка гражданского общества в '\n",
            " 'Беларуси сегодня не менее важна», — заявил он во время официального визита в Варшаву, отвечая на вопрос, готовы ли Нидерланды прекратить закупки '\n",
            " 'нефтепродуктов у Белоруссии.')\n",
            "------------------------------------------------------------------------------------------------------------------------------------------------------\n",
            "Исходное summary:\n",
            "('противостояние белоруссии и запада переходит на принципиально новый уровень. если до сих пор с репрессиями и несменяемой властью александра '\n",
            " 'лукашенко боролись исключительно европейцы при некоторой поддержке сша, то теперь поведение официального минска будет рассмотрено на специальной '\n",
            " 'сессии совета оон по правам человека, которая состоится в июне. с инициативой выступил ес. режиму лукашенко это может грозить серьезными '\n",
            " 'проблемами: даже если оон не примет против минска международных санкций, евросоюз ужесточит свои.')\n",
            "------------------------------------------------------------------------------------------------------------------------------------------------------\n",
            "TextRank summary:\n",
            "('несмотря на то что в постановлении совета ес говорится о неприятной ситуации во многих странах, включая шри-ланку, мали, мьянму, конго, эритрею, '\n",
            " 'судан и южный судан, белорусский вопрос все же оказался для европейцев приоритетным. даже если обсуждение на площадке оон не приведет к введению '\n",
            " 'против минска международных санкций (например, если россия заблокирует соответствующую резолюцию как член совбеза), сама инициатива ес говорит о '\n",
            " 'том, что европейцы на политическом уровне решили серьезно ужесточить свое отношение к режиму лукашенко , невзирая на собственные экономические '\n",
            " 'потери. 12 февраля министр иностранных дел нидерландов (на эту страну в прошлом году приходилось около 10% торгового оборота белоруссии) франс '\n",
            " 'тиммерманс не исключил применения новых экономических санкций в отношении белорусского режима в случае продолжения нарушения прав человека в '\n",
            " 'белоруссии. я думаю, что поддержка гражданского общества в беларуси сегодня не менее важна», — заявил он во время официального визита в варшаву, '\n",
            " 'отвечая на вопрос, готовы ли нидерланды прекратить закупки нефтепродуктов у белоруссии.')\n",
            "------------------------------------------------------------------------------------------------------------------------------------------------------\n",
            "BLEU:  0.30409069391234334\n"
          ],
          "name": "stdout"
        }
      ]
    },
    {
      "cell_type": "code",
      "metadata": {
        "id": "h35DcWLowtL-",
        "colab": {
          "base_uri": "https://localhost:8080/",
          "height": 765
        },
        "outputId": "62c1561e-7458-479a-ff4c-45f15ac1cd03"
      },
      "source": [
        "model.get_summary(train_records[2900])"
      ],
      "execution_count": null,
      "outputs": [
        {
          "output_type": "stream",
          "text": [
            "100%|██████████| 501M/501M [00:21<00:00, 23.3MB/s]\n"
          ],
          "name": "stderr"
        },
        {
          "output_type": "stream",
          "text": [
            "\n",
            "Count: 1\n",
            "Полный текст:\n",
            "('«Подтверждаю, что губернатор прилетел», — подтвердил ТАСС информацию о возвращении губернатора неназванный источник, близкий к Тулеев у. '\n",
            " 'Губернатор был доставлен в Кемеровскую область чартерным рейсом. Его встречал автомобиль скорой помощи и замгубернатора по медицине Валерий Цой. '\n",
            " 'Самочувствие Амана Тулеева называют хорошим. «Состояние губернатора стабильное, он чувствует себя значительно лучше. Сейчас он будет проходить '\n",
            " 'реабилитационный курс в регионе, будет включаться в работу, в том числе планирует проводить рабочие встречи с подчиненными», — добавил собеседник '\n",
            " 'агентства. Официально Тулеев находился в отпуске начиная с 22 мая. Изначально глава Кемеровской области взял отпуск на 10 дней, но после срок '\n",
            " 'неоднократно продлевался. Все это время обязанности главы региона исполнял первый заместитель губернатора Владимир Чернов. Операция на '\n",
            " 'позвоночнике губернатора длилась 9 часов и была проведена в клинике, расположенной в Германии. Врачи приняли решение расширить объемы оперативного '\n",
            " 'вмешательства. После операции также возник ряд осложнений, связанный с пневмонией. Трудности с дыханием были вызваны длительным постельным режимом '\n",
            " 'и лежачим образом жизни в течение лечения. С 11 июня Тулеев проходил курс реабилитации в Москве в Центральной клинической больнице управления '\n",
            " 'делами президента. Процесс восстановления после операции происходил под личным контролем министра здравоохранения России Вероники Скворцовой. '\n",
            " 'Решение о переезде Тулеева из Кузбасса (куда он вернулся после операции в немецкой больнице) в Москву было принято после видеоконференции по '\n",
            " 'инициативе начальницы Минздрава. «В кемеровский аэропорт для перелета в Москву Тулеева доставили в субботу, на борт МЧС его подняли на носилках. '\n",
            " 'После перелета в столицу главу Кузбасса госпитализировали в ЦКБ управления делами президента, где он проходит курс реабилитации. Его состояние '\n",
            " 'оценивается как удовлетворительное, он в сознании, общается по телефону с сослуживцами, бодр», — рассказал ТАСС источник в администрации '\n",
            " 'Кемеровской области. Тулеев возглавляет Кемеровскую область 20 лет — с 1997 года. Он является самым «долгоиграющим» губернатором в Российской '\n",
            " 'Федерации. В мае-июне 2017 года из-за долгого отсутствия политика на публике и рабочем месте в СМИ поползли слухи об уходе Тулеева с должности. '\n",
            " 'Было заметно, что 9 мая губернатор не участвовал в праздничных мероприятиях, посвященных Дню Победы. Пресс-служба администрации региона сообщила '\n",
            " '22 мая, что губернатор ушел в 10-дневный отпуск, который затем был продлен до 16 июня. Через два дня после этого в областной администрации '\n",
            " 'сообщили, что Тулеев «вновь продлил отпуск», однако на этот раз дата его завершения не называлась. Ранее был составлен список возможных преемников '\n",
            " 'главы Кузбасса. Согласно информации «Ъ», администрация президента составила список из 20 претендентов. Среди них упоминаются мэр Нижнего Тагила '\n",
            " 'Сергей Носов и депутат госдумы от Кемеровской области Дмитрий Исламов. Наиболее вероятной называлась кандидатура Носова , сделавшего политическую '\n",
            " 'карьеру именно на Урале. При этом против переезда Носова в Кемерово выступает Уральская горно-металлургическая компания (УГМК), располагающая '\n",
            " 'значительными активами на Кузбассе, с которой у мэра Нижнего Тагила «сложились сложные отношения». Аман Тулеев же хотел бы видеть в качестве '\n",
            " 'нового главы региона местного чиновника. Согласно словам Тулеева, долговая нагрузка области составляет примерно 75% от годового дохода. «В целом '\n",
            " 'доходная часть бюджета — 105,1 млрд руб., расходы — 109,2 млрд», — заявил политик летом 2016 года. Уходить с поста главы региона он не собирался. '\n",
            " '«У меня команда, я прошел с ними столько всего: от Кузбасса, сидящего на рельсах, до Кузбасса сегодняшнего», — рассказывал Тулеев агентству ТАСС. '\n",
            " '«В чем сила руководителей типа меня — я все прошел: советский период и перестройку, всегда был рядом с людьми, с шахтерами. И они все помнят. Все '\n",
            " 'было: и водку пили, и ругались, а это не забывается. Это достигается только за счет пятидесятилетнего опыта, когда ты каждое предприятие знаешь, '\n",
            " 'каждый угол знаешь, людей знаешь многих», — рассказал о духе своего правления кузбасский политический Мафусаил.')\n",
            "------------------------------------------------------------------------------------------------------------------------------------------------------\n",
            "Исходное summary:\n",
            "('глава кемеровской области аман тулеев вернулся в субботу из москвы в кемерово после пройденного курса постоперационной реабилитации. состояние '\n",
            " 'тулеева называют стабильным, он планирует постепенно включаться в работу. в мае политик перенес операцию на позвоночнике.')\n",
            "------------------------------------------------------------------------------------------------------------------------------------------------------\n",
            "TextRank summary:\n",
            "('изначально глава кемеровской области взял отпуск на 10 дней, но после срок неоднократно продлевался. решение о переезде тулеева из кузбасса (куда '\n",
            " 'он вернулся после операции в немецкой больнице) в москву было принято после видеоконференции по инициативе начальницы минздрава. «у меня команда, '\n",
            " 'я прошел с ними столько всего: от кузбасса, сидящего на рельсах, до кузбасса сегодняшнего», — рассказывал тулеев агентству тасс.')\n",
            "------------------------------------------------------------------------------------------------------------------------------------------------------\n",
            "BLEU:  0.32187566728843503\n"
          ],
          "name": "stdout"
        }
      ]
    },
    {
      "cell_type": "markdown",
      "metadata": {
        "id": "26MLJWw43CK3"
      },
      "source": [
        "Есть поддержка своих текстов."
      ]
    },
    {
      "cell_type": "code",
      "metadata": {
        "id": "TnyffJ7b2KX3",
        "colab": {
          "base_uri": "https://localhost:8080/",
          "height": 612
        },
        "outputId": "d2b9af0e-cd81-4462-aa74-6e3ccbc71b1c"
      },
      "source": [
        "model.get_summary(train_records[2900]['text'])"
      ],
      "execution_count": null,
      "outputs": [
        {
          "output_type": "stream",
          "text": [
            "Полный текст:\n",
            "('«Подтверждаю, что губернатор прилетел», — подтвердил ТАСС информацию о возвращении губернатора неназванный источник, близкий к Тулеев у. '\n",
            " 'Губернатор был доставлен в Кемеровскую область чартерным рейсом. Его встречал автомобиль скорой помощи и замгубернатора по медицине Валерий Цой. '\n",
            " 'Самочувствие Амана Тулеева называют хорошим. «Состояние губернатора стабильное, он чувствует себя значительно лучше. Сейчас он будет проходить '\n",
            " 'реабилитационный курс в регионе, будет включаться в работу, в том числе планирует проводить рабочие встречи с подчиненными», — добавил собеседник '\n",
            " 'агентства. Официально Тулеев находился в отпуске начиная с 22 мая. Изначально глава Кемеровской области взял отпуск на 10 дней, но после срок '\n",
            " 'неоднократно продлевался. Все это время обязанности главы региона исполнял первый заместитель губернатора Владимир Чернов. Операция на '\n",
            " 'позвоночнике губернатора длилась 9 часов и была проведена в клинике, расположенной в Германии. Врачи приняли решение расширить объемы оперативного '\n",
            " 'вмешательства. После операции также возник ряд осложнений, связанный с пневмонией. Трудности с дыханием были вызваны длительным постельным режимом '\n",
            " 'и лежачим образом жизни в течение лечения. С 11 июня Тулеев проходил курс реабилитации в Москве в Центральной клинической больнице управления '\n",
            " 'делами президента. Процесс восстановления после операции происходил под личным контролем министра здравоохранения России Вероники Скворцовой. '\n",
            " 'Решение о переезде Тулеева из Кузбасса (куда он вернулся после операции в немецкой больнице) в Москву было принято после видеоконференции по '\n",
            " 'инициативе начальницы Минздрава. «В кемеровский аэропорт для перелета в Москву Тулеева доставили в субботу, на борт МЧС его подняли на носилках. '\n",
            " 'После перелета в столицу главу Кузбасса госпитализировали в ЦКБ управления делами президента, где он проходит курс реабилитации. Его состояние '\n",
            " 'оценивается как удовлетворительное, он в сознании, общается по телефону с сослуживцами, бодр», — рассказал ТАСС источник в администрации '\n",
            " 'Кемеровской области. Тулеев возглавляет Кемеровскую область 20 лет — с 1997 года. Он является самым «долгоиграющим» губернатором в Российской '\n",
            " 'Федерации. В мае-июне 2017 года из-за долгого отсутствия политика на публике и рабочем месте в СМИ поползли слухи об уходе Тулеева с должности. '\n",
            " 'Было заметно, что 9 мая губернатор не участвовал в праздничных мероприятиях, посвященных Дню Победы. Пресс-служба администрации региона сообщила '\n",
            " '22 мая, что губернатор ушел в 10-дневный отпуск, который затем был продлен до 16 июня. Через два дня после этого в областной администрации '\n",
            " 'сообщили, что Тулеев «вновь продлил отпуск», однако на этот раз дата его завершения не называлась. Ранее был составлен список возможных преемников '\n",
            " 'главы Кузбасса. Согласно информации «Ъ», администрация президента составила список из 20 претендентов. Среди них упоминаются мэр Нижнего Тагила '\n",
            " 'Сергей Носов и депутат госдумы от Кемеровской области Дмитрий Исламов. Наиболее вероятной называлась кандидатура Носова , сделавшего политическую '\n",
            " 'карьеру именно на Урале. При этом против переезда Носова в Кемерово выступает Уральская горно-металлургическая компания (УГМК), располагающая '\n",
            " 'значительными активами на Кузбассе, с которой у мэра Нижнего Тагила «сложились сложные отношения». Аман Тулеев же хотел бы видеть в качестве '\n",
            " 'нового главы региона местного чиновника. Согласно словам Тулеева, долговая нагрузка области составляет примерно 75% от годового дохода. «В целом '\n",
            " 'доходная часть бюджета — 105,1 млрд руб., расходы — 109,2 млрд», — заявил политик летом 2016 года. Уходить с поста главы региона он не собирался. '\n",
            " '«У меня команда, я прошел с ними столько всего: от Кузбасса, сидящего на рельсах, до Кузбасса сегодняшнего», — рассказывал Тулеев агентству ТАСС. '\n",
            " '«В чем сила руководителей типа меня — я все прошел: советский период и перестройку, всегда был рядом с людьми, с шахтерами. И они все помнят. Все '\n",
            " 'было: и водку пили, и ругались, а это не забывается. Это достигается только за счет пятидесятилетнего опыта, когда ты каждое предприятие знаешь, '\n",
            " 'каждый угол знаешь, людей знаешь многих», — рассказал о духе своего правления кузбасский политический Мафусаил.')\n",
            "------------------------------------------------------------------------------------------------------------------------------------------------------\n",
            "TextRank summary:\n",
            "('изначально глава кемеровской области взял отпуск на 10 дней, но после срок неоднократно продлевался. решение о переезде тулеева из кузбасса (куда '\n",
            " 'он вернулся после операции в немецкой больнице) в москву было принято после видеоконференции по инициативе начальницы минздрава. «у меня команда, '\n",
            " 'я прошел с ними столько всего: от кузбасса, сидящего на рельсах, до кузбасса сегодняшнего», — рассказывал тулеев агентству тасс.')\n"
          ],
          "name": "stdout"
        }
      ]
    },
    {
      "cell_type": "markdown",
      "metadata": {
        "id": "-sp0kP0n7-JT"
      },
      "source": [
        "## LexRank"
      ]
    },
    {
      "cell_type": "markdown",
      "metadata": {
        "id": "KG53mZQTgJB0"
      },
      "source": [
        "### Теория"
      ]
    },
    {
      "cell_type": "markdown",
      "metadata": {
        "id": "3JJjlYTAgODr"
      },
      "source": [
        "LexRank используется для вычисления важности предложения на основе концепции центральности собственного вектора в представлении предложений с помощью графа.\n",
        "\n",
        "\n",
        "\n",
        "В LexRank у нас есть матрица связности, основанная на косинусном сходстве внутри предложения, которая используется в качестве матрицы смежности графа представления предложений. Выбирается центроидное предложение, которое работает как среднее для всех других предложений в документе. Затем предложения ранжируются по их сходству.\n",
        "\n"
      ]
    },
    {
      "cell_type": "markdown",
      "metadata": {
        "id": "3xdN_Ws-gKjT"
      },
      "source": [
        "### Пробуем на практике"
      ]
    },
    {
      "cell_type": "code",
      "metadata": {
        "colab": {
          "base_uri": "https://localhost:8080/"
        },
        "id": "5S7zXcY48JQN",
        "outputId": "67d806b0-7d50-4887-aef1-183411d99f97"
      },
      "source": [
        "model_name = 'distilbert-multilingual-nli-stsb-quora-ranking'\n",
        "lexrank_model = LexRank(model_name)\n",
        "lexrank_model.get_summary(train_records[4321], n_sentences_summary=3)"
      ],
      "execution_count": null,
      "outputs": [
        {
          "output_type": "stream",
          "text": [
            "100%|██████████| 501M/501M [00:17<00:00, 28.9MB/s]\n"
          ],
          "name": "stderr"
        },
        {
          "output_type": "stream",
          "text": [
            "\n",
            "Count: 1\n",
            "Полный текст:\n",
            "('Ситуацию в Белоруссии рассмотрят на заседании Совета ООН по правам человека. С таким предложением выступил Евросоюз. «Одним из главных приоритетов '\n",
            " 'ЕС в перспективе сессии Совета ООН по правам человека, которая состоится в июне, будет ситуация с правами человека в Белоруссии, которая '\n",
            " 'продолжает вызывать горячую обеспокоенность», – сказано в специальном постановлении Совета ЕС , принятом в связи с подготовкой регулярной сессии '\n",
            " 'Совета ООН. Документ был принят в понедельник в Брюсселе министрами иностранных дел стран ЕС. В нем также говорится, что Евросоюз считает '\n",
            " 'приоритетным на ближайшей сессии обсудить и ситуацию с правами человека в Сирии, где нарушается международное право. Также Совет ЕС обращает '\n",
            " 'внимание Совета ООН на критическое положение с правами человека в КНДР. Евросоюз совместно с Японией предложит на сессии создать независимый '\n",
            " 'механизм расследования ситуации с обеспечением прав человека в Северной Корее. Наконец, ЕС намерен активно поддержать продление мандата '\n",
            " 'специального докладчика ООН по правам человека в Иране и требования его срочного допуска в страну. Несмотря на то что в постановлении Совета ЕС '\n",
            " 'говорится о неприятной ситуации во многих странах, включая Шри-Ланку, Мали, Мьянму, Конго, Эритрею, Судан и Южный Судан, белорусский вопрос все же '\n",
            " 'оказался для европейцев приоритетным. Как сообщает белорусское информагентство «БелаПАН», на июньской сессии с докладом выступит спецдокладчик по '\n",
            " 'ситуации в Белоруссии Совета ООН по правам человека Миклош Харашти. 18 февраля на встрече с белорусскими журналистами в Киеве Харашти сообщил, что '\n",
            " 'в работе над докладом уделяет большое внимание вопросу о политзаключенных, условиям содержания в белорусских тюрьмах, соблюдению основных '\n",
            " 'политических и гражданских прав. Встреча состоялась в Киеве, в частности, по той причине, что белорусские власти отказываются сотрудничать со '\n",
            " 'специальным докладчиком ООН по вопросам прав человека и не пускают его в страну. Рассказывая о своей работе, спецдокладчик ООН подчеркнул: «Я '\n",
            " 'заинтересован в том, чтобы в своем докладе непредвзято отразить ситуацию в Белоруссии, в том числе позицию белорусского правительства, его видение '\n",
            " 'существующих проблем и пути их решения». Однако, добавил Харашти, пока он смог встретиться только с представителями гражданского общества '\n",
            " 'Белоруссии, причем встречи проходили за пределами страны, так как официальный Минск не признает его мандат спецдокладчика и не дает разрешение на '\n",
            " 'визит. «Мое самое большое желание – чтобы сотрудничество с правительством Белоруссии было бы таким же полным, как сейчас с гражданским обществом. '\n",
            " 'В этом заинтересованы и Совет ООН по правам человека, и верховный комиссар по правам человека», – заявил Харашти. Даже если обсуждение на площадке '\n",
            " 'ООН не приведет к введению против Минска международных санкций (например, если Россия заблокирует соответствующую резолюцию как член Совбеза), '\n",
            " 'сама инициатива ЕС говорит о том, что европейцы на политическом уровне решили серьезно ужесточить свое отношение к режиму Лукашенко , невзирая на '\n",
            " 'собственные экономические потери. Ныне действующие европейские и американские санкции в отношении Минска имеют давнюю историю. С 1996 года (когда '\n",
            " 'Александр Лукашенко волевым образом изменил законодательство) ЕС и США не признали ни одни прошедшие в Белоруссии выборы. После этого в разное '\n",
            " 'время Западом вводились и отменялись различные санкции. Ныне действующие были введены после бурных событий в конце 2010 года, когда в Минске '\n",
            " 'власти жестоко подавили массовые протесты против фальсификации президентских выборов, а за решеткой оказались семеро из девяти соперников '\n",
            " 'Лукашенко на выборах. С начала 2011 года Евросоюз и США применяют санкции в отношении 243 чиновников и 32 предприятий Белоруссии. Чиновников '\n",
            " 'обвиняют в преследовании инакомыслящих, участии в политических репрессиях, давлении на СМИ и фальсификации выборов. К этим санкциям присоединились '\n",
            " 'также Канада, Швейцария, Сербия и некоторые другие страны. Политические санкции предполагают снижение уровня представительства на переговорах, а '\n",
            " 'также отсутствие приглашений на официальные мероприятия, проводимые в странах, которые применяют санкции. В числе невъездных в ЕС и США – сам '\n",
            " 'Лукашенко и нынешний министр иностранных дел Владимир Макей. Европейцы категорически отказываются вести диалог с официальным с Минском до тех пор, '\n",
            " 'пока в белорусских тюрьмах содержатся политзаключенные. Их, по разным оценкам, от 13 до 15 человек, в том числе экс-кандидат в президенты Николай '\n",
            " 'Статкевич и номинированный на Нобелевскую премию мира правозащитник Алесь Беляцкий. Кроме того, с 1 июля 2013 года председательство в Европейском '\n",
            " 'союзе переходит к Литве. А с ней у Белоруссии весьма натянутые политические отношения, особенно с лета прошлого года, когда именно через '\n",
            " 'территорию Литвы в Белоруссию прилетел шведский самолет с «плюшевым десантом». До недавних пор трения между Минском и Вильнюсом сглаживало тесное '\n",
            " 'экономическое сотрудничество – значительная доля белорусского экспорта шла через порты Литвы, а белорусские покупатели обеспечивали 30–40% выручки '\n",
            " 'литовских супермаркетов. Но Александр Лукашенко в конце 2012 года пообещал переориентировать транзит из портов стран Балтии в порты в '\n",
            " 'Ленинградской области. А уже в январе белорусские власти занялись теми гражданами страны, которые, по их мнению, слишком активно ездят за '\n",
            " 'покупками в Литву и Польшу. «Вопрос прав человека в Белоруссии для ЕС – во многом ритуальный. Брюссель поднимает проблему, где только может, '\n",
            " 'говорит массу правильных слов и продолжает ввозить белорусские нефтепродукты, металлургию, лес и прочую продукцию, – говорит Андрей Поротников , '\n",
            " 'руководитель аналитического проекта Belarus Security Blog. – Я бы не стал преувеличивать значение события. Намерение европейцев вынести на '\n",
            " 'рассмотрение комиссии ООН вопрос соблюдения прав человека в Белоруссии свидетельствует лишь об отсутствии принципиальных изменений в '\n",
            " 'белорусско-европейских отношениях и не более. Обсуждение ООН белорусской проблематики имело место и раньше и никогда ни к чему реальному не '\n",
            " 'приводило». Впрочем, по мнению другого эксперта «Газеты.Ru», теперь Евросоюз настроен более решительно. «В 2012 году, несмотря на всю риторику о '\n",
            " 'нарушениях прав человека и политических свобод белорусским режимом, Брюссель не вводил новые экономические санкции против Минска. Просто потому, '\n",
            " 'что западные европейцы с удовольствием покупали дешевые белорусские нефтепродукты из российской нефти – те самые «разбавители» и «растворители», '\n",
            " 'из-за которых в конце года у Лукашенко и случился крупный конфликт с Кремлем, – напоминает Марек Паньковски, эксперт Объединенного ситуационного '\n",
            " 'центра ЕС (EU INTCEN). – Однако теперь с введением новых санкций – и именно экономических – согласны также главные в прошлом году покупатели '\n",
            " 'белорусских нефтепродуктов Германия и Нидерланды. А это значит, что экономические интересы отдельных стран Европы окончательно уступают '\n",
            " 'политическим интересам ЕС в целом. Это плохая новость для официального Минска». 12 февраля министр иностранных дел Нидерландов (на эту страну в '\n",
            " 'прошлом году приходилось около 10% торгового оборота Белоруссии) Франс Тиммерманс не исключил применения новых экономических санкций в отношении '\n",
            " 'белорусского режима в случае продолжения нарушения прав человека в Белоруссии. «Мы можем применить экономические санкции, если это будет '\n",
            " 'необходимо. Пока что среди моих европейских коллег нет однозначного мнения насчет их эффекта. Я думаю, что поддержка гражданского общества в '\n",
            " 'Беларуси сегодня не менее важна», — заявил он во время официального визита в Варшаву, отвечая на вопрос, готовы ли Нидерланды прекратить закупки '\n",
            " 'нефтепродуктов у Белоруссии.')\n",
            "------------------------------------------------------------------------------------------------------------------------------------------------------\n",
            "Исходное summary:\n",
            "('Противостояние Белоруссии и Запада переходит на принципиально новый уровень. Если до сих пор с репрессиями и несменяемой властью Александра '\n",
            " 'Лукашенко боролись исключительно европейцы при некоторой поддержке США, то теперь поведение официального Минска будет рассмотрено на специальной '\n",
            " 'сессии Совета ООН по правам человека, которая состоится в июне. С инициативой выступил ЕС. Режиму Лукашенко это может грозить серьезными '\n",
            " 'проблемами: даже если ООН не примет против Минска международных санкций, Евросоюз ужесточит свои.')\n",
            "------------------------------------------------------------------------------------------------------------------------------------------------------\n",
            "LexRank summary:\n",
            "('Даже если обсуждение на площадке ООН не приведет к введению против Минска международных санкций (например, если Россия заблокирует соответствующую '\n",
            " 'резолюцию как член Совбеза), сама инициатива ЕС говорит о том, что европейцы на политическом уровне решили серьезно ужесточить свое отношение к '\n",
            " 'режиму Лукашенко , невзирая на собственные экономические потери. Намерение европейцев вынести на рассмотрение комиссии ООН вопрос соблюдения прав '\n",
            " 'человека в Белоруссии свидетельствует лишь об отсутствии принципиальных изменений в белорусско-европейских отношениях и не более. 12 февраля '\n",
            " 'министр иностранных дел Нидерландов (на эту страну в прошлом году приходилось около 10% торгового оборота Белоруссии) Франс Тиммерманс не исключил '\n",
            " 'применения новых экономических санкций в отношении белорусского режима в случае продолжения нарушения прав человека в Белоруссии.')\n",
            "------------------------------------------------------------------------------------------------------------------------------------------------------\n",
            "BLEU:  0.3568631835520593\n"
          ],
          "name": "stdout"
        }
      ]
    },
    {
      "cell_type": "markdown",
      "metadata": {
        "id": "E3LTdpmGX916"
      },
      "source": [
        "### Test LexRank"
      ]
    },
    {
      "cell_type": "code",
      "metadata": {
        "id": "JtvhVzL1CcXg",
        "colab": {
          "base_uri": "https://localhost:8080/"
        },
        "outputId": "e886bd24-d87b-4eee-cdcf-7d1672a1f4a5"
      },
      "source": [
        "lexrank_model.get_summary(train_records[4321], n_sentences_summary=3, only_blue=True)"
      ],
      "execution_count": null,
      "outputs": [
        {
          "output_type": "execute_result",
          "data": {
            "text/plain": [
              "0.3568631835520593"
            ]
          },
          "metadata": {
            "tags": []
          },
          "execution_count": 8
        }
      ]
    },
    {
      "cell_type": "code",
      "metadata": {
        "colab": {
          "base_uri": "https://localhost:8080/"
        },
        "id": "ADtWue7XFUDO",
        "outputId": "d74aad7d-1784-4b90-82d4-469d87604a30"
      },
      "source": [
        "lexrank_model.get_summary(train_records[14]['text'])"
      ],
      "execution_count": null,
      "outputs": [
        {
          "output_type": "stream",
          "text": [
            "Полный текст:\n",
            "('В пятницу, 27 мая, в столичном регионе давление повысится до 749 мм рт. ст. Как пояснили «Газете.Ru» в центре «Фобос» , из-за этого солнце сильнее '\n",
            " 'прогреет воздух: днем ожидается +22…+27°С (ночью +9…+14°С). Атмосфера станет неустойчивой, а это, в свою очередь, вызовет короткие дожди и грозы — '\n",
            " 'преимущественно днем. Из-за духоты, которая всегда возникает перед грозой, жара будет переноситься еще хуже, так что всем страдающим от '\n",
            " 'сердечно-сосудистых заболеваний или болезней органов дыхания стоит быть втройне осторожнее. Ветер ночью переменных направлений, слабый, днем '\n",
            " 'восточный, северо-восточный, 3–8 м/с, при грозе — порывистый. Последний уикенд весны поддержит погодный тренд: синоптическая ситуация в Москве '\n",
            " 'существенно не изменится. Оба дня переменная облачность, днем местами кратковременный дождь, не исключена гроза. Давление высокое — 751 мм рт. '\n",
            " 'ст., ветер в субботу южный, в воскресенье — северо-восточный, оба дня скорость одинаковая, 3–8 м/с. Температура воздуха ночью +9…+14°С, днем '\n",
            " '+22…+27°С. Охладить пыл и остудить голову советуем на фестивале мороженого, который пройдет с 12.00 в эти два дня в парке «Сокольники». 30 мая, '\n",
            " 'понедельник, не станет исключением в череде теплой, но неустойчивой погоды. В этот день ожидается переменная облачность, кратковременный дождь, '\n",
            " 'местами возможна гроза. Температура воздуха ночью +11…+16°С, днем +22…+27°С. Ветер восточный, 3–8 м/с. Атмосферный фон по-прежнему повышенный — '\n",
            " '749 мм рт. ст. Во вторник, 31 мая, Москва окажется на границе взаимодействия антициклона на северо-востоке и циклона на западе. Антициклон будет '\n",
            " 'отвечать за высокое — 750 мм рт. ст. — давление, а циклон благодаря «приспешникам» — облачным полям — за пасмурную погоду и ограниченный прогрев '\n",
            " 'воздуха. Местами кратковременный дождь. Температура воздуха ночью +10…+15°С, днем +15…+20°С, местами до +23°С. Ветер восточный, 5–10 м/с. В первый '\n",
            " 'день календарного лета в Московском регионе будет не по сезону прохладно. Причиной тому станут плотные облачные поля, которые не позволят воздуху '\n",
            " 'прогреваться, да и без коротких локальных дождей не обойдется. Ветер восточный, 5–10 м/с. Давление в среду, 1 июня, высокое, 752 мм рт. ст. '\n",
            " 'Температура воздуха ночью +7…+12°С, днем +13…+18°С. Впрочем, это не должно стать помехой семейному отдыху, особенно в День детей, совмещенный с '\n",
            " 'Днем родителей. Выберите с ребенком, куда сходить и чем заняться, или «выгуляйте» собственных маму с папой. В четверг, 2 июня, в облачных полях '\n",
            " 'над столицей начнут появляться прояснения, что незамедлительно скажется на температурном режиме. Повлияет, разумеется, исключительно в '\n",
            " 'положительном смысле. Температура воздуха начнет повышаться, а вероятность дождей заметно понизится, и, как осторожно предполагают синоптики, в '\n",
            " 'этот день осадков не будет вовсе. Температура воздуха ночью +6…+11°С, днем +15…+20°С. Ветер восточный, юго-восточный, 4–9 м/с. Атмосферный фон '\n",
            " 'повышенный — 751 мм рт. ст. В пятницу циклон с запада начнет усиливать свое влияния в столичном регионе. Вероятность небольших дождей днем 3 июня '\n",
            " 'увеличится, но при этом и температурный фон начнет повышаться. Облачно с прояснениями. Температура воздуха ночью +8…+13°С, днем +16…+21°С. Ветер '\n",
            " 'юго-восточный, 4–9 м/с. Давление резко ухнет вниз и остановится на отметке 742 мм рт. ст. Метеозависимых бедняг в вечер пятницы будет шатать не '\n",
            " 'хуже тех, кто только вылез из бара. В субботу, 4 июня, в столичный регион с юго-восточными ветрами (4–9 м/с) продолжится поступление теплых и '\n",
            " 'неустойчивых воздушных масс. Они станут причиной облачности и периодических дождей. Но нет худа без добра: благодаря тем же массам температурный '\n",
            " 'режим вернется в норму. Вот бы сказать то же самое о графике сна и бодрствования у школьников на летних каникулах! Но вернемся к климатической '\n",
            " 'норме. Температура воздуха ночью +8…+13°С, днем +18…+23°С. Давление продолжает стремительно падать и в этот день составит 736 мм рт. ст. В '\n",
            " 'воскресенье, 5 июня, атмосферное давление немного подрастет — до 739 мм рт. ст. Из-за этого в облачных полях появится больше прояснений, но без '\n",
            " 'коротких локальных дождей все же не обойдется. В перерывах между ними стоит все же выбраться на свежий воздух и попробовать одно из новых для себя '\n",
            " 'занятий: от йоги до катания на сигвеях. Температура воздуха ночью +9…+14°С, днем +18…+23°С. Ветер южный, 3–8 м/с.')\n",
            "------------------------------------------------------------------------------------------------------------------------------------------------------\n",
            "LextRank summary:\n",
            "('Температура воздуха ночью +8…+13°С, днем +18…+23°С. Давление продолжает стремительно падать и в этот день составит 736 мм рт. ст. В воскресенье, 5 '\n",
            " 'июня, атмосферное давление немного подрастет — до 739 мм рт. ст. Из-за этого в облачных полях появится больше прояснений, но без коротких '\n",
            " 'локальных дождей все же не обойдется. Температура воздуха начнет повышаться, а вероятность дождей заметно понизится, и, как осторожно предполагают '\n",
            " 'синоптики, в этот день осадков не будет вовсе. Антициклон будет отвечать за высокое — 750 мм рт. ст. — давление, а циклон благодаря «приспешникам» '\n",
            " '— облачным полям — за пасмурную погоду и ограниченный прогрев воздуха.')\n"
          ],
          "name": "stdout"
        }
      ]
    },
    {
      "cell_type": "markdown",
      "metadata": {
        "id": "AKKfKb1kLt6H"
      },
      "source": [
        "\n",
        "\n",
        "---\n",
        "\n"
      ]
    },
    {
      "cell_type": "markdown",
      "metadata": {
        "id": "YCVBPxzcmYN6"
      },
      "source": [
        "# Abstractive summarization mT5"
      ]
    },
    {
      "cell_type": "markdown",
      "metadata": {
        "id": "cDY3loK1KmjK"
      },
      "source": [
        "![Текст ссылки](https://miro.medium.com/max/2003/1*D0J1gNQf8vrrUpKeyD8wPA.png)\n"
      ]
    },
    {
      "cell_type": "markdown",
      "metadata": {
        "id": "gj780TXEJ4MY"
      },
      "source": [
        "\"Text-to-Text Transfer Transformer\" **T5** - это представитель семейства Transformer, в отличие от BERT, T5 полноценная seq2seq модель. \n",
        "Очевидная новая идея, лежащая в основе этой работы, заключается в том, что это модель преобразования текста в текст: во время обучения модели предлагается создать новый текст в качестве выходных данных, даже для обучающих задач, которые обычно моделируются как задачи классификации и регрессии с большим количеством более простые виды вывода. Однако эта идея, похоже, была выбрана из соображений инженерного удобства, и нет никаких доказательств того, что она необходима для полученных результатов. Вместо этого, что делает эту работу успешной (и впечатляющей), так это то, что авторы взяли многие из лучших идей из ряда недавних работ по НЛП и проделали чрезвычайно хорошую работу по тщательному тестированию и уточнению каждой идеи по мере ее добавления. Это дало как очень хорошо настроенную модель, так и большое понимание тонкоструктурных проектных решений, которые используются для обучения языку большой нейронной сети общего назначения."
      ]
    },
    {
      "cell_type": "markdown",
      "metadata": {
        "id": "vlQC04TvLlve"
      },
      "source": [
        "mT5 - это мультиязычный аналог T5, кроме обучающего набора данных ничего нового добавлено не было."
      ]
    },
    {
      "cell_type": "code",
      "metadata": {
        "id": "UF5aC8-xm3-1"
      },
      "source": [
        "import argparse\n",
        "import glob\n",
        "import os\n",
        "import json\n",
        "import time\n",
        "import logging\n",
        "import random\n",
        "import re\n",
        "from itertools import chain\n",
        "from string import punctuation\n",
        "\n",
        "import torch.nn as nn\n",
        "import torch.nn.functional as F\n",
        "\n",
        "\n",
        "import pytorch_lightning as pl\n",
        "from torch.utils.data import Dataset, DataLoader\n",
        "from pytorch_lightning.loggers import WandbLogger\n",
        "\n",
        "import matplotlib.pyplot as plt\n",
        "\n",
        "from rouge import Rouge\n",
        "\n",
        "import torch\n",
        "import json\n",
        "import sentencepiece\n",
        "from transformers import T5Tokenizer, T5ForConditionalGeneration, T5Config, AdamW, get_linear_schedule_with_warmup"
      ],
      "execution_count": 7,
      "outputs": []
    },
    {
      "cell_type": "code",
      "metadata": {
        "colab": {
          "base_uri": "https://localhost:8080/",
          "height": 367,
          "referenced_widgets": [
            "d60392f7c32e4ebba9806bc9b9967194",
            "973bd3c8d34a4fb9bb0c0590c3733535",
            "b9fcc671d5f64cd09f45b875b1b9345e",
            "7a9c2750631b42dc94d632125492dac3",
            "163a69329d5a4823babba85e6cbc03f5",
            "f0f98888dc714f2a8901505e30f32ca0",
            "8d136b6301714cd3a1319c3c7c49f002",
            "0bbeb7742fbf437288cfe0167860dbe0",
            "110d08698fd041c7af94c79a7c3a47df",
            "da69683f6b8244b0be2b546b34da614b",
            "8a43e9f7321043698f894cb4ed162c63",
            "ef474776960e41d6ac5bfa300b4ec232",
            "2daf257798f14e89a650e8332b9e1051",
            "dbef3e0212084d24b7749cbaa0204969",
            "f070909e0f00485b9c7b419a7e01b513",
            "aa201747ef3945519b5f0d9f72b3669a",
            "d166d126b0384d36bc458ef02daf8d92",
            "9ca0c7d4d9a24829b34713e7a329ba42",
            "5c3a421a613c4507943b8e92abac645e",
            "055d081939c64d42a423028f5f637eee",
            "e2e9a13f76054dbaab903f8299287299",
            "583d9429c0294e448f1f941bb90c9411",
            "13bf1d993f2f480ebb3701d1d52fb0b6",
            "efe5a7af41d3494dab956413abd846fb",
            "75526fec624149dfbeded5e8d0bf3c83",
            "df219c36e85a4a279503b53422ef35c0",
            "6c799b58279c4ad0a599d772ae7ba708",
            "b290f7392306418e8a8b64b11d5e029a",
            "4be0190198c34bfca775c33d932e6c94",
            "c694dc788b3443028f414bd4eda34799",
            "02e7dc3f921d431b8003b781c1178820",
            "c8c0227045de4267ab827225ffac47d4",
            "5cc87941ac994ae9bdf1c79da548abe8",
            "47a3f8bf06724301b184bc4318b1cfc4",
            "186390bda23a45db8399626a6090cef5",
            "de71a4bbbcc74ae29cdd05f0c267eb8a",
            "49566ed1ff374f24ab27dedec3efc612",
            "bea5d58321e14fa29b5411ce14921d08",
            "462de526baf04309b4b37e35b83e9159",
            "58ded4eccbf8457b8f74390bee2cc3e4"
          ]
        },
        "id": "m8xie0CmnBkQ",
        "outputId": "bb1d8f18-7fae-4a44-93c1-afa741a77013"
      },
      "source": [
        "model = T5ForConditionalGeneration.from_pretrained('google/mt5-small')\n",
        "tokenizer = T5Tokenizer.from_pretrained('google/mt5-small')"
      ],
      "execution_count": 8,
      "outputs": [
        {
          "output_type": "display_data",
          "data": {
            "application/vnd.jupyter.widget-view+json": {
              "model_id": "d60392f7c32e4ebba9806bc9b9967194",
              "version_minor": 0,
              "version_major": 2
            },
            "text/plain": [
              "HBox(children=(FloatProgress(value=0.0, description='Downloading', max=553.0, style=ProgressStyle(description_…"
            ]
          },
          "metadata": {
            "tags": []
          }
        },
        {
          "output_type": "stream",
          "text": [
            "\n"
          ],
          "name": "stdout"
        },
        {
          "output_type": "display_data",
          "data": {
            "application/vnd.jupyter.widget-view+json": {
              "model_id": "110d08698fd041c7af94c79a7c3a47df",
              "version_minor": 0,
              "version_major": 2
            },
            "text/plain": [
              "HBox(children=(FloatProgress(value=0.0, description='Downloading', max=1200794589.0, style=ProgressStyle(descr…"
            ]
          },
          "metadata": {
            "tags": []
          }
        },
        {
          "output_type": "stream",
          "text": [
            "\n"
          ],
          "name": "stdout"
        },
        {
          "output_type": "stream",
          "text": [
            "Some weights of the model checkpoint at google/mt5-small were not used when initializing T5ForConditionalGeneration: ['encoder.block.0.layer.1.DenseReluDense.wi_0.weight', 'encoder.block.0.layer.1.DenseReluDense.wi_1.weight', 'encoder.block.1.layer.1.DenseReluDense.wi_0.weight', 'encoder.block.1.layer.1.DenseReluDense.wi_1.weight', 'encoder.block.2.layer.1.DenseReluDense.wi_0.weight', 'encoder.block.2.layer.1.DenseReluDense.wi_1.weight', 'encoder.block.3.layer.1.DenseReluDense.wi_0.weight', 'encoder.block.3.layer.1.DenseReluDense.wi_1.weight', 'encoder.block.4.layer.1.DenseReluDense.wi_0.weight', 'encoder.block.4.layer.1.DenseReluDense.wi_1.weight', 'encoder.block.5.layer.1.DenseReluDense.wi_0.weight', 'encoder.block.5.layer.1.DenseReluDense.wi_1.weight', 'encoder.block.6.layer.1.DenseReluDense.wi_0.weight', 'encoder.block.6.layer.1.DenseReluDense.wi_1.weight', 'encoder.block.7.layer.1.DenseReluDense.wi_0.weight', 'encoder.block.7.layer.1.DenseReluDense.wi_1.weight', 'decoder.block.0.layer.2.DenseReluDense.wi_0.weight', 'decoder.block.0.layer.2.DenseReluDense.wi_1.weight', 'decoder.block.1.layer.2.DenseReluDense.wi_0.weight', 'decoder.block.1.layer.2.DenseReluDense.wi_1.weight', 'decoder.block.2.layer.2.DenseReluDense.wi_0.weight', 'decoder.block.2.layer.2.DenseReluDense.wi_1.weight', 'decoder.block.3.layer.2.DenseReluDense.wi_0.weight', 'decoder.block.3.layer.2.DenseReluDense.wi_1.weight', 'decoder.block.4.layer.2.DenseReluDense.wi_0.weight', 'decoder.block.4.layer.2.DenseReluDense.wi_1.weight', 'decoder.block.5.layer.2.DenseReluDense.wi_0.weight', 'decoder.block.5.layer.2.DenseReluDense.wi_1.weight', 'decoder.block.6.layer.2.DenseReluDense.wi_0.weight', 'decoder.block.6.layer.2.DenseReluDense.wi_1.weight', 'decoder.block.7.layer.2.DenseReluDense.wi_0.weight', 'decoder.block.7.layer.2.DenseReluDense.wi_1.weight']\n",
            "- This IS expected if you are initializing T5ForConditionalGeneration from the checkpoint of a model trained on another task or with another architecture (e.g. initializing a BertForSequenceClassification model from a BertForPreTraining model).\n",
            "- This IS NOT expected if you are initializing T5ForConditionalGeneration from the checkpoint of a model that you expect to be exactly identical (initializing a BertForSequenceClassification model from a BertForSequenceClassification model).\n",
            "Some weights of T5ForConditionalGeneration were not initialized from the model checkpoint at google/mt5-small and are newly initialized: ['encoder.block.0.layer.1.DenseReluDense.wi.weight', 'encoder.block.1.layer.1.DenseReluDense.wi.weight', 'encoder.block.2.layer.1.DenseReluDense.wi.weight', 'encoder.block.3.layer.1.DenseReluDense.wi.weight', 'encoder.block.4.layer.1.DenseReluDense.wi.weight', 'encoder.block.5.layer.1.DenseReluDense.wi.weight', 'encoder.block.6.layer.1.DenseReluDense.wi.weight', 'encoder.block.7.layer.1.DenseReluDense.wi.weight', 'decoder.block.0.layer.1.EncDecAttention.relative_attention_bias.weight', 'decoder.block.0.layer.2.DenseReluDense.wi.weight', 'decoder.block.1.layer.2.DenseReluDense.wi.weight', 'decoder.block.2.layer.2.DenseReluDense.wi.weight', 'decoder.block.3.layer.2.DenseReluDense.wi.weight', 'decoder.block.4.layer.2.DenseReluDense.wi.weight', 'decoder.block.5.layer.2.DenseReluDense.wi.weight', 'decoder.block.6.layer.2.DenseReluDense.wi.weight', 'decoder.block.7.layer.2.DenseReluDense.wi.weight']\n",
            "You should probably TRAIN this model on a down-stream task to be able to use it for predictions and inference.\n"
          ],
          "name": "stderr"
        },
        {
          "output_type": "display_data",
          "data": {
            "application/vnd.jupyter.widget-view+json": {
              "model_id": "d166d126b0384d36bc458ef02daf8d92",
              "version_minor": 0,
              "version_major": 2
            },
            "text/plain": [
              "HBox(children=(FloatProgress(value=0.0, description='Downloading', max=4309802.0, style=ProgressStyle(descript…"
            ]
          },
          "metadata": {
            "tags": []
          }
        },
        {
          "output_type": "stream",
          "text": [
            "\n"
          ],
          "name": "stdout"
        },
        {
          "output_type": "display_data",
          "data": {
            "application/vnd.jupyter.widget-view+json": {
              "model_id": "75526fec624149dfbeded5e8d0bf3c83",
              "version_minor": 0,
              "version_major": 2
            },
            "text/plain": [
              "HBox(children=(FloatProgress(value=0.0, description='Downloading', max=99.0, style=ProgressStyle(description_w…"
            ]
          },
          "metadata": {
            "tags": []
          }
        },
        {
          "output_type": "stream",
          "text": [
            "\n"
          ],
          "name": "stdout"
        },
        {
          "output_type": "display_data",
          "data": {
            "application/vnd.jupyter.widget-view+json": {
              "model_id": "5cc87941ac994ae9bdf1c79da548abe8",
              "version_minor": 0,
              "version_major": 2
            },
            "text/plain": [
              "HBox(children=(FloatProgress(value=0.0, description='Downloading', max=82.0, style=ProgressStyle(description_w…"
            ]
          },
          "metadata": {
            "tags": []
          }
        },
        {
          "output_type": "stream",
          "text": [
            "\n"
          ],
          "name": "stdout"
        }
      ]
    },
    {
      "cell_type": "markdown",
      "metadata": {
        "id": "i_SWpRI-INA0"
      },
      "source": [
        "## Zero-shot"
      ]
    },
    {
      "cell_type": "markdown",
      "metadata": {
        "id": "14ksnIuANHa7"
      },
      "source": [
        "Попробуем сначала использовать модель \"из коробки\" не дообучая на своих данных."
      ]
    },
    {
      "cell_type": "code",
      "metadata": {
        "id": "JnSXlSQ3ue35"
      },
      "source": [
        "device = torch.device('cpu')"
      ],
      "execution_count": null,
      "outputs": []
    },
    {
      "cell_type": "code",
      "metadata": {
        "id": "AWjFSBkcml7l",
        "colab": {
          "base_uri": "https://localhost:8080/"
        },
        "outputId": "2b5246e9-b5b6-49dd-c6e4-9f2deb90d815"
      },
      "source": [
        "pprint(train_records[4321], width=150)"
      ],
      "execution_count": null,
      "outputs": [
        {
          "output_type": "stream",
          "text": [
            "{'date': '2013-02-19 13:14:02',\n",
            " 'summary': 'Противостояние Белоруссии и Запада переходит на принципиально новый уровень. Если до сих пор с репрессиями и несменяемой властью '\n",
            "            'Александра Лукашенко боролись исключительно европейцы при некоторой поддержке США, то теперь поведение официального Минска будет '\n",
            "            'рассмотрено на специальной сессии Совета ООН по правам человека, которая состоится в июне. С инициативой выступил ЕС. Режиму Лукашенко '\n",
            "            'это может грозить серьезными проблемами: даже если ООН не примет против Минска международных санкций, Евросоюз ужесточит свои.',\n",
            " 'text': 'Ситуацию в Белоруссии рассмотрят на заседании Совета ООН по правам человека. С таким предложением выступил Евросоюз. «Одним из главных '\n",
            "         'приоритетов ЕС в перспективе сессии Совета ООН по правам человека, которая состоится в июне, будет ситуация с правами человека в '\n",
            "         'Белоруссии, которая продолжает вызывать горячую обеспокоенность», – сказано в специальном постановлении Совета ЕС , принятом в связи с '\n",
            "         'подготовкой регулярной сессии Совета ООН. Документ был принят в понедельник в Брюсселе министрами иностранных дел стран ЕС. В нем также '\n",
            "         'говорится, что Евросоюз считает приоритетным на ближайшей сессии обсудить и ситуацию с правами человека в Сирии, где нарушается '\n",
            "         'международное право. Также Совет ЕС обращает внимание Совета ООН на критическое положение с правами человека в КНДР. Евросоюз совместно с '\n",
            "         'Японией предложит на сессии создать независимый механизм расследования ситуации с обеспечением прав человека в Северной Корее. Наконец, ЕС '\n",
            "         'намерен активно поддержать продление мандата специального докладчика ООН по правам человека в Иране и требования его срочного допуска в '\n",
            "         'страну. Несмотря на то что в постановлении Совета ЕС говорится о неприятной ситуации во многих странах, включая Шри-Ланку, Мали, Мьянму, '\n",
            "         'Конго, Эритрею, Судан и Южный Судан, белорусский вопрос все же оказался для европейцев приоритетным. Как сообщает белорусское '\n",
            "         'информагентство «БелаПАН», на июньской сессии с докладом выступит спецдокладчик по ситуации в Белоруссии Совета ООН по правам человека '\n",
            "         'Миклош Харашти. 18 февраля на встрече с белорусскими журналистами в Киеве Харашти сообщил, что в работе над докладом уделяет большое '\n",
            "         'внимание вопросу о политзаключенных, условиям содержания в белорусских тюрьмах, соблюдению основных политических и гражданских прав. '\n",
            "         'Встреча состоялась в Киеве, в частности, по той причине, что белорусские власти отказываются сотрудничать со специальным докладчиком ООН '\n",
            "         'по вопросам прав человека и не пускают его в страну. Рассказывая о своей работе, спецдокладчик ООН подчеркнул: «Я заинтересован в том, '\n",
            "         'чтобы в своем докладе непредвзято отразить ситуацию в Белоруссии, в том числе позицию белорусского правительства, его видение существующих '\n",
            "         'проблем и пути их решения». Однако, добавил Харашти, пока он смог встретиться только с представителями гражданского общества Белоруссии, '\n",
            "         'причем встречи проходили за пределами страны, так как официальный Минск не признает его мандат спецдокладчика и не дает разрешение на '\n",
            "         'визит. «Мое самое большое желание – чтобы сотрудничество с правительством Белоруссии было бы таким же полным, как сейчас с гражданским '\n",
            "         'обществом. В этом заинтересованы и Совет ООН по правам человека, и верховный комиссар по правам человека», – заявил Харашти. Даже если '\n",
            "         'обсуждение на площадке ООН не приведет к введению против Минска международных санкций (например, если Россия заблокирует соответствующую '\n",
            "         'резолюцию как член Совбеза), сама инициатива ЕС говорит о том, что европейцы на политическом уровне решили серьезно ужесточить свое '\n",
            "         'отношение к режиму Лукашенко , невзирая на собственные экономические потери. Ныне действующие европейские и американские санкции в '\n",
            "         'отношении Минска имеют давнюю историю. С 1996 года (когда Александр Лукашенко волевым образом изменил законодательство) ЕС и США не '\n",
            "         'признали ни одни прошедшие в Белоруссии выборы. После этого в разное время Западом вводились и отменялись различные санкции. Ныне '\n",
            "         'действующие были введены после бурных событий в конце 2010 года, когда в Минске власти жестоко подавили массовые протесты против '\n",
            "         'фальсификации президентских выборов, а за решеткой оказались семеро из девяти соперников Лукашенко на выборах. С начала 2011 года Евросоюз '\n",
            "         'и США применяют санкции в отношении 243 чиновников и 32 предприятий Белоруссии. Чиновников обвиняют в преследовании инакомыслящих, участии '\n",
            "         'в политических репрессиях, давлении на СМИ и фальсификации выборов. К этим санкциям присоединились также Канада, Швейцария, Сербия и '\n",
            "         'некоторые другие страны. Политические санкции предполагают снижение уровня представительства на переговорах, а также отсутствие '\n",
            "         'приглашений на официальные мероприятия, проводимые в странах, которые применяют санкции. В числе невъездных в ЕС и США – сам Лукашенко и '\n",
            "         'нынешний министр иностранных дел Владимир Макей. Европейцы категорически отказываются вести диалог с официальным с Минском до тех пор, '\n",
            "         'пока в белорусских тюрьмах содержатся политзаключенные. Их, по разным оценкам, от 13 до 15 человек, в том числе экс-кандидат в президенты '\n",
            "         'Николай Статкевич и номинированный на Нобелевскую премию мира правозащитник Алесь Беляцкий. Кроме того, с 1 июля 2013 года '\n",
            "         'председательство в Европейском союзе переходит к Литве. А с ней у Белоруссии весьма натянутые политические отношения, особенно с лета '\n",
            "         'прошлого года, когда именно через территорию Литвы в Белоруссию прилетел шведский самолет с «плюшевым десантом». До недавних пор трения '\n",
            "         'между Минском и Вильнюсом сглаживало тесное экономическое сотрудничество – значительная доля белорусского экспорта шла через порты Литвы, '\n",
            "         'а белорусские покупатели обеспечивали 30–40% выручки литовских супермаркетов. Но Александр Лукашенко в конце 2012 года пообещал '\n",
            "         'переориентировать транзит из портов стран Балтии в порты в Ленинградской области. А уже в январе белорусские власти занялись теми '\n",
            "         'гражданами страны, которые, по их мнению, слишком активно ездят за покупками в Литву и Польшу. «Вопрос прав человека в Белоруссии для ЕС – '\n",
            "         'во многом ритуальный. Брюссель поднимает проблему, где только может, говорит массу правильных слов и продолжает ввозить белорусские '\n",
            "         'нефтепродукты, металлургию, лес и прочую продукцию, – говорит Андрей Поротников , руководитель аналитического проекта Belarus Security '\n",
            "         'Blog. – Я бы не стал преувеличивать значение события. Намерение европейцев вынести на рассмотрение комиссии ООН вопрос соблюдения прав '\n",
            "         'человека в Белоруссии свидетельствует лишь об отсутствии принципиальных изменений в белорусско-европейских отношениях и не более. '\n",
            "         'Обсуждение ООН белорусской проблематики имело место и раньше и никогда ни к чему реальному не приводило». Впрочем, по мнению другого '\n",
            "         'эксперта «Газеты.Ru», теперь Евросоюз настроен более решительно. «В 2012 году, несмотря на всю риторику о нарушениях прав человека и '\n",
            "         'политических свобод белорусским режимом, Брюссель не вводил новые экономические санкции против Минска. Просто потому, что западные '\n",
            "         'европейцы с удовольствием покупали дешевые белорусские нефтепродукты из российской нефти – те самые «разбавители» и «растворители», из-за '\n",
            "         'которых в конце года у Лукашенко и случился крупный конфликт с Кремлем, – напоминает Марек Паньковски, эксперт Объединенного ситуационного '\n",
            "         'центра ЕС (EU INTCEN). – Однако теперь с введением новых санкций – и именно экономических – согласны также главные в прошлом году '\n",
            "         'покупатели белорусских нефтепродуктов Германия и Нидерланды. А это значит, что экономические интересы отдельных стран Европы окончательно '\n",
            "         'уступают политическим интересам ЕС в целом. Это плохая новость для официального Минска». 12 февраля министр иностранных дел Нидерландов '\n",
            "         '(на эту страну в прошлом году приходилось около 10% торгового оборота Белоруссии) Франс Тиммерманс не исключил применения новых '\n",
            "         'экономических санкций в отношении белорусского режима в случае продолжения нарушения прав человека в Белоруссии. «Мы можем применить '\n",
            "         'экономические санкции, если это будет необходимо. Пока что среди моих европейских коллег нет однозначного мнения насчет их эффекта. Я '\n",
            "         'думаю, что поддержка гражданского общества в Беларуси сегодня не менее важна», — заявил он во время официального визита в Варшаву, отвечая '\n",
            "         'на вопрос, готовы ли Нидерланды прекратить закупки нефтепродуктов у Белоруссии.',\n",
            " 'title': 'Белорусские репрессии дошли до ООН',\n",
            " 'url': 'https://www.gazeta.ru/politics/2013/02/19_a_4972913.shtml'}\n"
          ],
          "name": "stdout"
        }
      ]
    },
    {
      "cell_type": "code",
      "metadata": {
        "id": "uwBmVxk-poCf"
      },
      "source": [
        "tokenized_text = tokenizer.encode(train_records[4321]['text'], return_tensors=\"pt\").to(device)"
      ],
      "execution_count": null,
      "outputs": []
    },
    {
      "cell_type": "code",
      "metadata": {
        "colab": {
          "base_uri": "https://localhost:8080/"
        },
        "id": "vXwRkIH5qCz-",
        "outputId": "caa2aa94-a3d9-41f8-cce5-e227c88edc61"
      },
      "source": [
        "summary_ids = model.generate(tokenized_text,\n",
        "                                    num_beams=20,\n",
        "                                    no_repeat_ngram_size=2,\n",
        "                                    min_length=200,\n",
        "                                    max_length=400,\n",
        "                                    early_stopping=True)\n",
        "\n",
        "output = tokenizer.decode(summary_ids[0], skip_special_tokens=True)\n",
        "\n",
        "pprint(output, width=150)"
      ],
      "execution_count": null,
      "outputs": [
        {
          "output_type": "stream",
          "text": [
            "('<extra_id_0>. Кроме того, ЕС намерен активно поддержать продление мандата спецдокладчика на ближайшей сессии обсудить ситуацию с правами человека '\n",
            " 'в Сирии и в результате чего они будут принимать участие в заседании Совета ООН по правам человека. Также также говорится, что в случае обострения '\n",
            " 'конфликта с Россией нет никакого отношения к этому вопросу. По мнению эксперта «Белой газете.Ru» <extra_id_10>и <extra_id_25>. '\n",
            " '<extra_id_49>.жамит.com.uanicznych санкций в отношении белорусского режима. <extra_id_9>жами. Новости о политзаключенных. Минск, 18 февраля 2013 '\n",
            " 'г. по состоянию на несколько дней со дня официального визита в Варшаву с докладом. Павел Харашти. Фото: БЕЛОРУССКОЕ ПРАВО ЛЮДИ В РОССИЙСКОЙ '\n",
            " 'ГОСУДАРСТВЕННЫЙ ЦЕНТР ЕВРОПЕЙСКОГО СОВРЕМЕННО.')\n"
          ],
          "name": "stdout"
        }
      ]
    },
    {
      "cell_type": "markdown",
      "metadata": {
        "id": "nYO-i50INQbm"
      },
      "source": [
        "Такое себе, саммари вообще не про то."
      ]
    },
    {
      "cell_type": "code",
      "metadata": {
        "id": "-5N314yNeAqA"
      },
      "source": [
        ""
      ],
      "execution_count": null,
      "outputs": []
    }
  ]
}